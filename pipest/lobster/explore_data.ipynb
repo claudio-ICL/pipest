{
 "cells": [
  {
   "cell_type": "code",
   "execution_count": 1,
   "metadata": {},
   "outputs": [],
   "source": [
    "import sys\n",
    "import os\n",
    "import pickle\n",
    "path_pipest='/home/claudio/pipest/pipest/'\n",
    "path_lobster=path_pipest+'lobster/'\n",
    "path_data='./data/'\n",
    "sys.path.append(path_lobster+'py_scripts')"
   ]
  },
  {
   "cell_type": "code",
   "execution_count": 2,
   "metadata": {},
   "outputs": [],
   "source": [
    "import pandas as pd\n",
    "import numpy as np"
   ]
  },
  {
   "cell_type": "code",
   "execution_count": 3,
   "metadata": {},
   "outputs": [],
   "source": [
    "symbol='INTC'\n",
    "date='2019-01-22'\n",
    "time_window='34200-57600'"
   ]
  },
  {
   "cell_type": "code",
   "execution_count": 4,
   "metadata": {},
   "outputs": [
    {
     "name": "stdout",
     "output_type": "stream",
     "text": [
      "openmp.omp_get_max_threads(): 4\n"
     ]
    }
   ],
   "source": [
    "with open(path_data+'{}/{}_{}_{}'.format(symbol,symbol,date,time_window),'rb') as source:\n",
    "    data=pickle.load(source)"
   ]
  },
  {
   "cell_type": "code",
   "execution_count": 5,
   "metadata": {},
   "outputs": [
    {
     "data": {
      "text/plain": [
       "<prepare_from_lobster.DataToStore at 0x7f3662ea6850>"
      ]
     },
     "execution_count": 5,
     "metadata": {},
     "output_type": "execute_result"
    }
   ],
   "source": [
    "data"
   ]
  },
  {
   "cell_type": "code",
   "execution_count": 6,
   "metadata": {},
   "outputs": [
    {
     "data": {
      "text/html": [
       "<div>\n",
       "<style scoped>\n",
       "    .dataframe tbody tr th:only-of-type {\n",
       "        vertical-align: middle;\n",
       "    }\n",
       "\n",
       "    .dataframe tbody tr th {\n",
       "        vertical-align: top;\n",
       "    }\n",
       "\n",
       "    .dataframe thead th {\n",
       "        text-align: right;\n",
       "    }\n",
       "</style>\n",
       "<table border=\"1\" class=\"dataframe\">\n",
       "  <thead>\n",
       "    <tr style=\"text-align: right;\">\n",
       "      <th></th>\n",
       "      <th>time</th>\n",
       "      <th>mid_price</th>\n",
       "    </tr>\n",
       "  </thead>\n",
       "  <tbody>\n",
       "    <tr>\n",
       "      <th>0</th>\n",
       "      <td>34200.033144</td>\n",
       "      <td>489600.0</td>\n",
       "    </tr>\n",
       "    <tr>\n",
       "      <th>1</th>\n",
       "      <td>34200.033147</td>\n",
       "      <td>489600.0</td>\n",
       "    </tr>\n",
       "    <tr>\n",
       "      <th>2</th>\n",
       "      <td>34200.046630</td>\n",
       "      <td>489550.0</td>\n",
       "    </tr>\n",
       "    <tr>\n",
       "      <th>3</th>\n",
       "      <td>34200.051388</td>\n",
       "      <td>489550.0</td>\n",
       "    </tr>\n",
       "    <tr>\n",
       "      <th>4</th>\n",
       "      <td>34200.051481</td>\n",
       "      <td>488500.0</td>\n",
       "    </tr>\n",
       "    <tr>\n",
       "      <th>...</th>\n",
       "      <td>...</td>\n",
       "      <td>...</td>\n",
       "    </tr>\n",
       "    <tr>\n",
       "      <th>919033</th>\n",
       "      <td>57599.974084</td>\n",
       "      <td>483100.0</td>\n",
       "    </tr>\n",
       "    <tr>\n",
       "      <th>919034</th>\n",
       "      <td>57599.974124</td>\n",
       "      <td>483100.0</td>\n",
       "    </tr>\n",
       "    <tr>\n",
       "      <th>919035</th>\n",
       "      <td>57599.982038</td>\n",
       "      <td>483100.0</td>\n",
       "    </tr>\n",
       "    <tr>\n",
       "      <th>919036</th>\n",
       "      <td>57599.992019</td>\n",
       "      <td>483100.0</td>\n",
       "    </tr>\n",
       "    <tr>\n",
       "      <th>919037</th>\n",
       "      <td>57599.996849</td>\n",
       "      <td>483100.0</td>\n",
       "    </tr>\n",
       "  </tbody>\n",
       "</table>\n",
       "<p>919038 rows × 2 columns</p>\n",
       "</div>"
      ],
      "text/plain": [
       "                time  mid_price\n",
       "0       34200.033144   489600.0\n",
       "1       34200.033147   489600.0\n",
       "2       34200.046630   489550.0\n",
       "3       34200.051388   489550.0\n",
       "4       34200.051481   488500.0\n",
       "...              ...        ...\n",
       "919033  57599.974084   483100.0\n",
       "919034  57599.974124   483100.0\n",
       "919035  57599.982038   483100.0\n",
       "919036  57599.992019   483100.0\n",
       "919037  57599.996849   483100.0\n",
       "\n",
       "[919038 rows x 2 columns]"
      ]
     },
     "execution_count": 6,
     "metadata": {},
     "output_type": "execute_result"
    }
   ],
   "source": [
    "data.mid_price"
   ]
  },
  {
   "cell_type": "code",
   "execution_count": 7,
   "metadata": {},
   "outputs": [],
   "source": [
    "price=data.mid_price.copy()"
   ]
  },
  {
   "cell_type": "code",
   "execution_count": 8,
   "metadata": {},
   "outputs": [],
   "source": [
    "path_gte='/home/claudio/Documents/mechanics_gte/implementation/gte/'\n",
    "path_gtedata=path_gte+'data/'"
   ]
  },
  {
   "cell_type": "code",
   "execution_count": 9,
   "metadata": {},
   "outputs": [],
   "source": [
    "with open(path_gtedata+'{}/{}_{}_midprice'.format(symbol,symbol,date),'wb') as outfile:\n",
    "    pickle.dump(price,outfile)"
   ]
  }
 ],
 "metadata": {
  "kernelspec": {
   "display_name": "Python 3",
   "language": "python",
   "name": "python3"
  },
  "language_info": {
   "codemirror_mode": {
    "name": "ipython",
    "version": 3
   },
   "file_extension": ".py",
   "mimetype": "text/x-python",
   "name": "python",
   "nbconvert_exporter": "python",
   "pygments_lexer": "ipython3",
   "version": "3.7.6"
  }
 },
 "nbformat": 4,
 "nbformat_minor": 4
}
