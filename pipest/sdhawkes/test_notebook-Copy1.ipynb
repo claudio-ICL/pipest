{
 "cells": [
  {
   "cell_type": "code",
   "execution_count": 1,
   "metadata": {},
   "outputs": [],
   "source": [
    "import os\n",
    "path_pipest = os.path.abspath('./')\n",
    "n=0\n",
    "while (not os.path.basename(path_pipest)=='pipest') and (n<6):\n",
    "    path_pipest=os.path.dirname(path_pipest)\n",
    "    n+=1 \n",
    "if not os.path.basename(path_pipest)=='pipest':\n",
    "    raise ValueError(\"path_pipest not found. Instead: {}\".format(path_pipest))\n",
    "path_sdhawkes=path_pipest+'/sdhawkes_powerlaw'\n",
    "path_lobster=path_pipest+'/lobster_for_sdhawkes'\n",
    "path_lobster_data=path_lobster+'/data'\n",
    "path_lobster_pyscripts=path_lobster+'/py_scripts'\n",
    "path_models=path_pipest+'/models'"
   ]
  },
  {
   "cell_type": "code",
   "execution_count": 2,
   "metadata": {},
   "outputs": [
    {
     "name": "stdout",
     "output_type": "stream",
     "text": [
      "/home/claudio/pipest/sdhawkes_powerlaw\n",
      "sdhawkes_powerlaw\n",
      "/home/claudio/pipest/sdhawkes_powerlaw\n",
      "pipest\n"
     ]
    }
   ],
   "source": [
    "print(path_sdhawkes)\n",
    "print(os.path.basename(path_sdhawkes))\n",
    "print(os.path.dirname(path_sdhawkes+'/'))\n",
    "print(os.path.basename(os.path.dirname(path_sdhawkes)))"
   ]
  },
  {
   "cell_type": "code",
   "execution_count": 3,
   "metadata": {},
   "outputs": [],
   "source": [
    "import time\n",
    "import sys\n",
    "sys.path.append(path_sdhawkes+'/resources/')\n",
    "sys.path.append(path_sdhawkes+'/modelling/')\n",
    "sys.path.append(path_lobster_pyscripts+'/')"
   ]
  },
  {
   "cell_type": "code",
   "execution_count": 4,
   "metadata": {},
   "outputs": [
    {
     "ename": "SyntaxError",
     "evalue": "invalid syntax (plot_tools.py, line 116)",
     "output_type": "error",
     "traceback": [
      "Traceback \u001b[0;36m(most recent call last)\u001b[0m:\n",
      "  File \u001b[1;32m\"/home/claudio/anaconda3/lib/python3.7/site-packages/IPython/core/interactiveshell.py\"\u001b[0m, line \u001b[1;32m3331\u001b[0m, in \u001b[1;35mrun_code\u001b[0m\n    exec(code_obj, self.user_global_ns, self.user_ns)\n",
      "\u001b[0;36m  File \u001b[0;32m\"<ipython-input-4-1c92b809842e>\"\u001b[0;36m, line \u001b[0;32m7\u001b[0;36m, in \u001b[0;35m<module>\u001b[0;36m\u001b[0m\n\u001b[0;31m    import plot_tools\u001b[0m\n",
      "\u001b[0;36m  File \u001b[0;32m\"/home/claudio/pipest/sdhawkes_powerlaw/resources/plot_tools.py\"\u001b[0;36m, line \u001b[0;32m116\u001b[0m\n\u001b[0;31m    fname=path+'/'name\u001b[0m\n\u001b[0m                     ^\u001b[0m\n\u001b[0;31mSyntaxError\u001b[0m\u001b[0;31m:\u001b[0m invalid syntax\n"
     ]
    }
   ],
   "source": [
    "import pickle\n",
    "import numpy as np\n",
    "from scipy.ndimage.interpolation import shift as array_shift\n",
    "import pandas as pd\n",
    "import bisect\n",
    "import copy\n",
    "import plot_tools\n",
    "import matplotlib.pyplot as plt"
   ]
  },
  {
   "cell_type": "code",
   "execution_count": null,
   "metadata": {},
   "outputs": [],
   "source": [
    "import model as sd_hawkes_model\n",
    "import lob_model\n",
    "import computation\n",
    "import simulation\n",
    "import goodness_of_fit\n",
    "import mle_estimation as mle_estim\n",
    "import prepare_from_lobster as from_lobster\n",
    "import nonparam_estimation as nonparam_estim"
   ]
  },
  {
   "cell_type": "code",
   "execution_count": null,
   "metadata": {},
   "outputs": [],
   "source": [
    "import seaborn  # for good-looking plots\n",
    "from IPython.display import set_matplotlib_formats  # set the figures format to svg\n",
    "set_matplotlib_formats('svg')\n",
    "%matplotlib inline\n",
    "from mpl_toolkits.mplot3d import Axes3D"
   ]
  },
  {
   "cell_type": "code",
   "execution_count": null,
   "metadata": {},
   "outputs": [],
   "source": [
    "# symbol='INTC'\n",
    "# date='2019-01-02'\n",
    "# time_window='39600-39834'\n",
    "# with open(path_lobster_data+'/{}/{}_{}_{}'.format(symbol,symbol,date,time_window),'rb') as source:\n",
    "#     data=pickle.load(source)\n",
    "# with open(path_models+'/{}/{}_sdhawkes_{}_{}'.format(symbol,symbol,date,time_window), 'rb') as source:\n",
    "#     model=pickle.load(source)"
   ]
  },
  {
   "cell_type": "code",
   "execution_count": null,
   "metadata": {},
   "outputs": [],
   "source": [
    "# model.calibration.os_info"
   ]
  },
  {
   "cell_type": "code",
   "execution_count": null,
   "metadata": {},
   "outputs": [],
   "source": [
    "print(CLAUDIO)"
   ]
  },
  {
   "cell_type": "code",
   "execution_count": null,
   "metadata": {},
   "outputs": [],
   "source": [
    "n_states=[3,5]\n",
    "n_events = 4  # number of event types, $d_e$\n",
    "n_levels = 2\n",
    "upto_level = 2\n",
    "time_start=np.random.uniform()\n",
    "time_end=time_start+0.3*60*60\n",
    "model = sd_hawkes_model.sd_hawkes(\n",
    "    number_of_event_types=n_events,\n",
    "    number_of_lob_levels=n_levels,\n",
    "    list_of_n_states=n_states,\n",
    "    volume_imbalance_upto_level=upto_level)\n",
    "tot_n_states = model.state_enc.tot_n_states"
   ]
  },
  {
   "cell_type": "code",
   "execution_count": null,
   "metadata": {},
   "outputs": [],
   "source": [
    "# The transition probabilities $\\phi$\n",
    "phis = model.state_enc.generate_random_transition_prob(n_events=n_events).astype(np.float)\n",
    "\n",
    "# The base rates $\\nu$\n",
    "nus = 0.1*np.random.randint(low=15,high=25,size=n_events)\n",
    "\n",
    "# The impact coefficients $\\alpha$\n",
    "alphas = np.power(10,-np.random.uniform(low=1.0, high=1.5))\\\n",
    "*np.random.randint(low=0,high=8,size=(n_events, tot_n_states, n_events)).astype(np.float)\n",
    "\n",
    "\n",
    "# The decay coefficients $\\beta$\n",
    "betas = np.random.uniform(1.25025,2.1,size=(n_events, tot_n_states, n_events)).astype(np.float)\n",
    "\n",
    "\n",
    "# The Dirichlet parameters $\\gamma$\n",
    "gammas = np.random.uniform(low=1.5, high = 5.6,size=(tot_n_states,2*n_levels))\n",
    "\n"
   ]
  },
  {
   "cell_type": "code",
   "execution_count": null,
   "metadata": {},
   "outputs": [],
   "source": [
    "# symbol='INTC'\n",
    "# date='2019-01-15'\n",
    "# with open('./models/{}_{}_h_model'.format(symbol,date),'rb') as source:\n",
    "#     h_model=pickle.load(source)\n",
    "# with open('./models/{}_{}_orderBook_model'.format(symbol,date),'rb') as source:\n",
    "#     ob_model=pickle.load(source)\n",
    "# with open('./models/{}_{}_messageFile_model'.format(symbol,date),'rb') as source:\n",
    "#     mf_model=pickle.load(source)    "
   ]
  },
  {
   "cell_type": "code",
   "execution_count": null,
   "metadata": {},
   "outputs": [],
   "source": [
    "# phis = lob_model.correct_null_transition_prob(h_model.transition_probabilities)\n",
    "# nus=0.1*h_model.base_rates\n",
    "# alphas=0.5*h_model.impact_coefficients\n",
    "# betas=h_model.decay_coefficients\n",
    "# gammas=h_model.dirichlet_param\n"
   ]
  },
  {
   "cell_type": "code",
   "execution_count": null,
   "metadata": {},
   "outputs": [],
   "source": [
    "model.set_hawkes_parameters(nus,alphas,betas)\n",
    "model.set_dirichlet_parameters(gammas)\n",
    "model.set_transition_probabilities(phis)\n",
    "model.enforce_symmetry_in_transition_probabilities()"
   ]
  },
  {
   "cell_type": "code",
   "execution_count": null,
   "metadata": {},
   "outputs": [],
   "source": [
    "pre_times, pre_events, pre_states,pre_volumes = model.simulate(\n",
    "    time_start, time_end,max_number_of_events=7000,add_initial_cond=True,\n",
    "    store_results=True,report_full_volumes=False)\n",
    "time_end_antefact=np.array(pre_times[-1],copy=True)"
   ]
  },
  {
   "cell_type": "code",
   "execution_count": null,
   "metadata": {},
   "outputs": [],
   "source": [
    "print(pre_times.shape)\n",
    "print(pre_events.shape)\n",
    "print(pre_volumes.shape)"
   ]
  },
  {
   "cell_type": "code",
   "execution_count": null,
   "metadata": {},
   "outputs": [],
   "source": [
    "# pre_intens_history= model.compute_history_of_intensities(\n",
    "#     pre_times,\n",
    "#     pre_events,\n",
    "#     pre_states)\n",
    "# pre_tilda_intens_history= model.compute_history_of_tilda_intensities(\n",
    "#     pre_times,\n",
    "#     pre_events,\n",
    "#     pre_states)"
   ]
  },
  {
   "cell_type": "code",
   "execution_count": null,
   "metadata": {},
   "outputs": [],
   "source": [
    "# low_limit=0\n",
    "# up_limit=7200\n",
    "# idx=np.logical_and(pre_times<up_limit,pre_times>low_limit)\n",
    "# idx_history=np.logical_and(pre_intens_history[:,0]<up_limit,pre_intens_history[:,0]>low_limit)\n",
    "# # fig=plot_tools.plot_events_and_intensities(\n",
    "# #     1+pre_events[idx],pre_times[idx],pre_intens_history[idx_history,:],\n",
    "# #     save_fig=False\n",
    "# # )"
   ]
  },
  {
   "cell_type": "code",
   "execution_count": null,
   "metadata": {},
   "outputs": [],
   "source": [
    "# states_2D=model.produce_2Dstates(pre_states)\n",
    "# plot_tools.plot_events_and_states(pre_events+1,pre_times,pre_intens_history,states_2D,\n",
    "#                                 plot=True,\n",
    "#                                 save_fig=False,\n",
    "#                                   name='events_and_states_traject'\n",
    "#                                )"
   ]
  },
  {
   "cell_type": "code",
   "execution_count": null,
   "metadata": {},
   "outputs": [],
   "source": [
    "model.create_goodness_of_fit()\n",
    "model.goodness_of_fit.qq_plot_residuals(index_of_first_event_type=1)"
   ]
  },
  {
   "cell_type": "code",
   "execution_count": null,
   "metadata": {},
   "outputs": [],
   "source": [
    "model.goodness_of_fit.ks_test_on_residuals()"
   ]
  },
  {
   "cell_type": "code",
   "execution_count": null,
   "metadata": {},
   "outputs": [],
   "source": [
    "model.goodness_of_fit.ad_test_on_residuals()"
   ]
  },
  {
   "cell_type": "code",
   "execution_count": null,
   "metadata": {},
   "outputs": [],
   "source": [
    "print(claudio)"
   ]
  },
  {
   "cell_type": "code",
   "execution_count": null,
   "metadata": {},
   "outputs": [],
   "source": [
    "model.volume_enc.rejection_sampling.is_target_equal_to_proposal"
   ]
  },
  {
   "cell_type": "code",
   "execution_count": null,
   "metadata": {},
   "outputs": [],
   "source": [
    "model.volume_enc.prob_volimb_constraint"
   ]
  },
  {
   "cell_type": "code",
   "execution_count": null,
   "metadata": {},
   "outputs": [],
   "source": [
    "# %timeit simulation.sample_volumes(2,model.volume_enc.rejection_sampling.proposal_dir_param,model.volume_enc.rejection_sampling.difference_of_dir_params, model.volume_enc.rejection_sampling.inverse_bound,model.volume_enc.rejection_sampling.is_target_equal_to_proposal,model.state_enc.num_of_st2, model.volume_enc.volimb_limits, upto_lim = 5)"
   ]
  },
  {
   "cell_type": "code",
   "execution_count": null,
   "metadata": {},
   "outputs": [],
   "source": [
    "# %timeit simulation.sample_volumes(5,model.volume_enc.rejection_sampling.proposal_dir_param,model.volume_enc.rejection_sampling.difference_of_dir_params, model.volume_enc.rejection_sampling.inverse_bound,model.volume_enc.rejection_sampling.is_target_equal_to_proposal,model.state_enc.num_of_st2, model.volume_enc.volimb_limits, upto_lim = 5)"
   ]
  },
  {
   "cell_type": "code",
   "execution_count": null,
   "metadata": {},
   "outputs": [],
   "source": [
    "# model.volume_enc.rejection_sampling.inverse_bound"
   ]
  },
  {
   "cell_type": "code",
   "execution_count": null,
   "metadata": {},
   "outputs": [],
   "source": [
    "# print(claudio)"
   ]
  },
  {
   "cell_type": "markdown",
   "metadata": {},
   "source": [
    "# Non-parametric estimation"
   ]
  },
  {
   "cell_type": "code",
   "execution_count": null,
   "metadata": {},
   "outputs": [],
   "source": [
    "upperbound_of_support_of_kernel=1.0e+00\n",
    "lowerbound_of_support_of_kernel=1.0e-01\n",
    "num_quadrature_points = 45\n",
    "num_grid_points= 75\n",
    "\n",
    "nonp=nonparam_estim.EstimProcedure(model.number_of_event_types, model.number_of_states,\n",
    "                                   pre_times, pre_events, pre_states,\n",
    "                                   num_quadpnts = num_quadrature_points,\n",
    "                                   quad_tmax = upperbound_of_support_of_kernel,\n",
    "                                   quad_tmin = lowerbound_of_support_of_kernel,\n",
    "                                   num_gridpnts = num_grid_points,\n",
    "                                   grid_tmax = upperbound_of_support_of_kernel,\n",
    "                                   grid_tmin = lowerbound_of_support_of_kernel,\n",
    "                                   two_scales=True,\n",
    "                                   tol=1.0e-6\n",
    "                                  )"
   ]
  },
  {
   "cell_type": "code",
   "execution_count": null,
   "metadata": {},
   "outputs": [],
   "source": [
    "# print(CLAUDIO)"
   ]
  },
  {
   "cell_type": "code",
   "execution_count": null,
   "metadata": {},
   "outputs": [],
   "source": [
    "nonp.estimate_hawkes_kernel(use_filter=True,enforce_positive_g_hat=True,\n",
    "                            filter_cutoff=10.0, filter_scale=50.0, num_addpnts_filter=3000)"
   ]
  },
  {
   "cell_type": "code",
   "execution_count": null,
   "metadata": {},
   "outputs": [],
   "source": [
    "nonp.fit_powerlaw(compute_L1_norm=True,ridge_param=1.0e-04)"
   ]
  },
  {
   "cell_type": "code",
   "execution_count": null,
   "metadata": {},
   "outputs": [],
   "source": [
    "nonp.store_base_rates()"
   ]
  },
  {
   "cell_type": "code",
   "execution_count": null,
   "metadata": {},
   "outputs": [],
   "source": [
    "# print(CLAUDIO)"
   ]
  },
  {
   "cell_type": "code",
   "execution_count": null,
   "metadata": {},
   "outputs": [],
   "source": [
    "e1=0\n",
    "x1=5\n",
    "e=0\n",
    "\n",
    "from_=1\n",
    "upto=90\n",
    "print(\"alphas[e1,x1,e]={}\".format(alphas[e1,x1,e]))\n",
    "print(\"betas[e1,x1,e]={}\".format(betas[e1,x1,e]))\n",
    "print(\"fit_powerlaw.imp_coef[e1,x1,e]={}\".format(nonp.fit_powerlaw.imp_coef[e1,x1,e]))\n",
    "print(\"fit_powerlaw.dec_coef[e1,x1,e]={}\".format(nonp.fit_powerlaw.dec_coef[e1,x1,e]))\n",
    "plt.plot(nonp.quadrature.partition[from_:upto],nonp.hawkes_kernel.values_at_quadpnts_param[e1,x1,e,from_:upto])"
   ]
  },
  {
   "cell_type": "code",
   "execution_count": null,
   "metadata": {},
   "outputs": [],
   "source": [
    "from_=0\n",
    "upto=150\n",
    "plt.plot(nonp.grid.partition[from_:upto],nonp.filtered_g_hat_at_gridpnts[e1,x1,e,from_:upto])"
   ]
  },
  {
   "cell_type": "code",
   "execution_count": null,
   "metadata": {},
   "outputs": [],
   "source": [
    "print(CLAUDIO)"
   ]
  },
  {
   "cell_type": "code",
   "execution_count": null,
   "metadata": {},
   "outputs": [],
   "source": [
    "nonp.filter_nonsingular_expected_jumps(scale=100.0, additional_pnts=2000)"
   ]
  },
  {
   "cell_type": "code",
   "execution_count": null,
   "metadata": {},
   "outputs": [],
   "source": [
    "plt.plot(nonp.grid.partition[from_:upto],nonp.filtered_g_hat_at_gridpnts[e1,x1,e,from_:upto])"
   ]
  },
  {
   "cell_type": "code",
   "execution_count": null,
   "metadata": {},
   "outputs": [],
   "source": [
    "from_=5\n",
    "upto=80\n",
    "plt.plot(nonp.quadrature.partition[from_:upto],nonp.g_hat[e1,x1,e,0,from_:upto])"
   ]
  },
  {
   "cell_type": "code",
   "execution_count": null,
   "metadata": {},
   "outputs": [],
   "source": [
    "from_=5\n",
    "upto=80\n",
    "plt.plot(nonp.quadrature.partition[from_:upto],nonp.filtered_g_hat[e1,x1,e,0,from_:upto])"
   ]
  },
  {
   "cell_type": "code",
   "execution_count": null,
   "metadata": {},
   "outputs": [],
   "source": [
    "nonp.num_additional_filter_pnts"
   ]
  },
  {
   "cell_type": "code",
   "execution_count": null,
   "metadata": {},
   "outputs": [],
   "source": [
    "e1=0\n",
    "x1=0\n",
    "e=1\n",
    "# print(nonp.g_hat_at_gridpnts[e1,x1,e,:])\n",
    "# print(nonp.g_hat_at_gridpnts[e1+1,x1,e,:])\n",
    "# print(nonp.hawkes_kernel[e1,x1,e,:])\n",
    "# print(nonp.hawkes_kernel[e1+1,x1,e,:])"
   ]
  },
  {
   "cell_type": "code",
   "execution_count": null,
   "metadata": {},
   "outputs": [],
   "source": [
    "nonp.results_estimation_of_hawkes_kernel[0]"
   ]
  },
  {
   "cell_type": "code",
   "execution_count": null,
   "metadata": {},
   "outputs": [],
   "source": [
    "print(np.allclose(nonp.g_hat_at_quadpnts[e1,x1,e,:],nonp.g_hat_at_quadpnts[e1+1,x1,e,:]))\n",
    "print(np.allclose(nonp.hawkes_kernel[e1,x1,e,:],nonp.hawkes_kernel[e1+1,x1,e,:]))"
   ]
  },
  {
   "cell_type": "code",
   "execution_count": null,
   "metadata": {},
   "outputs": [],
   "source": [
    "# nonp.hawkes_kernel[e1,x1,e]"
   ]
  },
  {
   "cell_type": "code",
   "execution_count": null,
   "metadata": {},
   "outputs": [],
   "source": [
    "e1+=1\n",
    "nonp.hawkes_kernel[e1,x1,e]"
   ]
  },
  {
   "cell_type": "code",
   "execution_count": null,
   "metadata": {},
   "outputs": [],
   "source": [
    "# plt.plot(nonp.time_grid[:],nonp.smoothened_hawkes_kernel[e1,x1,e,:])"
   ]
  },
  {
   "cell_type": "code",
   "execution_count": null,
   "metadata": {},
   "outputs": [],
   "source": [
    "plt.plot(nonp.hawkes_kernel[e1,x1,e,:])"
   ]
  },
  {
   "cell_type": "code",
   "execution_count": null,
   "metadata": {},
   "outputs": [],
   "source": [
    "print(CLAUDIO)"
   ]
  },
  {
   "cell_type": "markdown",
   "metadata": {},
   "source": [
    "# Liquidation Section"
   ]
  },
  {
   "cell_type": "code",
   "execution_count": null,
   "metadata": {},
   "outputs": [],
   "source": [
    "initial_condition_times=np.array(pre_times,copy=True)\n",
    "initial_condition_events=np.array(pre_events,copy=True)\n",
    "initial_condition_states=np.array(pre_states,copy=True)\n",
    "initial_condition_volumes=np.array(pre_volumes,copy=True)"
   ]
  },
  {
   "cell_type": "code",
   "execution_count": null,
   "metadata": {},
   "outputs": [],
   "source": [
    "initial_inventory=1\n",
    "liquidator_base_rate=np.amin(nus)\n",
    "liquidation_strategy='fraction_of_bid_side' # constant_rate or fraction_of_bid_side\n",
    "liquidator_control=0.2\n",
    "time_start=np.array(time_end_antefact+3.0,dtype=np.float,copy=True)\n",
    "time_end=np.array(time_start+2*60*60)"
   ]
  },
  {
   "cell_type": "code",
   "execution_count": null,
   "metadata": {},
   "outputs": [],
   "source": [
    "model.introduce_liquidator(initial_inventory=initial_inventory,\n",
    "                                 time_start=time_start,\n",
    "                                 liquidator_base_rate=liquidator_base_rate,\n",
    "                                 liquidator_control=liquidator_control)\n",
    "initial_condition_events+=1\n",
    "time_liquidation_starts=model.liquidator.time_start\n",
    "print(model.liquidator.initial_inventory)\n",
    "print(model.liquidator.base_rate)\n",
    "print(model.liquidator.control_type)"
   ]
  },
  {
   "cell_type": "code",
   "execution_count": null,
   "metadata": {},
   "outputs": [],
   "source": [
    "liquidator_base_rate=0.10\n",
    "model.configure_liquidator_param(\n",
    "    initial_inventory=initial_inventory,\n",
    "    liquidator_base_rate=liquidator_base_rate,\n",
    "    type_of_liquid='constant_intensity',\n",
    "    liquidator_control=liquidator_control)\n",
    "print(model.liquidator.initial_inventory)\n",
    "print(model.liquidator.base_rate)\n",
    "print(model.liquidator.control_type)\n",
    "print(np.linalg.norm(model.liquidator.imp_coef))"
   ]
  },
  {
   "cell_type": "code",
   "execution_count": null,
   "metadata": {},
   "outputs": [],
   "source": [
    "times, events, states, volumes, \\\n",
    "inventory, _=\\\n",
    "model.simulate_liquidation(\n",
    "    time_end,\n",
    "    initial_condition_events=initial_condition_events,\n",
    "    initial_condition_states=initial_condition_states,\n",
    "    initial_condition_times=initial_condition_times,\n",
    "    initial_condition_volumes=initial_condition_volumes,\n",
    "    verbose=True,\n",
    "    report_history_of_intensities = False,\n",
    "    store_results=True\n",
    ")\n",
    "print('\\n')\n",
    "print('times.shape={}'.format(times.shape))\n",
    "print('events.shape={}'.format(events.shape))\n",
    "print('states.shape={}'.format(states.shape))\n",
    "print('inventory.shape={}'.format(inventory.shape))"
   ]
  },
  {
   "cell_type": "code",
   "execution_count": null,
   "metadata": {},
   "outputs": [],
   "source": [
    "start_liquidation=time_liquidation_starts\n",
    "end_liquidation=model.liquidator.termination_time\n",
    "intens_history= model.compute_history_of_intensities(\n",
    "    times,\n",
    "    events,\n",
    "    states,\n",
    "    start_time_zero_event=start_liquidation,\n",
    "    end_time_zero_event=end_liquidation,\n",
    "    density_of_eval_points=10000,\n",
    ")\n",
    "print('intens_history.shape={}'.format(intens_history.shape))\n",
    "idx=intens_history[:,1]>0\n",
    "print(np.sum(idx))"
   ]
  },
  {
   "cell_type": "code",
   "execution_count": null,
   "metadata": {},
   "outputs": [],
   "source": [
    "plot_start_index=bisect.bisect_left(times,time_start)-5\n",
    "plot_end_index=np.argmin(inventory)+30\n",
    "# pd.Series(inventory[plot_start_index:plot_end_index]).plot()"
   ]
  },
  {
   "cell_type": "code",
   "execution_count": null,
   "metadata": {},
   "outputs": [],
   "source": [
    "# plot_tools.plot_liquidation(times,events,inventory,intens_history,\n",
    "#                             plot_start_index,plot_end_index,\n",
    "#                             save_fig=False)"
   ]
  },
  {
   "cell_type": "code",
   "execution_count": null,
   "metadata": {},
   "outputs": [],
   "source": [
    "df=model.state_enc.translate_labels(states)\n",
    "price=np.sum(np.abs(df['st_1'].values))+100+0.85*np.cumsum(df['st_1'].values-1)\n",
    "price=0.01*price"
   ]
  },
  {
   "cell_type": "code",
   "execution_count": null,
   "metadata": {},
   "outputs": [],
   "source": [
    "plot_tools.plot_liquidation_with_price(times,events,inventory,intens_history,price,\n",
    "                            plot_start_index,plot_end_index,\n",
    "                            save_fig=False,path='/home/claudio/Desktop/imperialMF_phdDay/pictures/',\n",
    "                            name='plot_liquidation_n'          )"
   ]
  },
  {
   "cell_type": "code",
   "execution_count": null,
   "metadata": {},
   "outputs": [],
   "source": [
    "# plot_tools.plot_liquidator_only(times,events,inventory,intens_history,price,\n",
    "#                             plot_start_index,plot_end_index,\n",
    "#                             save_fig=False,path='/home/claudio/Desktop/imperialMF_phdDay/pictures/',\n",
    "#                             name='plot_liquidator_4' )"
   ]
  },
  {
   "cell_type": "code",
   "execution_count": null,
   "metadata": {},
   "outputs": [],
   "source": [
    "# print(claudio)"
   ]
  },
  {
   "cell_type": "markdown",
   "metadata": {},
   "source": [
    "# Impact profile a\\` la Bacry-Muzy"
   ]
  },
  {
   "cell_type": "code",
   "execution_count": null,
   "metadata": {},
   "outputs": [],
   "source": [
    "bm_intensity, bm_profile=model.compute_bm_impact_profile(times,events,states,\n",
    "                                  inventory,\n",
    "                                  start_liquidation_time = time_liquidation_starts,\n",
    "                                  density_of_eval_points=10000)"
   ]
  },
  {
   "cell_type": "code",
   "execution_count": null,
   "metadata": {},
   "outputs": [],
   "source": [
    "# plot_tools.plot_bm_impact_profile(bm_profile,\n",
    "#                        bm_intensity,\n",
    "#                        time_start=time_liquidation_starts,\n",
    "#                        time_end=times[np.argmin(inventory)]+100,\n",
    "#                        save_fig=False,\n",
    "#                        path='/home/claudio/Desktop/imperialMF_phdDay/pictures/',\n",
    "#                        name='bm_impact_profile_3'          )"
   ]
  },
  {
   "cell_type": "code",
   "execution_count": null,
   "metadata": {},
   "outputs": [],
   "source": [
    "plot_tools.plot_bm_impact_profile_full_picture(bm_profile,\n",
    "                       times,events,inventory,intens_history,price,\n",
    "                       bm_intensity,\n",
    "                       time_start=time_liquidation_starts,\n",
    "                       time_end=times[np.argmin(inventory)]+100,\n",
    "                       save_fig=False,\n",
    "                       path='/home/claudio/Desktop/imperialMF_phdDay/pictures/',\n",
    "                       name='bm_impact_profile_full_3'                         )"
   ]
  },
  {
   "cell_type": "code",
   "execution_count": null,
   "metadata": {},
   "outputs": [],
   "source": [
    "print(claudio)"
   ]
  },
  {
   "cell_type": "code",
   "execution_count": null,
   "metadata": {},
   "outputs": [],
   "source": [
    "# model.set_transition_probabilities(phis_hat)\n",
    "# model.set_hawkes_parameters(nus_hat, alphas_hat, betas_hat)\n",
    "# model.set_dirichlet_parameters(gammas_hat)"
   ]
  },
  {
   "cell_type": "markdown",
   "metadata": {},
   "source": [
    "# One-sided impact profile"
   ]
  },
  {
   "cell_type": "code",
   "execution_count": null,
   "metadata": {},
   "outputs": [],
   "source": [
    "model.produce_impact_profile(num_init_guesses=4, maxiter=10)"
   ]
  },
  {
   "cell_type": "code",
   "execution_count": null,
   "metadata": {},
   "outputs": [],
   "source": [
    "model.impact.reduced_weakly_defl_pp.create_goodness_of_fit()"
   ]
  },
  {
   "cell_type": "code",
   "execution_count": null,
   "metadata": {},
   "outputs": [],
   "source": [
    "model.impact.reduced_weakly_defl_pp.goodness_of_fit.qq_plot_residuals(\n",
    "    tot_event_types=1, title_per_event_type=0, fig_suptitle='QQ plot residuals of reduced_weakly_defl_pp')"
   ]
  },
  {
   "cell_type": "code",
   "execution_count": null,
   "metadata": {},
   "outputs": [],
   "source": [
    "times=np.array(model.sampled_times,copy=True)\n",
    "states=np.array(model.sampled_states,copy=True)\n",
    "labelled_times = np.array(model.labelled_times,copy=True)\n",
    "count = np.array(model.count, copy=True)\n",
    "len_states=len(states)\n",
    "eval_time=np.random.uniform(low=model.liquidator.time_start+10,\n",
    "                            high=model.liquidator.termination_time,\n",
    "                           )\n",
    "print('eval_time={}'.format(eval_time))"
   ]
  },
  {
   "cell_type": "code",
   "execution_count": null,
   "metadata": {},
   "outputs": [],
   "source": [
    "run_time=-time.time()\n",
    "compensator=model.impact.evaluate_compensator_of_weakly_defl_pp(eval_time)\n",
    "expectation=model.impact.reduced_weakly_defl_pp.compute_expectation(eval_time)\n",
    "run_time+=time.time()\n",
    "print('compesator={}, expectation={}'.format(compensator,expectation))\n",
    "print('run_time={}'.format(run_time))"
   ]
  },
  {
   "cell_type": "code",
   "execution_count": null,
   "metadata": {},
   "outputs": [],
   "source": [
    "run_time=-time.time()\n",
    "res=model.impact.evaluate_impact_profile(eval_time)\n",
    "run_time+=time.time()\n",
    "print('run_time={}'.format(run_time))\n",
    "print(res)"
   ]
  },
  {
   "cell_type": "code",
   "execution_count": null,
   "metadata": {},
   "outputs": [],
   "source": [
    "T=np.random.uniform(low=model.sampled_times[10], high=model.sampled_times[150])\n",
    "print('T={}'.format(T))\n",
    "run_time=-time.time()\n",
    "res=model.impact.compute_imp_profile_history(T,num_extra_eval_points=5)\n",
    "run_time+=time.time()\n",
    "print('run_time={}'.format(run_time))\n",
    "print(res)"
   ]
  },
  {
   "cell_type": "code",
   "execution_count": null,
   "metadata": {},
   "outputs": [],
   "source": []
  },
  {
   "cell_type": "code",
   "execution_count": null,
   "metadata": {},
   "outputs": [],
   "source": [
    "plot_tools.plot_impact_profile(\n",
    "    res,\n",
    "    times,events,inventory,intens_history,price,\n",
    "    time_start=model.liquidator.time_start,\n",
    "    time_end=model.liquidator.termination_time,\n",
    "    save_fig=False,\n",
    "    path='/home/claudio/Desktop/imperialMF_phdDay/pictures/',\n",
    "    name='onesided_impact_profile'\n",
    ")"
   ]
  },
  {
   "cell_type": "code",
   "execution_count": null,
   "metadata": {},
   "outputs": [],
   "source": []
  },
  {
   "cell_type": "code",
   "execution_count": null,
   "metadata": {},
   "outputs": [],
   "source": []
  },
  {
   "cell_type": "code",
   "execution_count": null,
   "metadata": {},
   "outputs": [],
   "source": [
    "print(claudio)"
   ]
  },
  {
   "cell_type": "code",
   "execution_count": null,
   "metadata": {},
   "outputs": [],
   "source": [
    "p_prof=pd.Series(res[:,1],index=res[:,0])\n",
    "p_prof.plot()"
   ]
  },
  {
   "cell_type": "code",
   "execution_count": null,
   "metadata": {},
   "outputs": [],
   "source": []
  },
  {
   "cell_type": "code",
   "execution_count": null,
   "metadata": {},
   "outputs": [],
   "source": []
  },
  {
   "cell_type": "markdown",
   "metadata": {},
   "source": [
    "# Goodness of fit"
   ]
  },
  {
   "cell_type": "code",
   "execution_count": null,
   "metadata": {},
   "outputs": [],
   "source": [
    "model.create_goodness_of_fit()"
   ]
  },
  {
   "cell_type": "code",
   "execution_count": null,
   "metadata": {},
   "outputs": [],
   "source": [
    "model.goodness_of_fit.qq_plot_residuals()"
   ]
  },
  {
   "cell_type": "code",
   "execution_count": null,
   "metadata": {},
   "outputs": [],
   "source": [
    "time_end=pre_times[len(pre_times)//2]\n",
    "base_rate,imp_coef,dec_coef=mle_estim.pre_estimate_ordinary_hawkes(\n",
    "    0,\n",
    "    model.number_of_event_types, \n",
    "    pre_times,\n",
    "    pre_events,\n",
    "    time_start,\n",
    "    time_end,\n",
    "    num_init_guesses = 2,\n",
    "    maxiter = 2,\n",
    "    return_minim_proc = 0\n",
    ")"
   ]
  },
  {
   "cell_type": "code",
   "execution_count": 5,
   "metadata": {},
   "outputs": [],
   "source": [
    "import copy"
   ]
  },
  {
   "cell_type": "code",
   "execution_count": 6,
   "metadata": {},
   "outputs": [],
   "source": [
    "list_1 = []"
   ]
  },
  {
   "cell_type": "code",
   "execution_count": 7,
   "metadata": {},
   "outputs": [],
   "source": [
    "list_2 = copy.copy(list_1)"
   ]
  },
  {
   "cell_type": "code",
   "execution_count": 8,
   "metadata": {},
   "outputs": [
    {
     "data": {
      "text/plain": [
       "[]"
      ]
     },
     "execution_count": 8,
     "metadata": {},
     "output_type": "execute_result"
    }
   ],
   "source": [
    "list_1"
   ]
  },
  {
   "cell_type": "code",
   "execution_count": 9,
   "metadata": {},
   "outputs": [
    {
     "data": {
      "text/plain": [
       "[]"
      ]
     },
     "execution_count": 9,
     "metadata": {},
     "output_type": "execute_result"
    }
   ],
   "source": [
    "list_2"
   ]
  },
  {
   "cell_type": "code",
   "execution_count": 11,
   "metadata": {},
   "outputs": [],
   "source": [
    "tpp=(1,2,3)\n",
    "lss=list(tpp)"
   ]
  },
  {
   "cell_type": "code",
   "execution_count": 12,
   "metadata": {},
   "outputs": [
    {
     "data": {
      "text/plain": [
       "[1, 2, 3]"
      ]
     },
     "execution_count": 12,
     "metadata": {},
     "output_type": "execute_result"
    }
   ],
   "source": [
    "lss"
   ]
  },
  {
   "cell_type": "code",
   "execution_count": null,
   "metadata": {},
   "outputs": [],
   "source": []
  }
 ],
 "metadata": {
  "kernelspec": {
   "display_name": "Python 3",
   "language": "python",
   "name": "python3"
  },
  "language_info": {
   "codemirror_mode": {
    "name": "ipython",
    "version": 3
   },
   "file_extension": ".py",
   "mimetype": "text/x-python",
   "name": "python",
   "nbconvert_exporter": "python",
   "pygments_lexer": "ipython3",
   "version": "3.7.7"
  }
 },
 "nbformat": 4,
 "nbformat_minor": 2
}
