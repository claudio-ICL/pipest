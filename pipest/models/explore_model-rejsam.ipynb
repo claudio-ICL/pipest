{
 "cells": [
  {
   "cell_type": "code",
   "execution_count": 1,
   "metadata": {},
   "outputs": [],
   "source": [
    "import os\n",
    "path_pipest = os.path.abspath('./')\n",
    "n=0\n",
    "while (not os.path.basename(path_pipest)=='pipest') and (n<6):\n",
    "    path_pipest=os.path.dirname(path_pipest)\n",
    "    n+=1 \n",
    "if not os.path.basename(path_pipest)=='pipest':\n",
    "    raise ValueError(\"path_pipest not found. Instead: {}\".format(path_pipest))\n",
    "path_sdhawkes=path_pipest+'/sdhawkes'\n",
    "path_lobster=path_pipest+'/lobster'\n",
    "path_lobster_data=path_lobster+'/data'\n",
    "path_lobster_pyscripts=path_lobster+'/py_scripts'\n",
    "path_models=path_pipest+'/models'\n",
    "path_tests=path_pipest+'/tests'\n",
    "path_saved_tests=path_tests+'/saved_tests'"
   ]
  },
  {
   "cell_type": "code",
   "execution_count": 2,
   "metadata": {},
   "outputs": [],
   "source": [
    "import time\n",
    "import sys\n",
    "sys.path.append(path_sdhawkes+'/resources/')\n",
    "sys.path.append(path_sdhawkes+'/modelling/')\n",
    "sys.path.append(path_lobster_pyscripts+'/')"
   ]
  },
  {
   "cell_type": "code",
   "execution_count": 3,
   "metadata": {},
   "outputs": [],
   "source": [
    "import pickle\n",
    "import numpy as np\n",
    "import pandas as pd\n",
    "import scipy\n",
    "from scipy.stats import dirichlet as scipy_dirichlet\n",
    "import timeit"
   ]
  },
  {
   "cell_type": "code",
   "execution_count": 4,
   "metadata": {},
   "outputs": [
    {
     "name": "stdout",
     "output_type": "stream",
     "text": [
      "openmp.omp_get_max_threads(): 4\n",
      "openmp.omp_get_max_threads(): 4\n"
     ]
    }
   ],
   "source": [
    "import model as sd_hawkes_model\n",
    "import lob_model\n",
    "import computation\n",
    "import simulation\n",
    "# import goodness_of_fit\n",
    "# import mle_estimation as mle_estim\n",
    "# import uncertainty_quant"
   ]
  },
  {
   "cell_type": "code",
   "execution_count": 5,
   "metadata": {},
   "outputs": [],
   "source": [
    "symbol = \"INTC\"\n",
    "date = \"2019-01-23\"\n",
    "time_window = \"45000-48600\""
   ]
  },
  {
   "cell_type": "code",
   "execution_count": 6,
   "metadata": {
    "scrolled": true
   },
   "outputs": [],
   "source": [
    "# with open(path_models+'/{}/{}_{}/{}_sdhawkes_{}_{}'.format(symbol, symbol, date,symbol, date, time_window),'rb') as source:\n",
    "#         model=pickle.load(source)\n",
    "# try:\n",
    "#     with open(path_models+'/{}/{}_sdhawkes_{}_{}'.format(symbol, symbol, date, time_window),'rb') as source:\n",
    "#         model=pickle.load(source)\n",
    "# except FileNotFoundError:\n",
    "#     with open(path_models+'/{}/{}_{}/{}_sdhawkes_{}_{}'.format(symbol, symbol, date, symbol, date, time_window),'rb') as source:\n",
    "#         model=pickle.load(source)\n",
    "# print(model.name_of_model)\n",
    "# print('Date and time of initilisation: {}'.format(model.datetime_of_initialisation))\n",
    "# print('number_of_event_types: {}; number_of_states: {}'.format(\n",
    "#     model.number_of_event_types, model.number_of_states))\n",
    "# print('Dimension of dataset: {}'.format((model.data.messagefile.shape)))"
   ]
  },
  {
   "cell_type": "code",
   "execution_count": 7,
   "metadata": {},
   "outputs": [
    {
     "name": "stdout",
     "output_type": "stream",
     "text": [
      "Hawkes parameters have been set\n",
      "SDHawkes: asymmetry in transition_probabilities = 21.797203221746148\n",
      "Transition probabilities have been set\n",
      "Dirichlet parameters have been set\n"
     ]
    }
   ],
   "source": [
    "list_of_n_states=[3,5]\n",
    "n_events = 4 \n",
    "n_levels = 2\n",
    "\n",
    "model = sd_hawkes_model.SDHawkes(number_of_event_types=n_events,\n",
    "                 number_of_lob_levels=n_levels,\n",
    "                 volume_imbalance_upto_level=2,\n",
    "                 list_of_n_states=list_of_n_states\n",
    "                )\n",
    "\n",
    "tot_n_states=model.state_enc.tot_n_states\n",
    "\n",
    "# The base rates $\\nu$\n",
    "nus = 0.002*np.random.randint(low=2,high=6,size=n_events)\n",
    "# The impact coefficients $\\alpha$\n",
    "alphas = np.random.uniform(0.0002,0.2435,size=(n_events, tot_n_states, n_events)).astype(np.float)\n",
    "# The decay coefficients $\\beta$\n",
    "betas = np.random.uniform(1.265,1.805,size=(n_events, tot_n_states, n_events)).astype(np.float)\n",
    "model.set_hawkes_parameters(nus,alphas,betas)\n",
    "# The transition probabilities $\\phi$\n",
    "phis = model.state_enc.generate_random_transition_prob(n_events=n_events).astype(np.float)\n",
    "model.set_transition_probabilities(phis)\n",
    "#     sd_model.enforce_symmetry_in_transition_probabilities()\n",
    "# The Dirichlet parameters $\\kappa$\n",
    "gammas = np.random.lognormal(size=(tot_n_states,2*n_levels))\n",
    "model.set_dirichlet_parameters(gammas, use_optimisation=False)\n"
   ]
  },
  {
   "cell_type": "code",
   "execution_count": 8,
   "metadata": {},
   "outputs": [],
   "source": [
    "# model.volume_enc.store_param_for_rejection_sampling(epsilon=1.0e-00)"
   ]
  },
  {
   "cell_type": "code",
   "execution_count": 9,
   "metadata": {},
   "outputs": [
    {
     "data": {
      "text/plain": [
       "array([-1. , -0.6, -0.2,  0.2,  0.6,  1. ])"
      ]
     },
     "execution_count": 9,
     "metadata": {},
     "output_type": "execute_result"
    }
   ],
   "source": [
    "model.volume_enc.rejection_sampling.volimb_limits"
   ]
  },
  {
   "cell_type": "code",
   "execution_count": 10,
   "metadata": {},
   "outputs": [
    {
     "data": {
      "text/plain": [
       "array([0, 0, 0, 0, 0, 0, 0, 0, 0, 0, 0, 0, 0, 0, 0])"
      ]
     },
     "execution_count": 10,
     "metadata": {},
     "output_type": "execute_result"
    }
   ],
   "source": [
    "model.volume_enc.rejection_sampling.is_target_equal_to_proposal"
   ]
  },
  {
   "cell_type": "code",
   "execution_count": 11,
   "metadata": {},
   "outputs": [
    {
     "data": {
      "text/plain": [
       "array([0.22732273, 0.47444744, 0.33173317, 0.0340034 , 0.55275528,\n",
       "       0.47934793, 0.14021402, 0.41344134, 0.3230323 , 0.41834183,\n",
       "       0.48174817, 0.08210821, 0.08830883, 0.12221222, 0.74457446])"
      ]
     },
     "execution_count": 11,
     "metadata": {},
     "output_type": "execute_result"
    }
   ],
   "source": [
    "model.volume_enc.prob_volimb_constraint"
   ]
  },
  {
   "cell_type": "code",
   "execution_count": 12,
   "metadata": {},
   "outputs": [
    {
     "data": {
      "text/plain": [
       "array([0.22732273, 0.47444744, 0.33173317, 0.0340034 , 0.55275528,\n",
       "       0.47934793, 0.14021402, 0.41344134, 0.3230323 , 0.41834183,\n",
       "       0.48174817, 0.08210821, 0.08830883, 0.12221222, 0.74457446])"
      ]
     },
     "execution_count": 12,
     "metadata": {},
     "output_type": "execute_result"
    }
   ],
   "source": [
    "model.volume_enc.rejection_sampling.prob_constraint_physical"
   ]
  },
  {
   "cell_type": "code",
   "execution_count": 13,
   "metadata": {},
   "outputs": [
    {
     "data": {
      "text/plain": [
       "array([0.10511051, 0.25052505, 0.29392939, 0.24892489, 0.10191019,\n",
       "       0.10591059, 0.25132513, 0.30173017, 0.26272627, 0.10851085,\n",
       "       0.10441044, 0.24492449, 0.29912991, 0.25072507, 0.10611061])"
      ]
     },
     "execution_count": 13,
     "metadata": {},
     "output_type": "execute_result"
    }
   ],
   "source": [
    "model.volume_enc.rejection_sampling.prob_constraint_proposal"
   ]
  },
  {
   "cell_type": "code",
   "execution_count": 14,
   "metadata": {},
   "outputs": [
    {
     "data": {
      "text/plain": [
       "array([1.0000000e+00, 1.0000000e+00, 1.0000000e+00, 1.0000000e+00,\n",
       "       1.0000000e+00, 1.0000000e+00, 1.0000000e+00, 1.0000000e+00,\n",
       "       1.0000000e+00, 1.0000000e+00, 1.0000000e+00, 1.0000000e+00,\n",
       "       1.0000000e+00, 1.0000000e+00, 3.2535601e+04])"
      ]
     },
     "execution_count": 14,
     "metadata": {},
     "output_type": "execute_result"
    }
   ],
   "source": [
    "model.volume_enc.rejection_sampling.inverse_bound"
   ]
  },
  {
   "cell_type": "code",
   "execution_count": 15,
   "metadata": {},
   "outputs": [],
   "source": [
    "state=14\n",
    "num_of_st2=model.volume_enc.rejection_sampling.num_of_st2\n",
    "st2=state%num_of_st2\n",
    "volimb_limits=model.volume_enc.rejection_sampling.volimb_limits\n",
    "l, u = volimb_limits[st2], volimb_limits[1+st2]\n",
    "gamma=model.volume_enc.rejection_sampling.target_dir_param\n",
    "gamma_tilde=model.volume_enc.rejection_sampling.proposal_dir_param\n",
    "alpha=model.volume_enc.rejection_sampling.difference_of_dir_params\n",
    "inverseM=model.volume_enc.rejection_sampling.inverse_bound\n",
    "is_equal=model.volume_enc.rejection_sampling.is_target_equal_to_proposal\n",
    "volimb_limits=model.volume_enc.rejection_sampling.volimb_limits\n",
    "volimb_upto_level=model.volume_enc.rejection_sampling.volimb_upto_level\n",
    "upto_lim=1+2*volimb_upto_level"
   ]
  },
  {
   "cell_type": "code",
   "execution_count": 16,
   "metadata": {},
   "outputs": [
    {
     "name": "stdout",
     "output_type": "stream",
     "text": [
      "gamma=[ 1.45809052 10.37258471  1.21516695  4.32430453]\n",
      "gamma_tilde=[1. 1. 1. 1.]\n",
      "bounds=[0.6 1. ]\n",
      "l=0.6000000000000001, u=1.0\n",
      "physical_prob=0.7384573845738457\n",
      "proposal_prob=0.1047710477104771\n"
     ]
    }
   ],
   "source": [
    "physical_prob=computation.compute_probability_of_volimb_constraint(\n",
    "    volimb_upto_level, 1, 0, volimb_limits[st2:st2+2], gamma[state,:], N_samples=99999\n",
    ")\n",
    "proposal_prob=computation.compute_probability_of_volimb_constraint(\n",
    "    volimb_upto_level, 1, 0, volimb_limits[st2:st2+2], gamma_tilde[state,:], N_samples=99999\n",
    ")\n",
    "print(\"gamma={}\".format(gamma[state,:]))\n",
    "print(\"gamma_tilde={}\".format(gamma_tilde[state,:]))\n",
    "print(\"bounds={}\".format(volimb_limits[st2:st2+2]))\n",
    "print(\"l={}, u={}\".format(l,u))\n",
    "print(\"physical_prob={}\".format(physical_prob))\n",
    "print(\"proposal_prob={}\".format(proposal_prob))"
   ]
  },
  {
   "cell_type": "code",
   "execution_count": 17,
   "metadata": {},
   "outputs": [
    {
     "name": "stdout",
     "output_type": "stream",
     "text": [
      "[0.13441743 0.57268467 0.1058971  0.18700081]\n",
      "[0.0312007  0.0128749  0.68871891 0.26720548]\n",
      "accept: False \n",
      "accept_tilde: False\n"
     ]
    }
   ],
   "source": [
    "sample=scipy_dirichlet.rvs(gamma[state,:])[0,:]\n",
    "sample_tilde=scipy_dirichlet.rvs(gamma_tilde[state,:])[0,:]\n",
    "qi=np.sum(sample[1:upto_lim:2]-sample[0:upto_lim:2])\n",
    "qi_tilde=np.sum(sample_tilde[1:upto_lim:2]-sample_tilde[0:upto_lim:2])\n",
    "accept=((qi>=l)&(qi<u))\n",
    "accept_tilde=((qi_tilde>=l)&(qi_tilde<u))\n",
    "print(sample)\n",
    "print(sample_tilde)\n",
    "print(\"accept: {} \".format(accept))\n",
    "print(\"accept_tilde: {}\".format(accept_tilde))"
   ]
  },
  {
   "cell_type": "code",
   "execution_count": 18,
   "metadata": {},
   "outputs": [
    {
     "data": {
      "text/plain": [
       "5"
      ]
     },
     "execution_count": 18,
     "metadata": {},
     "output_type": "execute_result"
    }
   ],
   "source": [
    "upto_lim"
   ]
  },
  {
   "cell_type": "code",
   "execution_count": 19,
   "metadata": {},
   "outputs": [],
   "source": [
    "num_rejconstr=[]"
   ]
  },
  {
   "cell_type": "code",
   "execution_count": 20,
   "metadata": {},
   "outputs": [
    {
     "name": "stdout",
     "output_type": "stream",
     "text": [
      "133 µs ± 0 ns per loop (mean ± std. dev. of 1 run, 2 loops each)\n"
     ]
    }
   ],
   "source": [
    "%%timeit -n 2 -r 1\n",
    "num_rejconstr.append(simulation.naive_sample(state,\n",
    "             gamma,\n",
    "             num_of_st2, volimb_limits, upto_lim))"
   ]
  },
  {
   "cell_type": "code",
   "execution_count": 21,
   "metadata": {},
   "outputs": [
    {
     "name": "stdout",
     "output_type": "stream",
     "text": [
      "0.5\n",
      "[0, 1]\n"
     ]
    }
   ],
   "source": [
    "print(np.mean(np.array(num_rejconstr)))\n",
    "print(num_rejconstr)"
   ]
  },
  {
   "cell_type": "code",
   "execution_count": 22,
   "metadata": {},
   "outputs": [],
   "source": [
    "num_rejconstr=[]"
   ]
  },
  {
   "cell_type": "code",
   "execution_count": 23,
   "metadata": {},
   "outputs": [
    {
     "name": "stdout",
     "output_type": "stream",
     "text": [
      "5.47 ms ± 0 ns per loop (mean ± std. dev. of 1 run, 2 loops each)\n"
     ]
    }
   ],
   "source": [
    "%%timeit -n 2 -r 1\n",
    "num_rejconstr.append(simulation.sample_volumes(state,\n",
    "               gamma_tilde,\n",
    "               alpha, inverseM,\n",
    "               is_equal, num_of_st2, volimb_limits, upto_lim))"
   ]
  },
  {
   "cell_type": "code",
   "execution_count": 24,
   "metadata": {},
   "outputs": [
    {
     "name": "stdout",
     "output_type": "stream",
     "text": [
      "76.0\n",
      "[95, 57]\n"
     ]
    }
   ],
   "source": [
    "print(np.mean(np.array(num_rejconstr)))\n",
    "print(num_rejconstr)"
   ]
  },
  {
   "cell_type": "code",
   "execution_count": 25,
   "metadata": {},
   "outputs": [
    {
     "data": {
      "text/plain": [
       "array([1.0000000e+00, 1.0000000e+00, 1.0000000e+00, 1.0000000e+00,\n",
       "       1.0000000e+00, 1.0000000e+00, 1.0000000e+00, 1.0000000e+00,\n",
       "       1.0000000e+00, 1.0000000e+00, 1.0000000e+00, 1.0000000e+00,\n",
       "       1.0000000e+00, 1.0000000e+00, 3.2535601e+04])"
      ]
     },
     "execution_count": 25,
     "metadata": {},
     "output_type": "execute_result"
    }
   ],
   "source": [
    "model.volume_enc.rejection_sampling.inverse_bound"
   ]
  },
  {
   "cell_type": "code",
   "execution_count": 26,
   "metadata": {},
   "outputs": [],
   "source": [
    "# model.state_enc.df_state_enc"
   ]
  },
  {
   "cell_type": "code",
   "execution_count": 27,
   "metadata": {},
   "outputs": [],
   "source": [
    "# model.goodness_of_fit.qq_plot_residuals(index_of_first_event_type=1)\n",
    "# print(model.goodness_of_fit.ad_test_on_residuals())"
   ]
  },
  {
   "cell_type": "code",
   "execution_count": 28,
   "metadata": {},
   "outputs": [],
   "source": [
    "# model.mle_estim.goodness_of_fit.qq_plot_residuals(index_of_first_event_type=1)\n",
    "# print(model.mle_estim.goodness_of_fit.ad_test_on_residuals())"
   ]
  },
  {
   "cell_type": "code",
   "execution_count": 29,
   "metadata": {},
   "outputs": [],
   "source": [
    "def sample_volumes(state, proposal_dir_param,\n",
    "     difference_of_dir_params, inverse_bound,\n",
    "     is_target_equal_to_proposal,\n",
    "     num_of_st2, volimb_limits, upto_lim = 5, maxiter= 999999\n",
    "):\n",
    "    st_2 = state%num_of_st2\n",
    "    lower_bound = volimb_limits[st_2]\n",
    "    upper_bound = volimb_limits[1+st_2]\n",
    "    gamma_tilde = proposal_dir_param[state,:]\n",
    "    delta_gamma = difference_of_dir_params[state,:]\n",
    "    K = inverse_bound[state]\n",
    "    val, u, volimb = 0.0, 0.0, 0.0\n",
    "    reject = 1\n",
    "    count = 0\n",
    "    num_rej=0\n",
    "    num_rejconstr = 0\n",
    "    num_rejbnd = 0\n",
    "    if is_target_equal_to_proposal[state]:\n",
    "        while (reject) & (count<=maxiter):\n",
    "            count += 1\n",
    "            sample = scipy_dirichlet.rvs(gamma_tilde)[0,:]\n",
    "            vol_imb = np.sum(sample[1:upto_lim:2] - sample[0:upto_lim:2])\n",
    "            if (lower_bound <= vol_imb)&(vol_imb<=upper_bound):\n",
    "                reject = 0\n",
    "                passed[count-1]=1\n",
    "            else:\n",
    "                num_rejconstr+=1\n",
    "    else:\n",
    "        while (reject) & (count<=maxiter):\n",
    "            count += 1\n",
    "            sample = scipy_dirichlet.rvs(gamma_tilde)[0,:]\n",
    "            vol_imb = np.sum(sample[1:upto_lim:2] - sample[0:upto_lim:2])\n",
    "            if ((lower_bound <= vol_imb)&(vol_imb<=upper_bound)):\n",
    "                u = np.random.uniform(low=0.0, high=1.0)\n",
    "                val = np.prod(np.power(sample,delta_gamma))\n",
    "                if u < K*val:\n",
    "                    reject = 0\n",
    "                else:\n",
    "                    num_rejbnd+=1\n",
    "                    num_rej+=1\n",
    "            else:\n",
    "                num_rejconstr+=1\n",
    "                num_rej+=1\n",
    "    return num_rejconstr, num_rejbnd"
   ]
  },
  {
   "cell_type": "code",
   "execution_count": 30,
   "metadata": {},
   "outputs": [],
   "source": [
    "def naive_sample(state, dir_param,\n",
    "     num_of_st2, volimb_limits, upto_lim = 5, maxiter= 999999\n",
    " ):\n",
    "    st_2 = state%num_of_st2\n",
    "    lower_bound = volimb_limits[st_2]\n",
    "    upper_bound = volimb_limits[1+st_2]\n",
    "    gamma = dir_param[state,:]\n",
    "    vol_imb = 0.0\n",
    "    reject = 1\n",
    "    count = 0\n",
    "    num_rejconstr = 0\n",
    "    while (reject) & (count<=maxiter):\n",
    "        count += 1\n",
    "        sample = scipy_dirichlet.rvs(gamma)[0,:]\n",
    "        vol_imb = np.sum(sample[1:upto_lim:2] - sample[0:upto_lim:2])\n",
    "        if ((lower_bound <= vol_imb)&(vol_imb<=upper_bound)):\n",
    "            reject = 0\n",
    "        else:\n",
    "            num_rejconstr+=1\n",
    "    return num_rejconstr\n"
   ]
  },
  {
   "cell_type": "code",
   "execution_count": 31,
   "metadata": {},
   "outputs": [],
   "source": [
    "def compute_prob(state, dir_param,\n",
    "     num_of_st2, volimb_limits, upto_lim = 5, N_samples= 999999\n",
    " ):\n",
    "    st_2 = state%num_of_st2\n",
    "    lower_bound = volimb_limits[st_2]\n",
    "    upper_bound = volimb_limits[1+st_2]\n",
    "    gamma = dir_param[state,:]\n",
    "    vol_imb = 0.0\n",
    "    passed = np.zeros(N_samples,dtype=np.int)\n",
    "    count = 0\n",
    "    for n in range(N_samples):\n",
    "        sample = scipy_dirichlet.rvs(gamma)[0,:]\n",
    "        vol_imb = np.sum(sample[1:upto_lim:2] - sample[0:upto_lim:2])\n",
    "        if ((lower_bound <= vol_imb)&(vol_imb<=upper_bound)):\n",
    "            #count+=1 \n",
    "            passed[n]=1\n",
    "    prob=float(np.sum(passed))/float(N_samples)\n",
    "    return passed,prob#float(count)/float(N_samples)"
   ]
  },
  {
   "cell_type": "code",
   "execution_count": 32,
   "metadata": {},
   "outputs": [
    {
     "name": "stdout",
     "output_type": "stream",
     "text": [
      "physprob=0.7432743274327432\n",
      "propprob=0.09950995099509952\n"
     ]
    }
   ],
   "source": [
    "N_samples=9999\n",
    "physpassed,physprob=compute_prob(state,gamma,num_of_st2,volimb_limits,upto_lim,N_samples)\n",
    "proppassed,propprob=compute_prob(state,gamma_tilde,num_of_st2,volimb_limits,upto_lim,N_samples)\n",
    "print(\"physprob={}\".format(physprob))\n",
    "print(\"propprob={}\".format(propprob))"
   ]
  },
  {
   "cell_type": "code",
   "execution_count": 33,
   "metadata": {},
   "outputs": [],
   "source": [
    "def expectation_constr(gamma,l,u,uplim=5):\n",
    "    v=np.sum(gamma[1:uplim:2]-gamma[0:uplim:2])/np.sum(gamma)\n",
    "    return (max(0.0,v-u)+max(0.0,l-v))**2"
   ]
  },
  {
   "cell_type": "code",
   "execution_count": 34,
   "metadata": {},
   "outputs": [],
   "source": [
    "# def compute_proposal_param(gamma,l=-0.2,u=0.2,c=1.0,uplim=5,maxiter=1000):\n",
    "#     def objfun(rho):\n",
    "#         return computation.compute_maximum_unnormalised_pseudo_dirichlet_density(gamma-rho)\\\n",
    "#         +c*expectation_constr(rho)\n",
    "#     def expectation_constr(rho):\n",
    "#         v=np.sum(rho[1:uplim:2]-rho[0:uplim:2])/np.sum(rho)\n",
    "#         return (max(0.0,v-u)+max(0.0,l-v))**2\n",
    "#     bounds=[(1.0e-8,gamma[k]) for k in range(len(gamma))]\n",
    "#     res=scipy.optimize.minimize(\n",
    "#         objfun,0.95*gamma,\n",
    "#         method='TNC',jac=False,\n",
    "#         bounds=bounds,options={'maxiter': maxiter})\n",
    "#     rho=res['x']\n",
    "#     return rho"
   ]
  },
  {
   "cell_type": "code",
   "execution_count": 84,
   "metadata": {},
   "outputs": [],
   "source": [
    "from scipy.special import loggamma as LogGamma"
   ]
  },
  {
   "cell_type": "code",
   "execution_count": 90,
   "metadata": {},
   "outputs": [],
   "source": [
    "def objfun(rho,gamma):\n",
    "    alpha=gamma-rho\n",
    "    def logM():\n",
    "        return np.sum(alpha*np.log(alpha/np.sum(alpha)))\n",
    "    return logB(rho)+logM()\n",
    "def logB(rho):\n",
    "    return np.sum(LogGamma(rho))-LogGamma(np.sum(rho))\n",
    "def find_rho(gamma,maxiter=1000, tol=1.0e-6):\n",
    "    bounds=tuple([(1.0e-8,(1.0-tol)*gamma[k]) for k in range(len(gamma))])\n",
    "    res=scipy.optimize.minimize(\n",
    "        objfun,0.995*gamma,args=(gamma),\n",
    "        method='TNC',jac=False,\n",
    "        bounds=bounds,options={'maxiter': maxiter})\n",
    "    return res"
   ]
  },
  {
   "cell_type": "code",
   "execution_count": 97,
   "metadata": {},
   "outputs": [
    {
     "name": "stdout",
     "output_type": "stream",
     "text": [
      "gamma: [9.88880007 2.64481406 3.87733993 9.4349304  8.93254443 7.12686851\n",
      " 2.50572472 8.93807836 4.62915631 7.01033018 9.06058593]\n",
      "target: -169.3423178856035\n",
      "minimisation results:\n",
      "      fun: -169.34142303729655\n",
      "     jac: array([ 0.04894787,  0.01891465, -0.26934117, -0.10657288, -0.08635936,\n",
      "       -0.06461676, -0.27312694, -0.16920865, -0.08489849,  0.03674359,\n",
      "        0.02226841])\n",
      " message: 'Converged (|f_n-f_(n-1)| ~= 0)'\n",
      "    nfev: 186\n",
      "     nit: 31\n",
      "  status: 1\n",
      " success: True\n",
      "       x: array([9.88732133, 2.64446306, 3.8766064 , 9.43328632, 8.93102374,\n",
      "       7.12569873, 2.50528465, 8.93642525, 4.62841139, 7.00929169,\n",
      "       9.05920106])\n",
      "better: False\n"
     ]
    }
   ],
   "source": [
    "gamma=np.random.uniform(low=0.0, high=10.0, size=(4,))\n",
    "print('gamma: {}'.format(gamma))\n",
    "print('target: {}'.format(logB(gamma)))\n",
    "res=find_rho(gamma)\n",
    "print('minimisation results:\\n {}'.format(res))\n",
    "better=res['fun']<logB(gamma)\n",
    "print(\"better: {}\".format(better))"
   ]
  },
  {
   "cell_type": "code",
   "execution_count": null,
   "metadata": {},
   "outputs": [],
   "source": []
  }
 ],
 "metadata": {
  "kernelspec": {
   "display_name": "Python 3",
   "language": "python",
   "name": "python3"
  },
  "language_info": {
   "codemirror_mode": {
    "name": "ipython",
    "version": 3
   },
   "file_extension": ".py",
   "mimetype": "text/x-python",
   "name": "python",
   "nbconvert_exporter": "python",
   "pygments_lexer": "ipython3",
   "version": "3.7.6"
  }
 },
 "nbformat": 4,
 "nbformat_minor": 2
}
