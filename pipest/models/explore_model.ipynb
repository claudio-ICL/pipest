{
 "cells": [
  {
   "cell_type": "code",
   "execution_count": null,
   "metadata": {},
   "outputs": [],
   "source": [
    "import os\n",
    "path_pipest = os.path.abspath('./')\n",
    "n=0\n",
    "while (not os.path.basename(path_pipest)=='pipest') and (n<6):\n",
    "    path_pipest=os.path.dirname(path_pipest)\n",
    "    n+=1 \n",
    "if not os.path.basename(path_pipest)=='pipest':\n",
    "    raise ValueError(\"path_pipest not found. Instead: {}\".format(path_pipest))\n",
    "path_sdhawkes=path_pipest+'/sdhawkes'\n",
    "path_lobster=path_pipest+'/lobster'\n",
    "path_lobster_data=path_lobster+'/data'\n",
    "path_lobster_pyscripts=path_lobster+'/py_scripts'\n",
    "path_models=path_pipest+'/models'\n",
    "path_tests=path_pipest+'/tests'\n",
    "path_saved_tests=path_tests+'/saved_tests'\n",
    "path_impact_models = path_pipest+'/impact/models'"
   ]
  },
  {
   "cell_type": "code",
   "execution_count": null,
   "metadata": {},
   "outputs": [],
   "source": [
    "import time\n",
    "import sys\n",
    "sys.path.append(path_sdhawkes+'/resources/')\n",
    "sys.path.append(path_sdhawkes+'/modelling/')\n",
    "sys.path.append(path_lobster_pyscripts+'/')"
   ]
  },
  {
   "cell_type": "code",
   "execution_count": null,
   "metadata": {},
   "outputs": [],
   "source": [
    "print(sys.path)"
   ]
  },
  {
   "cell_type": "code",
   "execution_count": null,
   "metadata": {},
   "outputs": [],
   "source": [
    "import pickle\n",
    "import numpy as np\n",
    "import pandas as pd\n",
    "from pathlib import Path"
   ]
  },
  {
   "cell_type": "code",
   "execution_count": null,
   "metadata": {},
   "outputs": [],
   "source": [
    "# import model\n",
    "# import lob_model\n",
    "# import computation\n",
    "# import simulation\n",
    "# import goodness_of_fit\n",
    "# import mle_estimation as mle_estim\n",
    "# import uncertainty_quant"
   ]
  },
  {
   "cell_type": "code",
   "execution_count": null,
   "metadata": {},
   "outputs": [],
   "source": [
    "symbol = \"INTC\"\n",
    "date = \"2019-01-23\"\n",
    "time_window = \"36000-38999\""
   ]
  },
  {
   "cell_type": "code",
   "execution_count": null,
   "metadata": {},
   "outputs": [],
   "source": [
    "partial_model=False\n",
    "component=0"
   ]
  },
  {
   "cell_type": "code",
   "execution_count": null,
   "metadata": {},
   "outputs": [],
   "source": [
    "file_path = Path(path_models) / f'{symbol}' / f'{symbol}_sdhawkes_{date}_{time_window}'\n",
    "assert file_path.exists()"
   ]
  },
  {
   "cell_type": "code",
   "execution_count": null,
   "metadata": {},
   "outputs": [],
   "source": [
    "with open(file_path, 'rb') as source:\n",
    "    model=pickle.load(source)"
   ]
  },
  {
   "cell_type": "code",
   "execution_count": null,
   "metadata": {},
   "outputs": [],
   "source": [
    "# with open(path_models+'/{}/{}_{}/{}_sdhawkes_{}_{}'.format(symbol, symbol, date,symbol, date, time_window),'rb') as source:\n",
    "#         model=pickle.load(source)\n",
    "# if not partial_model:\n",
    "#     try:\n",
    "#         with open(path_models+'/{}/{}_sdhawkes_{}_{}_onesided_thesis_1s8'.format(symbol, symbol, date, time_window),'rb') as source:\n",
    "#             model=pickle.load(source)\n",
    "#     except FileNotFoundError:\n",
    "#         with open(path_models+'/{}/{}_{}/{}_sdhawkes_{}_{}_onesided_thesis'.format(symbol, symbol, date, symbol, date, time_window),'rb') as source:\n",
    "#             model=pickle.load(source)\n",
    "\n",
    "# if partial_model:\n",
    "#     with open(path_models+'/{}/{}_{}/partial_models/{}_{}_{}_partial{}'.format(\n",
    "#         symbol, symbol, date, symbol, date, time_window, component),'rb') as source:\n",
    "#             model=pickle.load(source)"
   ]
  },
  {
   "cell_type": "code",
   "execution_count": null,
   "metadata": {},
   "outputs": [],
   "source": [
    "##This cell was used to produce the visualisation of loss function during gradient descent \n",
    "# lossfuns = []\n",
    "# axs = []\n",
    "# fig  = plt.figure(figsize=(15,8))\n",
    "# for e in range(4):\n",
    "#     component = 1+e\n",
    "#     with open(path_models+'/{}/{}_{}/partial_models/{}_{}_{}_partial{}'.format(\n",
    "#         symbol, symbol, date, symbol, date, time_window, e),'rb') as source:\n",
    "#             model=pickle.load(source)\n",
    "#     res = model.mle_estim.results_of_estimation[0]['MinimisationProcedure'].results\n",
    "#     lossfun = []\n",
    "#     for i in range(len(res)):\n",
    "#         fs = [b_res['f'] for b_res in res[i]['results_batches']]\n",
    "#         lossfun.append(np.concatenate(fs, axis=0))\n",
    "#     lossfuns.append(lossfun)\n",
    "#     axs.append(fig.add_subplot(2,2,component, label='component {}'.format(component)))\n",
    "#     axs[e].set_title('Component {}'.format(component))\n",
    "#     axs[e].plot((lossfun[0][5:]))\n",
    "#     axs[e].plot((lossfun[1][5:]))\n",
    "#     axs[e].plot((lossfun[2][5:]))\n",
    "#     axs[e].plot((lossfun[3][5:]))\n",
    "#     axs[e].plot((lossfun[4][15:]))\n",
    "#     axs[e].plot((lossfun[5][15:]))\n",
    "# plt.suptitle('Loss function', fontsize=16)\n",
    "# plt.show()"
   ]
  },
  {
   "cell_type": "code",
   "execution_count": null,
   "metadata": {},
   "outputs": [],
   "source": [
    "# path = path_impact_models+'/{}/{}_{}_{}/'.format(symbol, symbol, date, time_window)\n",
    "# path += '{}_sdhawkes_{}_{}'.format(symbol, date, time_window)\n",
    "# with open(path, 'rb') as source:\n",
    "#     model=pickle.load(source)"
   ]
  },
  {
   "cell_type": "code",
   "execution_count": null,
   "metadata": {},
   "outputs": [],
   "source": [
    "print(model.name_of_model)\n",
    "print('Date and time of initilisation: {}'.format(model.datetime_of_initialisation))\n",
    "print('number_of_event_types: {}; number_of_states: {}'.format(\n",
    "    model.number_of_event_types, model.number_of_states))\n",
    "print('Dimension of dataset: {}'.format((model.data.messagefile.shape)))"
   ]
  },
  {
   "cell_type": "code",
   "execution_count": null,
   "metadata": {},
   "outputs": [],
   "source": [
    "print(model.base_rates)"
   ]
  },
  {
   "cell_type": "code",
   "execution_count": null,
   "metadata": {},
   "outputs": [],
   "source": [
    "model.goodness_of_fit.qq_plot_residuals(index_of_first_event_type=1,\n",
    "                                        save_fig=False,)\n",
    "print(model.goodness_of_fit.ad_test_on_residuals())"
   ]
  },
  {
   "cell_type": "code",
   "execution_count": null,
   "metadata": {},
   "outputs": [],
   "source": [
    "model.mle_estim.goodness_of_fit.qq_plot_residuals(index_of_first_event_type=1)\n",
    "print(model.mle_estim.goodness_of_fit.ad_test_on_residuals())"
   ]
  },
  {
   "cell_type": "code",
   "execution_count": null,
   "metadata": {},
   "outputs": [],
   "source": [
    "print(model.inflationary_pressure)\n",
    "print(model.deflationary_pressure)\n",
    "print(model.inflationary_pressure-model.deflationary_pressure)"
   ]
  },
  {
   "cell_type": "code",
   "execution_count": null,
   "metadata": {},
   "outputs": [],
   "source": [
    "# model.set_transition_probabilities(model.transition_probabilities)"
   ]
  },
  {
   "cell_type": "code",
   "execution_count": null,
   "metadata": {},
   "outputs": [],
   "source": [
    "# model.nonparam_estim.goodness_of_fit.qq_plot_residuals(index_of_first_event_type=1)\n",
    "# print(model.nonparam_estim.goodness_of_fit.ad_test_on_residuals())"
   ]
  },
  {
   "cell_type": "code",
   "execution_count": null,
   "metadata": {},
   "outputs": [],
   "source": [
    "# minim=model.mle_estim.results_of_estimation[3].get(\"MinimisationProcedure\")\n",
    "# minim.results"
   ]
  },
  {
   "cell_type": "code",
   "execution_count": null,
   "metadata": {},
   "outputs": [],
   "source": [
    "print(model.base_rates)\n",
    "print(model.mle_estim.base_rates)"
   ]
  },
  {
   "cell_type": "code",
   "execution_count": null,
   "metadata": {},
   "outputs": [],
   "source": [
    "rho_max=0.0\n",
    "for x in range(model.number_of_states):\n",
    "    vals=(np.linalg.eigvals(model.impact_decay_ratios[:,x,:]))\n",
    "    rho_max=max(rho_max,np.abs(np.amax(vals)))\n",
    "#     print(model.impact_decay_ratios[:,x,:])\n",
    "    print(\"x={}, max_L1norm={}, rho={}\".format(x,np.amax(model.impact_decay_ratios[:,x,:]),np.amax(vals)))\n",
    "print(\"rho_max={}\".format(rho_max))    "
   ]
  },
  {
   "cell_type": "code",
   "execution_count": null,
   "metadata": {},
   "outputs": [],
   "source": [
    "# model.mle_estim.dirichlet_param"
   ]
  },
  {
   "cell_type": "code",
   "execution_count": null,
   "metadata": {},
   "outputs": [],
   "source": [
    "# model.impact_coefficients"
   ]
  },
  {
   "cell_type": "code",
   "execution_count": null,
   "metadata": {},
   "outputs": [],
   "source": [
    "e1=1\n",
    "e=0\n",
    "model.decay_coefficients[e1,:,e]"
   ]
  },
  {
   "cell_type": "code",
   "execution_count": null,
   "metadata": {},
   "outputs": [],
   "source": [
    "model.impact_decay_ratios[e1,:,e]"
   ]
  },
  {
   "cell_type": "code",
   "execution_count": null,
   "metadata": {},
   "outputs": [],
   "source": [
    "np.amin(model.decay_coefficients)"
   ]
  },
  {
   "cell_type": "code",
   "execution_count": null,
   "metadata": {},
   "outputs": [],
   "source": [
    "e=3\n",
    "print(np.amax(model.impact_decay_ratios[:,:,e]))\n",
    "print(np.amin(model.impact_decay_ratios[:,:,e]))\n",
    "print(np.mean(model.impact_decay_ratios[:,:,e]))"
   ]
  },
  {
   "cell_type": "code",
   "execution_count": null,
   "metadata": {},
   "outputs": [],
   "source": [
    "x=2\n",
    "np.linalg.eigvals(model.impact_decay_ratios[:,x,:])"
   ]
  },
  {
   "cell_type": "code",
   "execution_count": null,
   "metadata": {},
   "outputs": [],
   "source": []
  },
  {
   "cell_type": "code",
   "execution_count": null,
   "metadata": {},
   "outputs": [],
   "source": [
    "model.inflationary_pressure"
   ]
  },
  {
   "cell_type": "code",
   "execution_count": null,
   "metadata": {},
   "outputs": [],
   "source": [
    "model.deflationary_pressure"
   ]
  },
  {
   "cell_type": "code",
   "execution_count": null,
   "metadata": {},
   "outputs": [],
   "source": [
    "model.impact_coefficients"
   ]
  },
  {
   "cell_type": "code",
   "execution_count": null,
   "metadata": {},
   "outputs": [],
   "source": [
    "model.transition_probabilities"
   ]
  },
  {
   "cell_type": "code",
   "execution_count": null,
   "metadata": {},
   "outputs": [],
   "source": [
    "model.calibration.mle_info"
   ]
  },
  {
   "cell_type": "code",
   "execution_count": null,
   "metadata": {},
   "outputs": [],
   "source": []
  }
 ],
 "metadata": {
  "kernelspec": {
   "display_name": "Python 3",
   "language": "python",
   "name": "python3"
  },
  "language_info": {
   "codemirror_mode": {
    "name": "ipython",
    "version": 3
   },
   "file_extension": ".py",
   "mimetype": "text/x-python",
   "name": "python",
   "nbconvert_exporter": "python",
   "pygments_lexer": "ipython3",
   "version": "3.7.6"
  }
 },
 "nbformat": 4,
 "nbformat_minor": 2
}
