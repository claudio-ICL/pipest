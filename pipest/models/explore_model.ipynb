{
 "cells": [
  {
   "cell_type": "code",
   "execution_count": 1,
   "metadata": {},
   "outputs": [],
   "source": [
    "import os\n",
    "path_pipest = os.path.abspath('./')\n",
    "n=0\n",
    "while (not os.path.basename(path_pipest)=='pipest') and (n<6):\n",
    "    path_pipest=os.path.dirname(path_pipest)\n",
    "    n+=1 \n",
    "if not os.path.basename(path_pipest)=='pipest':\n",
    "    raise ValueError(\"path_pipest not found. Instead: {}\".format(path_pipest))\n",
    "path_sdhawkes=path_pipest+'/sdhawkes_powerlaw'\n",
    "path_lobster=path_pipest+'/lobster_for_sdhawkes'\n",
    "path_lobster_data=path_lobster+'/data'\n",
    "path_lobster_pyscripts=path_lobster+'/py_scripts'\n",
    "path_models=path_pipest+'/models'\n",
    "path_tests=path_pipest+'/tests'\n",
    "path_saved_tests=path_tests+'/saved_tests'"
   ]
  },
  {
   "cell_type": "code",
   "execution_count": 2,
   "metadata": {},
   "outputs": [],
   "source": [
    "import time\n",
    "import sys\n",
    "sys.path.append(path_sdhawkes+'/resources/')\n",
    "sys.path.append(path_sdhawkes+'/modelling/')\n",
    "sys.path.append(path_lobster_pyscripts+'/')"
   ]
  },
  {
   "cell_type": "code",
   "execution_count": 3,
   "metadata": {},
   "outputs": [],
   "source": [
    "import pickle\n",
    "import numpy as np\n",
    "import pandas as pd"
   ]
  },
  {
   "cell_type": "code",
   "execution_count": 4,
   "metadata": {},
   "outputs": [
    {
     "name": "stdout",
     "output_type": "stream",
     "text": [
      "openmp.omp_get_max_threads(): 4\n",
      "openmp.omp_get_max_threads(): 4\n"
     ]
    }
   ],
   "source": [
    "import model as sd_hawkes_model\n",
    "import lob_model\n",
    "import computation\n",
    "import simulation\n",
    "import goodness_of_fit\n",
    "import mle_estimation as mle_estim\n",
    "import uncertainty_quant"
   ]
  },
  {
   "cell_type": "code",
   "execution_count": 5,
   "metadata": {},
   "outputs": [],
   "source": [
    "symbol = \"INTC\"\n",
    "date = \"2019-01-23\"\n",
    "time_window = \"34200-37800\""
   ]
  },
  {
   "cell_type": "code",
   "execution_count": 6,
   "metadata": {
    "scrolled": true
   },
   "outputs": [
    {
     "name": "stdout",
     "output_type": "stream",
     "text": [
      "INTC_sdhawkes_2019-01-23_34200-37800_uq\n",
      "Date and time of initilisation: 2020-04-24 18:37:24.418762\n",
      "number_of_event_types: 4; number_of_states: 15\n",
      "Dimension of dataset: (163422, 10)\n"
     ]
    }
   ],
   "source": [
    "# with open(path_models+'/{}/{}_{}/{}_sdhawkes_{}_{}'.format(symbol, symbol, date,symbol, date, time_window),'rb') as source:\n",
    "#         model=pickle.load(source)\n",
    "try:\n",
    "    with open(path_models+'/{}/{}_sdhawkes_{}_{}_uq'.format(symbol, symbol, date, time_window),'rb') as source:\n",
    "        model=pickle.load(source)\n",
    "except:\n",
    "    with open(path_models+'/{}/{}_{}_{}/{}_sdhawkes_{}_{}'.format(symbol, symbol, date, time_window, symbol, date, time_window),'rb') as source:\n",
    "        model=pickle.load(source)\n",
    "print(model.name_of_model)\n",
    "print('Date and time of initilisation: {}'.format(model.datetime_of_initialisation))\n",
    "print('number_of_event_types: {}; number_of_states: {}'.format(\n",
    "    model.number_of_event_types, model.number_of_states))\n",
    "print('Dimension of dataset: {}'.format((model.data.messagefile.shape)))"
   ]
  },
  {
   "cell_type": "code",
   "execution_count": 7,
   "metadata": {},
   "outputs": [
    {
     "name": "stdout",
     "output_type": "stream",
     "text": [
      "[ 1.23666085  1.18804458 24.10317264 24.0238531 ]\n",
      "[0.21287538 0.69023924 0.28076151 1.01657585]\n"
     ]
    }
   ],
   "source": [
    "print(model.uncertainty_quantification.base_rates)\n",
    "print(model.uncertainty_quantification.mle_estim.base_rates)"
   ]
  },
  {
   "cell_type": "code",
   "execution_count": 29,
   "metadata": {},
   "outputs": [
    {
     "name": "stdout",
     "output_type": "stream",
     "text": [
      "1.1154474439486213\n",
      "[[9.45934857e-01 7.14837661e-01 3.94701597e-01 8.58182946e-01\n",
      "  9.25707481e-01 1.06426870e+00 1.23995690e+00 1.18902326e+00\n",
      "  9.85027209e-01 9.85990979e-01 9.41798696e-01 9.41798696e-01\n",
      "  9.37472365e-01 9.41798696e-01 9.41798696e-01]\n",
      " [1.29154816e-02 1.00000000e-07 1.00000000e-07 1.00000000e-07\n",
      "  1.00000000e-07 1.00000000e-07 1.00000000e-07 1.00000000e-07\n",
      "  1.00000000e-07 1.00000000e-07 2.48807371e-02 1.00000000e-07\n",
      "  1.00000000e-07 1.00000000e-07 1.00000000e-07]\n",
      " [1.00000000e-07 1.00000000e-07 1.00000000e-07 1.00000000e-07\n",
      "  1.00000000e-07 1.00000000e-07 1.00000000e-07 1.00000000e-07\n",
      "  1.00000000e-07 1.00000000e-07 1.00000000e-07 1.00000000e-07\n",
      "  1.00000000e-07 1.00000000e-07 1.00000000e-07]\n",
      " [1.00000000e-07 1.00000000e-07 1.00000000e-07 1.00000000e-07\n",
      "  1.00000000e-07 2.66001432e-01 1.00000000e-07 1.00000000e-07\n",
      "  1.00000000e-07 1.00000000e-07 1.41826840e-01 1.94016507e-01\n",
      "  1.00000000e-07 1.00000000e-07 1.00000000e-07]]\n",
      "[[4.78099685e-01 3.48870391e-01 2.78030797e-01 1.00000000e-07\n",
      "  4.77544441e-01 2.14793724e-01 3.74233259e-01 4.34942267e-01\n",
      "  2.02231935e-01 2.52548363e-01 3.97802412e-01 9.86052315e-01\n",
      "  5.02580495e-01 2.50782673e-01 1.71715252e-01]\n",
      " [3.00282943e-01 7.57471871e-01 2.94829208e-01 3.74640375e-01\n",
      "  1.00091653e+00 3.30772981e-02 7.48758817e-01 6.76009566e-01\n",
      "  6.44654282e-02 1.00000000e-07 8.78301075e-01 3.23174213e-01\n",
      "  2.72711062e-01 2.05554300e-01 7.44949627e-01]\n",
      " [3.80198276e-01 8.27410547e-01 6.55290657e-02 4.76641716e-01\n",
      "  1.74865549e-01 1.00000000e-07 1.00000000e-07 4.23883740e-04\n",
      "  1.00000000e-07 7.90641696e-02 9.48736601e-02 6.96505460e-02\n",
      "  9.68122215e-01 6.23775562e-01 4.87002040e-01]\n",
      " [9.58622743e-01 1.00000000e-07 7.85164867e-02 9.25434300e-01\n",
      "  1.19870354e-01 1.43868749e-01 3.89800340e-03 1.00000000e-07\n",
      "  4.02152791e-02 1.00000000e-07 2.49111787e-01 9.07237944e-01\n",
      "  3.43948605e-01 8.28312088e-01 9.03420320e-01]]\n"
     ]
    }
   ],
   "source": [
    "e=0\n",
    "print(np.linalg.norm(\n",
    "      model.uncertainty_quantification.impact_coefficients[:,:,e]\n",
    "      - model.uncertainty_quantification.mle_estim.hawkes_kernel.alphas[:,:,e])/\n",
    "      np.linalg.norm(model.uncertainty_quantification.impact_coefficients[:,:,e]))\n",
    "print(model.uncertainty_quantification.impact_coefficients[:,:,e])\n",
    "print(model.uncertainty_quantification.mle_estim.hawkes_kernel.alphas[:,:,e])"
   ]
  },
  {
   "cell_type": "code",
   "execution_count": 9,
   "metadata": {},
   "outputs": [
    {
     "data": {
      "image/png": "[encoded data removed]",
      "text/plain": [
       "<Figure size 936x576 with 4 Axes>"
      ]
     },
     "metadata": {
      "needs_background": "light"
     },
     "output_type": "display_data"
    },
    {
     "name": "stdout",
     "output_type": "stream",
     "text": [
      "Anderson-Darling test to check distribution of residuals\n",
      "Null hypothesis is \"expon\" \n",
      "Significance levels: [15.  10.   5.   2.5  1. ]\n",
      "Critical values: [0.922 1.078 1.34  1.605 1.956]\n",
      "event type=0, ad_stat: 1320.3176381252088\n",
      "event type=1, ad_stat: 912.0205202450115\n",
      "event type=2, ad_stat: 151284.17576564907\n",
      "event type=3, ad_stat: 129963.42843636239\n",
      "None\n"
     ]
    }
   ],
   "source": [
    "model.goodness_of_fit.qq_plot_residuals(index_of_first_event_type=1)\n",
    "print(model.goodness_of_fit.ad_test_on_residuals())"
   ]
  },
  {
   "cell_type": "code",
   "execution_count": 10,
   "metadata": {},
   "outputs": [
    {
     "data": {
      "image/png": "[encoded data removed]",
      "text/plain": [
       "<Figure size 936x576 with 4 Axes>"
      ]
     },
     "metadata": {
      "needs_background": "light"
     },
     "output_type": "display_data"
    },
    {
     "name": "stdout",
     "output_type": "stream",
     "text": [
      "Anderson-Darling test to check distribution of residuals\n",
      "Null hypothesis is \"expon\" \n",
      "Significance levels: [15.  10.   5.   2.5  1. ]\n",
      "Critical values: [0.922 1.078 1.34  1.605 1.956]\n",
      "event type=0, ad_stat: 1328.1008292856823\n",
      "event type=1, ad_stat: 905.6648018854276\n",
      "event type=2, ad_stat: 151363.54962753976\n",
      "event type=3, ad_stat: 129893.23027136465\n",
      "None\n"
     ]
    }
   ],
   "source": [
    "model.mle_estim.goodness_of_fit.qq_plot_residuals(index_of_first_event_type=1)\n",
    "print(model.mle_estim.goodness_of_fit.ad_test_on_residuals())"
   ]
  },
  {
   "cell_type": "code",
   "execution_count": 30,
   "metadata": {},
   "outputs": [
    {
     "data": {
      "image/png": "[encoded data removed]",
      "text/plain": [
       "<Figure size 936x576 with 4 Axes>"
      ]
     },
     "metadata": {
      "needs_background": "light"
     },
     "output_type": "display_data"
    },
    {
     "name": "stdout",
     "output_type": "stream",
     "text": [
      "Anderson-Darling test to check distribution of residuals\n",
      "Null hypothesis is \"expon\" \n",
      "Significance levels: [15.  10.   5.   2.5  1. ]\n",
      "Critical values: [0.92  1.076 1.338 1.603 1.953]\n",
      "event type=0, ad_stat: 0.3469197552502692\n",
      "event type=1, ad_stat: 1.0227958591644892\n",
      "event type=2, ad_stat: 0.450157246681556\n",
      "event type=3, ad_stat: 0.3877520941769035\n",
      "None\n"
     ]
    }
   ],
   "source": [
    "model.uncertainty_quantification.goodness_of_fit.qq_plot_residuals()\n",
    "print(model.uncertainty_quantification.goodness_of_fit.ad_test_on_residuals())"
   ]
  },
  {
   "cell_type": "code",
   "execution_count": 26,
   "metadata": {},
   "outputs": [
    {
     "data": {
      "image/png": "[encoded data removed]",
      "text/plain": [
       "<Figure size 936x576 with 4 Axes>"
      ]
     },
     "metadata": {
      "needs_background": "light"
     },
     "output_type": "display_data"
    },
    {
     "name": "stdout",
     "output_type": "stream",
     "text": [
      "Anderson-Darling test to check distribution of residuals\n",
      "Null hypothesis is \"expon\" \n",
      "Significance levels: [15.  10.   5.   2.5  1. ]\n",
      "Critical values: [0.92  1.076 1.338 1.603 1.953]\n",
      "event type=0, ad_stat: 2.3152098556332703\n",
      "event type=1, ad_stat: 2.0259550393852237\n",
      "event type=2, ad_stat: 178.4031247988387\n",
      "event type=3, ad_stat: 168.62821299849202\n",
      "None\n"
     ]
    }
   ],
   "source": [
    "model.uncertainty_quantification.mle_estim.goodness_of_fit.qq_plot_residuals()\n",
    "print(model.uncertainty_quantification.mle_estim.goodness_of_fit.ad_test_on_residuals())"
   ]
  },
  {
   "cell_type": "code",
   "execution_count": 11,
   "metadata": {},
   "outputs": [],
   "source": [
    "# model.nonparam_estim.goodness_of_fit.qq_plot_residuals(index_of_first_event_type=1)\n",
    "# print(model.nonparam_estim.goodness_of_fit.ad_test_on_residuals())"
   ]
  },
  {
   "cell_type": "code",
   "execution_count": 12,
   "metadata": {},
   "outputs": [],
   "source": [
    "# minim=model.mle_estim.results_of_estimation[3].get(\"MinimisationProcedure\")\n",
    "# minim.results"
   ]
  },
  {
   "cell_type": "code",
   "execution_count": 13,
   "metadata": {},
   "outputs": [
    {
     "name": "stdout",
     "output_type": "stream",
     "text": [
      "[ 1.23666085  1.18804458 24.10317264 24.0238531 ]\n",
      "[ 1.28831563  1.13638979 24.18744966 23.93957608]\n"
     ]
    }
   ],
   "source": [
    "print(model.base_rates)\n",
    "print(model.mle_estim.base_rates)"
   ]
  },
  {
   "cell_type": "code",
   "execution_count": 14,
   "metadata": {},
   "outputs": [
    {
     "name": "stdout",
     "output_type": "stream",
     "text": [
      "x=0, max_L1norm=0.5646068964163445, rho=0.5646081945174901\n",
      "x=1, max_L1norm=0.5651909594381354, rho=0.5653367757118868\n",
      "x=2, max_L1norm=0.5672819433909218, rho=0.5672819456436972\n",
      "x=3, max_L1norm=0.5695513689206313, rho=0.5695513724971248\n",
      "x=4, max_L1norm=0.5653527137616774, rho=0.565748724268216\n",
      "x=5, max_L1norm=0.574521041299349, rho=0.5745210413004774\n",
      "x=6, max_L1norm=0.5796357136290617, rho=0.5796357136290753\n",
      "x=7, max_L1norm=0.5282643767122369, rho=0.5282643767598605\n",
      "x=8, max_L1norm=0.5678866461679253, rho=0.5678866461687511\n",
      "x=9, max_L1norm=0.5698892333103912, rho=0.5698892333118124\n",
      "x=10, max_L1norm=0.564464210532359, rho=0.5644642105338082\n",
      "x=11, max_L1norm=0.5644647740031333, rho=0.5644648191186894\n",
      "x=12, max_L1norm=0.5644984242488135, rho=0.5644984268791627\n",
      "x=13, max_L1norm=0.5644807179890808, rho=0.5644809736247787\n",
      "x=14, max_L1norm=0.564472382997573, rho=0.5644723830271563\n",
      "rho_max=0.5796357136290753\n"
     ]
    }
   ],
   "source": [
    "rho_max=0.0\n",
    "for x in range(model.number_of_states):\n",
    "    vals=(np.linalg.eigvals(model.impact_decay_ratios[:,x,:]))\n",
    "    rho_max=max(rho_max,np.abs(np.amax(vals)))\n",
    "#     print(model.impact_decay_ratios[:,x,:])\n",
    "    print(\"x={}, max_L1norm={}, rho={}\".format(x,np.amax(model.impact_decay_ratios[:,x,:]),np.amax(vals)))\n",
    "print(\"rho_max={}\".format(rho_max))    "
   ]
  },
  {
   "cell_type": "code",
   "execution_count": 15,
   "metadata": {},
   "outputs": [],
   "source": [
    "# model.mle_estim.dirichlet_param"
   ]
  },
  {
   "cell_type": "code",
   "execution_count": 16,
   "metadata": {},
   "outputs": [],
   "source": [
    "# model.impact_coefficients"
   ]
  },
  {
   "cell_type": "code",
   "execution_count": 17,
   "metadata": {},
   "outputs": [
    {
     "data": {
      "text/plain": [
       "array([2.43606064, 2.43607518, 2.43607518, 2.43607518, 2.43607518,\n",
       "       2.43607744, 2.43608264, 2.4360754 , 2.43607536, 2.43607522,\n",
       "       2.43694569, 2.43607528, 2.43607543, 2.43607524, 2.43607551])"
      ]
     },
     "execution_count": 17,
     "metadata": {},
     "output_type": "execute_result"
    }
   ],
   "source": [
    "e1=1\n",
    "e=0\n",
    "model.decay_coefficients[e1,:,e]"
   ]
  },
  {
   "cell_type": "code",
   "execution_count": 18,
   "metadata": {},
   "outputs": [
    {
     "data": {
      "text/plain": [
       "array([8.99368815e-03, 6.96342374e-08, 6.96342374e-08, 6.96342374e-08,\n",
       "       6.96342374e-08, 6.96341277e-08, 6.96338756e-08, 6.96342268e-08,\n",
       "       6.96342288e-08, 6.96342353e-08, 1.73150156e-02, 6.96342327e-08,\n",
       "       6.96342252e-08, 6.96342347e-08, 6.96342216e-08])"
      ]
     },
     "execution_count": 18,
     "metadata": {},
     "output_type": "execute_result"
    }
   ],
   "source": [
    "model.impact_decay_ratios[e1,:,e]"
   ]
  },
  {
   "cell_type": "code",
   "execution_count": 19,
   "metadata": {},
   "outputs": [
    {
     "data": {
      "text/plain": [
       "1.0099936715030053"
      ]
     },
     "execution_count": 19,
     "metadata": {},
     "output_type": "execute_result"
    }
   ],
   "source": [
    "np.amin(model.decay_coefficients)"
   ]
  },
  {
   "cell_type": "code",
   "execution_count": 20,
   "metadata": {},
   "outputs": [
    {
     "name": "stdout",
     "output_type": "stream",
     "text": [
      "0.5796357136290617\n",
      "1.8211859589088677e-08\n",
      "0.13808607558742472\n"
     ]
    }
   ],
   "source": [
    "e=3\n",
    "print(np.amax(model.impact_decay_ratios[:,:,e]))\n",
    "print(np.amin(model.impact_decay_ratios[:,:,e]))\n",
    "print(np.mean(model.impact_decay_ratios[:,:,e]))"
   ]
  },
  {
   "cell_type": "code",
   "execution_count": 21,
   "metadata": {},
   "outputs": [
    {
     "data": {
      "text/plain": [
       "array([9.40315016e-02, 5.47167358e-05, 5.67281946e-01, 5.50402970e-01])"
      ]
     },
     "execution_count": 21,
     "metadata": {},
     "output_type": "execute_result"
    }
   ],
   "source": [
    "x=2\n",
    "np.linalg.eigvals(model.impact_decay_ratios[:,x,:])"
   ]
  },
  {
   "cell_type": "code",
   "execution_count": null,
   "metadata": {},
   "outputs": [],
   "source": []
  },
  {
   "cell_type": "code",
   "execution_count": 22,
   "metadata": {},
   "outputs": [
    {
     "data": {
      "text/plain": [
       "array([ 8.71137885,  4.82331931,  5.54432598,  3.64779231, 12.02709647,\n",
       "        0.81317134,  0.65185086,  1.4245265 ,  1.99804961,  3.59647411,\n",
       "        0.51284155,  2.23923885,  5.65133952,  5.61353183, 18.56616847])"
      ]
     },
     "execution_count": 22,
     "metadata": {},
     "output_type": "execute_result"
    }
   ],
   "source": [
    "model.inflationary_pressure"
   ]
  },
  {
   "cell_type": "code",
   "execution_count": 23,
   "metadata": {},
   "outputs": [
    {
     "data": {
      "text/plain": [
       "array([ 6.90615297,  3.93868859,  3.99244727,  1.48501337,  1.01862636,\n",
       "        4.0848644 ,  3.50171352,  2.50297747,  1.68594076,  0.83286079,\n",
       "        4.86259009,  4.03538511,  4.83465306,  6.69908937, 18.83232303])"
      ]
     },
     "execution_count": 23,
     "metadata": {},
     "output_type": "execute_result"
    }
   ],
   "source": [
    "model.deflationary_pressure"
   ]
  },
  {
   "cell_type": "code",
   "execution_count": 24,
   "metadata": {},
   "outputs": [
    {
     "data": {
      "text/plain": [
       "array([[[9.45934857e-01, 3.47714333e-02, 1.00000000e-07, 1.00000000e-07],\n",
       "        [7.14837661e-01, 1.00000000e-07, 1.00000000e-07, 1.00000000e-07],\n",
       "        [3.94701597e-01, 1.00000000e-07, 1.00000000e-07, 1.00000000e-07],\n",
       "        [8.58182946e-01, 1.00000000e-07, 1.00000000e-07, 1.00000000e-07],\n",
       "        [9.25707481e-01, 2.96405559e-02, 1.00000000e-07, 1.00000000e-07],\n",
       "        [1.06426870e+00, 1.00000000e-07, 1.00000000e-07, 1.00000000e-07],\n",
       "        [1.23995690e+00, 1.00000000e-07, 1.00000000e-07, 1.00000000e-07],\n",
       "        [1.18902326e+00, 1.00000000e-07, 1.00000000e-07, 1.00000000e-07],\n",
       "        [9.85027209e-01, 1.00000000e-07, 1.00000000e-07, 1.00000000e-07],\n",
       "        [9.85990979e-01, 8.58604249e-03, 1.00000000e-07, 1.00000000e-07],\n",
       "        [9.41798696e-01, 8.83031484e-06, 1.00000000e-07, 1.00000000e-07],\n",
       "        [9.41798696e-01, 1.00000000e-07, 1.39703031e-04, 1.00000000e-07],\n",
       "        [9.37472365e-01, 1.00000000e-07, 1.00000000e-07, 1.00000000e-07],\n",
       "        [9.41798696e-01, 1.00000000e-07, 2.88698592e-05, 2.59920230e-04],\n",
       "        [9.41798696e-01, 8.32333885e-05, 1.00000000e-07, 1.90334474e-04]],\n",
       "\n",
       "       [[1.29154816e-02, 6.22564794e-02, 1.00000000e-07, 1.00000000e-07],\n",
       "        [1.00000000e-07, 1.00000000e-07, 3.83211805e-04, 1.71524869e-05],\n",
       "        [1.00000000e-07, 1.03449071e-04, 3.94090904e-04, 1.00000000e-07],\n",
       "        [1.00000000e-07, 1.00000000e-07, 1.00000000e-07, 2.12663290e-04],\n",
       "        [1.00000000e-07, 3.45350927e-04, 2.18327011e-04, 2.51474864e-04],\n",
       "        [1.00000000e-07, 8.01475634e-02, 1.00000000e-07, 1.00000000e-07],\n",
       "        [1.00000000e-07, 4.90049686e-01, 1.00000000e-07, 1.00000000e-07],\n",
       "        [1.00000000e-07, 9.11859154e-02, 1.00000000e-07, 1.00000000e-07],\n",
       "        [1.00000000e-07, 1.00000000e-07, 1.00000000e-07, 1.00000000e-07],\n",
       "        [1.00000000e-07, 1.00000000e-07, 1.00000000e-07, 1.00000000e-07],\n",
       "        [2.48807371e-02, 1.53695986e-01, 1.00000000e-07, 1.00000000e-07],\n",
       "        [1.00000000e-07, 1.00000000e-07, 1.00000000e-07, 1.00000000e-07],\n",
       "        [1.00000000e-07, 1.00000000e-07, 1.00000000e-07, 1.00000000e-07],\n",
       "        [1.00000000e-07, 1.00000000e-07, 1.00000000e-07, 1.00000000e-07],\n",
       "        [1.00000000e-07, 1.03291576e-02, 1.00000000e-07, 1.00000000e-07]],\n",
       "\n",
       "       [[1.00000000e-07, 3.98421748e-02, 1.85856116e+01, 2.77559985e-03],\n",
       "        [1.00000000e-07, 7.66302335e-03, 1.86291773e+01, 1.00000000e-07],\n",
       "        [1.00000000e-07, 1.00000000e-07, 1.87338397e+01, 1.00000000e-07],\n",
       "        [1.00000000e-07, 7.24357508e-04, 1.88003278e+01, 1.00000000e-07],\n",
       "        [1.00000000e-07, 3.64733992e-02, 1.86210226e+01, 1.00000000e-07],\n",
       "        [1.00000000e-07, 1.00000000e-07, 1.91681527e+01, 1.00000000e-07],\n",
       "        [1.00000000e-07, 1.00000000e-07, 2.00000000e+01, 1.00000000e-07],\n",
       "        [1.00000000e-07, 1.00000000e-07, 2.00000000e+01, 1.00000000e-07],\n",
       "        [1.00000000e-07, 1.00000000e-07, 2.00000000e+01, 1.00000000e-07],\n",
       "        [1.00000000e-07, 1.00000000e-07, 1.88574303e+01, 1.00000000e-07],\n",
       "        [1.00000000e-07, 1.00000000e-07, 1.85800601e+01, 1.00000000e-07],\n",
       "        [1.00000000e-07, 1.78443383e-04, 1.85800134e+01, 2.93558839e-04],\n",
       "        [1.00000000e-07, 1.00000000e-07, 1.85814262e+01, 6.55217271e-04],\n",
       "        [1.00000000e-07, 1.00000000e-07, 1.85804966e+01, 8.33522623e-05],\n",
       "        [1.00000000e-07, 1.00000000e-07, 1.85804287e+01, 2.59245579e-05]],\n",
       "\n",
       "       [[1.00000000e-07, 3.53006939e-02, 1.96557949e-04, 1.66397065e+01],\n",
       "        [1.00000000e-07, 3.47326533e-02, 1.28941913e-04, 1.66396204e+01],\n",
       "        [1.00000000e-07, 3.39075575e-02, 3.42234658e-04, 1.66406999e+01],\n",
       "        [1.00000000e-07, 3.49787224e-02, 1.00000000e-07, 1.66401568e+01],\n",
       "        [1.00000000e-07, 3.55691640e-02, 1.00000000e-07, 1.66399254e+01],\n",
       "        [2.66001432e-01, 8.76964549e-02, 1.00000000e-07, 1.73755193e+01],\n",
       "        [1.00000000e-07, 1.00000000e-07, 1.00000000e-07, 1.95520328e+01],\n",
       "        [1.00000000e-07, 1.53313964e-03, 1.00000000e-07, 2.00000000e+01],\n",
       "        [1.00000000e-07, 3.02361707e-01, 1.00000000e-07, 1.79819490e+01],\n",
       "        [1.00000000e-07, 5.97318618e-01, 1.00000000e-07, 1.67853189e+01],\n",
       "        [1.41826840e-01, 2.54928956e-01, 1.00000000e-07, 1.67464090e+01],\n",
       "        [1.94016507e-01, 2.58994547e-01, 1.00000000e-07, 1.69186817e+01],\n",
       "        [1.00000000e-07, 1.23165467e-01, 1.00000000e-07, 1.68150566e+01],\n",
       "        [1.00000000e-07, 6.67927077e-02, 1.50046339e-03, 1.66670502e+01],\n",
       "        [1.00000000e-07, 4.24110477e-02, 1.00000000e-07, 1.66376479e+01]]])"
      ]
     },
     "execution_count": 24,
     "metadata": {},
     "output_type": "execute_result"
    }
   ],
   "source": [
    "model.impact_coefficients"
   ]
  },
  {
   "cell_type": "code",
   "execution_count": 25,
   "metadata": {},
   "outputs": [
    {
     "data": {
      "text/plain": [
       "array([[[6.66666667e-02, 6.66666667e-02, 6.66666667e-02, 6.66666667e-02,\n",
       "         6.66666667e-02, 6.66666667e-02, 6.66666667e-02, 6.66666667e-02,\n",
       "         6.66666667e-02, 6.66666667e-02, 6.66666667e-02, 6.66666667e-02,\n",
       "         6.66666667e-02, 6.66666667e-02, 6.66666667e-02],\n",
       "        [6.66666667e-02, 6.66666667e-02, 6.66666667e-02, 6.66666667e-02,\n",
       "         6.66666667e-02, 6.66666667e-02, 6.66666667e-02, 6.66666667e-02,\n",
       "         6.66666667e-02, 6.66666667e-02, 6.66666667e-02, 6.66666667e-02,\n",
       "         6.66666667e-02, 6.66666667e-02, 6.66666667e-02],\n",
       "        [0.00000000e+00, 1.42857143e-01, 0.00000000e+00, 0.00000000e+00,\n",
       "         0.00000000e+00, 8.57142857e-01, 0.00000000e+00, 0.00000000e+00,\n",
       "         0.00000000e+00, 0.00000000e+00, 0.00000000e+00, 0.00000000e+00,\n",
       "         0.00000000e+00, 0.00000000e+00, 0.00000000e+00],\n",
       "        [0.00000000e+00, 0.00000000e+00, 0.00000000e+00, 0.00000000e+00,\n",
       "         0.00000000e+00, 6.00000000e-01, 2.00000000e-01, 0.00000000e+00,\n",
       "         0.00000000e+00, 0.00000000e+00, 2.00000000e-01, 0.00000000e+00,\n",
       "         0.00000000e+00, 0.00000000e+00, 0.00000000e+00]],\n",
       "\n",
       "       [[0.00000000e+00, 0.00000000e+00, 0.00000000e+00, 0.00000000e+00,\n",
       "         0.00000000e+00, 0.00000000e+00, 1.00000000e+00, 0.00000000e+00,\n",
       "         0.00000000e+00, 0.00000000e+00, 0.00000000e+00, 0.00000000e+00,\n",
       "         0.00000000e+00, 0.00000000e+00, 0.00000000e+00],\n",
       "        [0.00000000e+00, 0.00000000e+00, 0.00000000e+00, 0.00000000e+00,\n",
       "         0.00000000e+00, 0.00000000e+00, 0.00000000e+00, 0.00000000e+00,\n",
       "         0.00000000e+00, 0.00000000e+00, 0.00000000e+00, 1.00000000e+00,\n",
       "         0.00000000e+00, 0.00000000e+00, 0.00000000e+00],\n",
       "        [4.16666667e-03, 4.16666667e-02, 6.25000000e-02, 8.33333333e-03,\n",
       "         4.16666667e-03, 2.08333333e-02, 8.58333333e-01, 0.00000000e+00,\n",
       "         0.00000000e+00, 0.00000000e+00, 0.00000000e+00, 0.00000000e+00,\n",
       "         0.00000000e+00, 0.00000000e+00, 0.00000000e+00],\n",
       "        [0.00000000e+00, 0.00000000e+00, 0.00000000e+00, 0.00000000e+00,\n",
       "         0.00000000e+00, 0.00000000e+00, 7.95454545e-01, 1.13636364e-01,\n",
       "         0.00000000e+00, 0.00000000e+00, 3.40909091e-02, 5.68181818e-02,\n",
       "         0.00000000e+00, 0.00000000e+00, 0.00000000e+00]],\n",
       "\n",
       "       [[0.00000000e+00, 0.00000000e+00, 3.57142857e-02, 0.00000000e+00,\n",
       "         0.00000000e+00, 0.00000000e+00, 0.00000000e+00, 9.64285714e-01,\n",
       "         0.00000000e+00, 0.00000000e+00, 0.00000000e+00, 0.00000000e+00,\n",
       "         0.00000000e+00, 0.00000000e+00, 0.00000000e+00],\n",
       "        [0.00000000e+00, 0.00000000e+00, 0.00000000e+00, 0.00000000e+00,\n",
       "         0.00000000e+00, 0.00000000e+00, 0.00000000e+00, 2.50000000e-01,\n",
       "         0.00000000e+00, 0.00000000e+00, 0.00000000e+00, 7.50000000e-01,\n",
       "         0.00000000e+00, 0.00000000e+00, 0.00000000e+00],\n",
       "        [0.00000000e+00, 4.18410042e-03, 2.23152022e-02, 7.67085077e-02,\n",
       "         1.39470014e-02, 0.00000000e+00, 3.76569038e-02, 8.43793584e-01,\n",
       "         1.39470014e-03, 0.00000000e+00, 0.00000000e+00, 0.00000000e+00,\n",
       "         0.00000000e+00, 0.00000000e+00, 0.00000000e+00],\n",
       "        [0.00000000e+00, 0.00000000e+00, 0.00000000e+00, 0.00000000e+00,\n",
       "         0.00000000e+00, 0.00000000e+00, 0.00000000e+00, 8.12030075e-01,\n",
       "         6.01503759e-02, 0.00000000e+00, 3.00751880e-02, 7.51879699e-02,\n",
       "         2.25563910e-02, 0.00000000e+00, 0.00000000e+00]],\n",
       "\n",
       "       [[0.00000000e+00, 0.00000000e+00, 0.00000000e+00, 0.00000000e+00,\n",
       "         0.00000000e+00, 0.00000000e+00, 0.00000000e+00, 0.00000000e+00,\n",
       "         1.00000000e+00, 0.00000000e+00, 0.00000000e+00, 0.00000000e+00,\n",
       "         0.00000000e+00, 0.00000000e+00, 0.00000000e+00],\n",
       "        [0.00000000e+00, 0.00000000e+00, 0.00000000e+00, 0.00000000e+00,\n",
       "         0.00000000e+00, 0.00000000e+00, 0.00000000e+00, 0.00000000e+00,\n",
       "         1.00000000e+00, 0.00000000e+00, 0.00000000e+00, 0.00000000e+00,\n",
       "         0.00000000e+00, 0.00000000e+00, 0.00000000e+00],\n",
       "        [0.00000000e+00, 0.00000000e+00, 0.00000000e+00, 2.50569476e-02,\n",
       "         2.05011390e-02, 0.00000000e+00, 0.00000000e+00, 8.88382688e-02,\n",
       "         8.61047836e-01, 4.55580866e-03, 0.00000000e+00, 0.00000000e+00,\n",
       "         0.00000000e+00, 0.00000000e+00, 0.00000000e+00],\n",
       "        [0.00000000e+00, 0.00000000e+00, 0.00000000e+00, 0.00000000e+00,\n",
       "         0.00000000e+00, 0.00000000e+00, 0.00000000e+00, 0.00000000e+00,\n",
       "         8.22580645e-01, 6.45161290e-02, 0.00000000e+00, 0.00000000e+00,\n",
       "         4.83870968e-02, 6.45161290e-02, 0.00000000e+00]],\n",
       "\n",
       "       [[0.00000000e+00, 0.00000000e+00, 0.00000000e+00, 0.00000000e+00,\n",
       "         0.00000000e+00, 0.00000000e+00, 0.00000000e+00, 0.00000000e+00,\n",
       "         0.00000000e+00, 1.00000000e+00, 0.00000000e+00, 0.00000000e+00,\n",
       "         0.00000000e+00, 0.00000000e+00, 0.00000000e+00],\n",
       "        [0.00000000e+00, 0.00000000e+00, 0.00000000e+00, 0.00000000e+00,\n",
       "         0.00000000e+00, 0.00000000e+00, 0.00000000e+00, 0.00000000e+00,\n",
       "         0.00000000e+00, 3.33333333e-01, 0.00000000e+00, 0.00000000e+00,\n",
       "         0.00000000e+00, 3.33333333e-01, 3.33333333e-01],\n",
       "        [0.00000000e+00, 0.00000000e+00, 0.00000000e+00, 1.04166667e-02,\n",
       "         2.08333333e-02, 0.00000000e+00, 0.00000000e+00, 0.00000000e+00,\n",
       "         1.97916667e-01, 7.70833333e-01, 0.00000000e+00, 0.00000000e+00,\n",
       "         0.00000000e+00, 0.00000000e+00, 0.00000000e+00],\n",
       "        [0.00000000e+00, 0.00000000e+00, 0.00000000e+00, 0.00000000e+00,\n",
       "         0.00000000e+00, 0.00000000e+00, 0.00000000e+00, 0.00000000e+00,\n",
       "         0.00000000e+00, 6.66666667e-01, 0.00000000e+00, 0.00000000e+00,\n",
       "         8.33333333e-02, 8.33333333e-02, 1.66666667e-01]],\n",
       "\n",
       "       [[1.43540670e-02, 4.16267943e-01, 2.24880383e-01, 4.78468899e-03,\n",
       "         0.00000000e+00, 3.39712919e-01, 0.00000000e+00, 0.00000000e+00,\n",
       "         0.00000000e+00, 0.00000000e+00, 0.00000000e+00, 0.00000000e+00,\n",
       "         0.00000000e+00, 0.00000000e+00, 0.00000000e+00],\n",
       "        [0.00000000e+00, 0.00000000e+00, 0.00000000e+00, 0.00000000e+00,\n",
       "         0.00000000e+00, 5.33333333e-01, 6.66666667e-02, 0.00000000e+00,\n",
       "         0.00000000e+00, 0.00000000e+00, 4.00000000e-01, 0.00000000e+00,\n",
       "         0.00000000e+00, 0.00000000e+00, 0.00000000e+00],\n",
       "        [3.61010830e-03, 1.28932439e-02, 9.28313564e-03, 5.15729758e-04,\n",
       "         5.15729758e-04, 9.69571944e-01, 1.54718927e-03, 2.06291903e-03,\n",
       "         0.00000000e+00, 0.00000000e+00, 0.00000000e+00, 0.00000000e+00,\n",
       "         0.00000000e+00, 0.00000000e+00, 0.00000000e+00],\n",
       "        [0.00000000e+00, 0.00000000e+00, 0.00000000e+00, 0.00000000e+00,\n",
       "         0.00000000e+00, 8.00999546e-01, 1.83098592e-01, 1.40845070e-02,\n",
       "         0.00000000e+00, 0.00000000e+00, 1.81735575e-03, 0.00000000e+00,\n",
       "         0.00000000e+00, 0.00000000e+00, 0.00000000e+00]],\n",
       "\n",
       "       [[0.00000000e+00, 7.98611111e-02, 4.63541667e-01, 1.90972222e-02,\n",
       "         0.00000000e+00, 2.77777778e-02, 4.07986111e-01, 1.73611111e-03,\n",
       "         0.00000000e+00, 0.00000000e+00, 0.00000000e+00, 0.00000000e+00,\n",
       "         0.00000000e+00, 0.00000000e+00, 0.00000000e+00],\n",
       "        [0.00000000e+00, 0.00000000e+00, 0.00000000e+00, 0.00000000e+00,\n",
       "         0.00000000e+00, 0.00000000e+00, 6.17977528e-01, 1.23595506e-01,\n",
       "         0.00000000e+00, 0.00000000e+00, 5.61797753e-02, 1.79775281e-01,\n",
       "         2.24719101e-02, 0.00000000e+00, 0.00000000e+00],\n",
       "        [0.00000000e+00, 8.03805774e-03, 1.38342082e-02, 1.58573928e-03,\n",
       "         0.00000000e+00, 2.41141732e-02, 9.52209099e-01, 1.09361330e-04,\n",
       "         5.46806649e-05, 5.46806649e-05, 0.00000000e+00, 0.00000000e+00,\n",
       "         0.00000000e+00, 0.00000000e+00, 0.00000000e+00],\n",
       "        [0.00000000e+00, 0.00000000e+00, 5.78302105e-05, 0.00000000e+00,\n",
       "         0.00000000e+00, 0.00000000e+00, 8.69824196e-01, 1.24450613e-01,\n",
       "         5.78302105e-04, 0.00000000e+00, 2.48669905e-03, 2.37103863e-03,\n",
       "         2.31320842e-04, 0.00000000e+00, 0.00000000e+00]],\n",
       "\n",
       "       [[0.00000000e+00, 2.06185567e-03, 2.18556701e-01, 1.67010309e-01,\n",
       "         2.06185567e-03, 0.00000000e+00, 5.15463917e-02, 5.58762887e-01,\n",
       "         0.00000000e+00, 0.00000000e+00, 0.00000000e+00, 0.00000000e+00,\n",
       "         0.00000000e+00, 0.00000000e+00, 0.00000000e+00],\n",
       "        [0.00000000e+00, 0.00000000e+00, 0.00000000e+00, 0.00000000e+00,\n",
       "         0.00000000e+00, 0.00000000e+00, 0.00000000e+00, 5.54474708e-01,\n",
       "         5.64202335e-02, 0.00000000e+00, 3.89105058e-03, 2.23735409e-01,\n",
       "         1.59533074e-01, 1.94552529e-03, 0.00000000e+00],\n",
       "        [0.00000000e+00, 5.25486075e-04, 6.34962340e-03, 1.07286740e-02,\n",
       "         1.05097215e-03, 1.70782974e-03, 9.48940270e-02, 8.84655807e-01,\n",
       "         4.37905062e-05, 0.00000000e+00, 0.00000000e+00, 0.00000000e+00,\n",
       "         4.37905062e-05, 0.00000000e+00, 0.00000000e+00],\n",
       "        [0.00000000e+00, 0.00000000e+00, 0.00000000e+00, 0.00000000e+00,\n",
       "         0.00000000e+00, 4.43478646e-05, 8.86957293e-05, 8.89307730e-01,\n",
       "         8.70105104e-02, 2.21739323e-03, 1.50782740e-03, 1.31713158e-02,\n",
       "         6.29739678e-03, 3.10435053e-04, 4.43478646e-05]],\n",
       "\n",
       "       [[0.00000000e+00, 0.00000000e+00, 1.73913043e-02, 1.65217391e-01,\n",
       "         1.21739130e-01, 0.00000000e+00, 0.00000000e+00, 5.21739130e-02,\n",
       "         6.34782609e-01, 0.00000000e+00, 0.00000000e+00, 0.00000000e+00,\n",
       "         8.69565217e-03, 0.00000000e+00, 0.00000000e+00],\n",
       "        [1.93423598e-03, 0.00000000e+00, 0.00000000e+00, 0.00000000e+00,\n",
       "         0.00000000e+00, 0.00000000e+00, 0.00000000e+00, 0.00000000e+00,\n",
       "         4.10058027e-01, 2.51450677e-02, 0.00000000e+00, 3.28820116e-02,\n",
       "         4.71953578e-01, 5.41586073e-02, 3.86847195e-03],\n",
       "        [0.00000000e+00, 0.00000000e+00, 8.50484776e-05, 3.48698758e-03,\n",
       "         2.63650281e-03, 0.00000000e+00, 8.50484776e-04, 1.62272495e-01,\n",
       "         8.30668481e-01, 0.00000000e+00, 0.00000000e+00, 0.00000000e+00,\n",
       "         0.00000000e+00, 0.00000000e+00, 0.00000000e+00],\n",
       "        [0.00000000e+00, 0.00000000e+00, 0.00000000e+00, 0.00000000e+00,\n",
       "         0.00000000e+00, 0.00000000e+00, 0.00000000e+00, 1.69262018e-04,\n",
       "         9.38134732e-01, 3.40216655e-02, 0.00000000e+00, 1.94651320e-03,\n",
       "         1.81110359e-02, 7.36289777e-03, 2.53893026e-04]],\n",
       "\n",
       "       [[0.00000000e+00, 0.00000000e+00, 0.00000000e+00, 0.00000000e+00,\n",
       "         1.21212121e-01, 0.00000000e+00, 0.00000000e+00, 0.00000000e+00,\n",
       "         1.21212121e-01, 7.57575757e-01, 0.00000000e+00, 0.00000000e+00,\n",
       "         0.00000000e+00, 0.00000000e+00, 0.00000000e+00],\n",
       "        [0.00000000e+00, 0.00000000e+00, 0.00000000e+00, 0.00000000e+00,\n",
       "         0.00000000e+00, 0.00000000e+00, 0.00000000e+00, 0.00000000e+00,\n",
       "         0.00000000e+00, 3.29192547e-01, 0.00000000e+00, 0.00000000e+00,\n",
       "         3.22981366e-01, 3.41614907e-01, 6.21118012e-03],\n",
       "        [0.00000000e+00, 0.00000000e+00, 0.00000000e+00, 2.48962656e-03,\n",
       "         4.97925311e-03, 0.00000000e+00, 0.00000000e+00, 3.23651452e-02,\n",
       "         2.80497925e-01, 6.79668050e-01, 0.00000000e+00, 0.00000000e+00,\n",
       "         0.00000000e+00, 0.00000000e+00, 0.00000000e+00],\n",
       "        [0.00000000e+00, 0.00000000e+00, 0.00000000e+00, 0.00000000e+00,\n",
       "         0.00000000e+00, 0.00000000e+00, 0.00000000e+00, 0.00000000e+00,\n",
       "         0.00000000e+00, 9.27845528e-01, 0.00000000e+00, 4.06504065e-03,\n",
       "         2.74390244e-02, 3.25203252e-02, 8.13008130e-03]],\n",
       "\n",
       "       [[0.00000000e+00, 7.50000000e-01, 2.50000000e-01, 0.00000000e+00,\n",
       "         0.00000000e+00, 0.00000000e+00, 0.00000000e+00, 0.00000000e+00,\n",
       "         0.00000000e+00, 0.00000000e+00, 0.00000000e+00, 0.00000000e+00,\n",
       "         0.00000000e+00, 0.00000000e+00, 0.00000000e+00],\n",
       "        [0.00000000e+00, 0.00000000e+00, 0.00000000e+00, 0.00000000e+00,\n",
       "         0.00000000e+00, 5.00000000e-01, 5.00000000e-01, 0.00000000e+00,\n",
       "         0.00000000e+00, 0.00000000e+00, 0.00000000e+00, 0.00000000e+00,\n",
       "         0.00000000e+00, 0.00000000e+00, 0.00000000e+00],\n",
       "        [0.00000000e+00, 0.00000000e+00, 0.00000000e+00, 0.00000000e+00,\n",
       "         0.00000000e+00, 9.50000000e-01, 5.00000000e-02, 0.00000000e+00,\n",
       "         0.00000000e+00, 0.00000000e+00, 0.00000000e+00, 0.00000000e+00,\n",
       "         0.00000000e+00, 0.00000000e+00, 0.00000000e+00],\n",
       "        [0.00000000e+00, 0.00000000e+00, 0.00000000e+00, 0.00000000e+00,\n",
       "         0.00000000e+00, 7.85714286e-01, 1.98412698e-01, 0.00000000e+00,\n",
       "         0.00000000e+00, 0.00000000e+00, 7.93650794e-03, 7.93650794e-03,\n",
       "         0.00000000e+00, 0.00000000e+00, 0.00000000e+00]],\n",
       "\n",
       "       [[0.00000000e+00, 0.00000000e+00, 3.33333333e-01, 0.00000000e+00,\n",
       "         0.00000000e+00, 0.00000000e+00, 6.66666667e-01, 0.00000000e+00,\n",
       "         0.00000000e+00, 0.00000000e+00, 0.00000000e+00, 0.00000000e+00,\n",
       "         0.00000000e+00, 0.00000000e+00, 0.00000000e+00],\n",
       "        [0.00000000e+00, 0.00000000e+00, 0.00000000e+00, 0.00000000e+00,\n",
       "         0.00000000e+00, 0.00000000e+00, 1.00000000e+00, 0.00000000e+00,\n",
       "         0.00000000e+00, 0.00000000e+00, 0.00000000e+00, 0.00000000e+00,\n",
       "         0.00000000e+00, 0.00000000e+00, 0.00000000e+00],\n",
       "        [0.00000000e+00, 2.46913580e-02, 3.70370370e-02, 1.23456790e-02,\n",
       "         0.00000000e+00, 7.40740741e-02, 8.51851852e-01, 0.00000000e+00,\n",
       "         0.00000000e+00, 0.00000000e+00, 0.00000000e+00, 0.00000000e+00,\n",
       "         0.00000000e+00, 0.00000000e+00, 0.00000000e+00],\n",
       "        [0.00000000e+00, 0.00000000e+00, 0.00000000e+00, 0.00000000e+00,\n",
       "         0.00000000e+00, 1.98019802e-03, 8.07920792e-01, 1.20792079e-01,\n",
       "         0.00000000e+00, 0.00000000e+00, 5.14851485e-02, 1.58415842e-02,\n",
       "         1.98019802e-03, 0.00000000e+00, 0.00000000e+00]],\n",
       "\n",
       "       [[0.00000000e+00, 0.00000000e+00, 0.00000000e+00, 0.00000000e+00,\n",
       "         0.00000000e+00, 0.00000000e+00, 0.00000000e+00, 1.00000000e+00,\n",
       "         0.00000000e+00, 0.00000000e+00, 0.00000000e+00, 0.00000000e+00,\n",
       "         0.00000000e+00, 0.00000000e+00, 0.00000000e+00],\n",
       "        [6.66666667e-02, 6.66666667e-02, 6.66666667e-02, 6.66666667e-02,\n",
       "         6.66666667e-02, 6.66666667e-02, 6.66666667e-02, 6.66666667e-02,\n",
       "         6.66666667e-02, 6.66666667e-02, 6.66666667e-02, 6.66666667e-02,\n",
       "         6.66666667e-02, 6.66666667e-02, 6.66666667e-02],\n",
       "        [0.00000000e+00, 0.00000000e+00, 3.22580645e-02, 5.64516129e-02,\n",
       "         4.03225806e-02, 8.06451613e-03, 8.06451613e-02, 7.82258064e-01,\n",
       "         0.00000000e+00, 0.00000000e+00, 0.00000000e+00, 0.00000000e+00,\n",
       "         0.00000000e+00, 0.00000000e+00, 0.00000000e+00],\n",
       "        [0.00000000e+00, 0.00000000e+00, 0.00000000e+00, 0.00000000e+00,\n",
       "         0.00000000e+00, 1.49476831e-03, 1.49476831e-03, 8.04185351e-01,\n",
       "         3.58744395e-02, 1.49476831e-03, 3.58744395e-02, 8.96860986e-02,\n",
       "         2.69058296e-02, 2.98953662e-03, 0.00000000e+00]],\n",
       "\n",
       "       [[0.00000000e+00, 2.50000000e-01, 0.00000000e+00, 0.00000000e+00,\n",
       "         0.00000000e+00, 0.00000000e+00, 0.00000000e+00, 0.00000000e+00,\n",
       "         7.50000000e-01, 0.00000000e+00, 0.00000000e+00, 0.00000000e+00,\n",
       "         0.00000000e+00, 0.00000000e+00, 0.00000000e+00],\n",
       "        [6.66666667e-02, 6.66666667e-02, 6.66666667e-02, 6.66666667e-02,\n",
       "         6.66666667e-02, 6.66666667e-02, 6.66666667e-02, 6.66666667e-02,\n",
       "         6.66666667e-02, 6.66666667e-02, 6.66666667e-02, 6.66666667e-02,\n",
       "         6.66666667e-02, 6.66666667e-02, 6.66666667e-02],\n",
       "        [0.00000000e+00, 0.00000000e+00, 0.00000000e+00, 1.06382979e-01,\n",
       "         4.25531915e-02, 0.00000000e+00, 2.12765957e-02, 1.27659574e-01,\n",
       "         7.02127660e-01, 0.00000000e+00, 0.00000000e+00, 0.00000000e+00,\n",
       "         0.00000000e+00, 0.00000000e+00, 0.00000000e+00],\n",
       "        [0.00000000e+00, 0.00000000e+00, 0.00000000e+00, 0.00000000e+00,\n",
       "         0.00000000e+00, 0.00000000e+00, 0.00000000e+00, 0.00000000e+00,\n",
       "         8.22857143e-01, 2.28571429e-02, 0.00000000e+00, 1.14285714e-02,\n",
       "         1.08571429e-01, 2.85714286e-02, 5.71428571e-03]],\n",
       "\n",
       "       [[0.00000000e+00, 0.00000000e+00, 1.00000000e+00, 0.00000000e+00,\n",
       "         0.00000000e+00, 0.00000000e+00, 0.00000000e+00, 0.00000000e+00,\n",
       "         0.00000000e+00, 0.00000000e+00, 0.00000000e+00, 0.00000000e+00,\n",
       "         0.00000000e+00, 0.00000000e+00, 0.00000000e+00],\n",
       "        [0.00000000e+00, 0.00000000e+00, 0.00000000e+00, 0.00000000e+00,\n",
       "         0.00000000e+00, 0.00000000e+00, 0.00000000e+00, 0.00000000e+00,\n",
       "         0.00000000e+00, 5.00000000e-01, 0.00000000e+00, 0.00000000e+00,\n",
       "         0.00000000e+00, 5.00000000e-01, 0.00000000e+00],\n",
       "        [0.00000000e+00, 0.00000000e+00, 0.00000000e+00, 1.42857143e-01,\n",
       "         2.85714286e-01, 0.00000000e+00, 0.00000000e+00, 0.00000000e+00,\n",
       "         0.00000000e+00, 5.71428571e-01, 0.00000000e+00, 0.00000000e+00,\n",
       "         0.00000000e+00, 0.00000000e+00, 0.00000000e+00],\n",
       "        [0.00000000e+00, 0.00000000e+00, 0.00000000e+00, 0.00000000e+00,\n",
       "         0.00000000e+00, 0.00000000e+00, 0.00000000e+00, 0.00000000e+00,\n",
       "         9.09090909e-02, 3.63636364e-01, 0.00000000e+00, 0.00000000e+00,\n",
       "         9.09090909e-02, 2.72727273e-01, 1.81818182e-01]]])"
      ]
     },
     "execution_count": 25,
     "metadata": {},
     "output_type": "execute_result"
    }
   ],
   "source": [
    "model.transition_probabilities"
   ]
  },
  {
   "cell_type": "code",
   "execution_count": null,
   "metadata": {},
   "outputs": [],
   "source": []
  }
 ],
 "metadata": {
  "kernelspec": {
   "display_name": "Python 3",
   "language": "python",
   "name": "python3"
  },
  "language_info": {
   "codemirror_mode": {
    "name": "ipython",
    "version": 3
   },
   "file_extension": ".py",
   "mimetype": "text/x-python",
   "name": "python",
   "nbconvert_exporter": "python",
   "pygments_lexer": "ipython3",
   "version": "3.7.6"
  }
 },
 "nbformat": 4,
 "nbformat_minor": 2
}
