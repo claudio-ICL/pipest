{
 "cells": [
  {
   "cell_type": "code",
   "execution_count": 1,
   "metadata": {},
   "outputs": [],
   "source": [
    "import os\n",
    "path_pipest = os.path.abspath('./')\n",
    "n=0\n",
    "while (not os.path.basename(path_pipest)=='pipest') and (n<6):\n",
    "    path_pipest=os.path.dirname(path_pipest)\n",
    "    n+=1 \n",
    "if not os.path.basename(path_pipest)=='pipest':\n",
    "    raise ValueError(\"path_pipest not found. Instead: {}\".format(path_pipest))\n",
    "path_sdhawkes=path_pipest+'/sdhawkes'\n",
    "path_lobster=path_pipest+'/lobster'\n",
    "path_lobster_data=path_lobster+'/data'\n",
    "path_lobster_pyscripts=path_lobster+'/py_scripts'\n",
    "path_models=path_pipest+'/models'\n",
    "path_tests=path_pipest+'/tests'\n",
    "path_saved_tests=path_tests+'/saved_tests'\n",
    "path_impact_models = path_pipest+'/impact/models'"
   ]
  },
  {
   "cell_type": "code",
   "execution_count": 2,
   "metadata": {},
   "outputs": [],
   "source": [
    "import time\n",
    "import sys\n",
    "sys.path.append(path_sdhawkes+'/resources/')\n",
    "sys.path.append(path_sdhawkes+'/modelling/')\n",
    "sys.path.append(path_lobster_pyscripts+'/')"
   ]
  },
  {
   "cell_type": "code",
   "execution_count": 3,
   "metadata": {},
   "outputs": [
    {
     "name": "stdout",
     "output_type": "stream",
     "text": [
      "['/home/claudio/pipest/pipest/models', '/home/claudio/anaconda3/envs/pipest/lib/python37.zip', '/home/claudio/anaconda3/envs/pipest/lib/python3.7', '/home/claudio/anaconda3/envs/pipest/lib/python3.7/lib-dynload', '', '/home/claudio/.local/lib/python3.7/site-packages', '/home/claudio/anaconda3/envs/pipest/lib/python3.7/site-packages', '/home/claudio/anaconda3/envs/pipest/lib/python3.7/site-packages/IPython/extensions', '/home/claudio/.ipython', '/home/claudio/pipest/pipest/sdhawkes/resources/', '/home/claudio/pipest/pipest/sdhawkes/modelling/', '/home/claudio/pipest/pipest/lobster/py_scripts/']\n"
     ]
    }
   ],
   "source": [
    "print(sys.path)"
   ]
  },
  {
   "cell_type": "code",
   "execution_count": 4,
   "metadata": {},
   "outputs": [],
   "source": [
    "import pickle\n",
    "import numpy as np\n",
    "import pandas as pd"
   ]
  },
  {
   "cell_type": "code",
   "execution_count": 5,
   "metadata": {},
   "outputs": [],
   "source": [
    "# import model\n",
    "# import lob_model\n",
    "# import computation\n",
    "# import simulation\n",
    "# import goodness_of_fit\n",
    "# import mle_estimation as mle_estim\n",
    "# import uncertainty_quant"
   ]
  },
  {
   "cell_type": "code",
   "execution_count": 6,
   "metadata": {},
   "outputs": [],
   "source": [
    "symbol = \"INTC\"\n",
    "date = \"2019-01-23\"\n",
    "time_window = \"37800-41400\""
   ]
  },
  {
   "cell_type": "code",
   "execution_count": 7,
   "metadata": {},
   "outputs": [],
   "source": [
    "partial_model=False\n",
    "component=0"
   ]
  },
  {
   "cell_type": "code",
   "execution_count": 8,
   "metadata": {},
   "outputs": [
    {
     "name": "stdout",
     "output_type": "stream",
     "text": [
      "openmp.omp_get_max_threads(): 4\n"
     ]
    }
   ],
   "source": [
    "# with open(path_models+'/{}/{}_{}/{}_sdhawkes_{}_{}'.format(symbol, symbol, date,symbol, date, time_window),'rb') as source:\n",
    "#         model=pickle.load(source)\n",
    "if not partial_model:\n",
    "    try:\n",
    "        with open(path_models+'/{}/{}_sdhawkes_{}_{}_onesided_thesis_1s8'.format(symbol, symbol, date, time_window),'rb') as source:\n",
    "            model=pickle.load(source)\n",
    "    except FileNotFoundError:\n",
    "        with open(path_models+'/{}/{}_{}/{}_sdhawkes_{}_{}_onesided_thesis'.format(symbol, symbol, date, symbol, date, time_window),'rb') as source:\n",
    "            model=pickle.load(source)\n",
    "\n",
    "if partial_model:\n",
    "    with open(path_models+'/{}/{}_{}/partial_models/{}_{}_{}_partial{}'.format(\n",
    "        symbol, symbol, date, symbol, date, time_window, component),'rb') as source:\n",
    "            model=pickle.load(source)"
   ]
  },
  {
   "cell_type": "code",
   "execution_count": 9,
   "metadata": {},
   "outputs": [],
   "source": [
    "##This cell was used to produce the visualisation of loss function during gradient descent \n",
    "# lossfuns = []\n",
    "# axs = []\n",
    "# fig  = plt.figure(figsize=(15,8))\n",
    "# for e in range(4):\n",
    "#     component = 1+e\n",
    "#     with open(path_models+'/{}/{}_{}/partial_models/{}_{}_{}_partial{}'.format(\n",
    "#         symbol, symbol, date, symbol, date, time_window, e),'rb') as source:\n",
    "#             model=pickle.load(source)\n",
    "#     res = model.mle_estim.results_of_estimation[0]['MinimisationProcedure'].results\n",
    "#     lossfun = []\n",
    "#     for i in range(len(res)):\n",
    "#         fs = [b_res['f'] for b_res in res[i]['results_batches']]\n",
    "#         lossfun.append(np.concatenate(fs, axis=0))\n",
    "#     lossfuns.append(lossfun)\n",
    "#     axs.append(fig.add_subplot(2,2,component, label='component {}'.format(component)))\n",
    "#     axs[e].set_title('Component {}'.format(component))\n",
    "#     axs[e].plot((lossfun[0][5:]))\n",
    "#     axs[e].plot((lossfun[1][5:]))\n",
    "#     axs[e].plot((lossfun[2][5:]))\n",
    "#     axs[e].plot((lossfun[3][5:]))\n",
    "#     axs[e].plot((lossfun[4][15:]))\n",
    "#     axs[e].plot((lossfun[5][15:]))\n",
    "# plt.suptitle('Loss function', fontsize=16)\n",
    "# plt.show()"
   ]
  },
  {
   "cell_type": "code",
   "execution_count": 10,
   "metadata": {},
   "outputs": [],
   "source": [
    "# path = path_impact_models+'/{}/{}_{}_{}/'.format(symbol, symbol, date, time_window)\n",
    "# path += '{}_sdhawkes_{}_{}'.format(symbol, date, time_window)\n",
    "# with open(path, 'rb') as source:\n",
    "#     model=pickle.load(source)"
   ]
  },
  {
   "cell_type": "code",
   "execution_count": 11,
   "metadata": {},
   "outputs": [
    {
     "name": "stdout",
     "output_type": "stream",
     "text": [
      "INTC_sdhawkes_2019-01-23_37800-41400_onesided_thesis\n",
      "Date and time of initilisation: 2020-10-17 09:18:14.521649\n",
      "number_of_event_types: 4; number_of_states: 15\n",
      "Dimension of dataset: (153157, 10)\n"
     ]
    }
   ],
   "source": [
    "print(model.name_of_model)\n",
    "print('Date and time of initilisation: {}'.format(model.datetime_of_initialisation))\n",
    "print('number_of_event_types: {}; number_of_states: {}'.format(\n",
    "    model.number_of_event_types, model.number_of_states))\n",
    "print('Dimension of dataset: {}'.format((model.data.messagefile.shape)))"
   ]
  },
  {
   "cell_type": "code",
   "execution_count": 12,
   "metadata": {},
   "outputs": [
    {
     "name": "stdout",
     "output_type": "stream",
     "text": [
      "[0.14008215 0.14451349 6.4689     6.0295    ]\n"
     ]
    }
   ],
   "source": [
    "print(model.base_rates)"
   ]
  },
  {
   "cell_type": "code",
   "execution_count": 13,
   "metadata": {},
   "outputs": [
    {
     "data": {
      "image/png": "[encoded data removed]",
      "text/plain": [
       "<Figure size 936x576 with 4 Axes>"
      ]
     },
     "metadata": {
      "needs_background": "light"
     },
     "output_type": "display_data"
    },
    {
     "name": "stdout",
     "output_type": "stream",
     "text": [
      "Anderson-Darling test to check distribution of residuals\n",
      "Null hypothesis is \"expon\" \n",
      "Significance levels: [15.  10.   5.   2.5  1. ]\n",
      "Critical values: [0.921 1.077 1.34  1.605 1.956]\n",
      "event type=0, ad_stat: 607.8714328403396\n",
      "event type=1, ad_stat: 361.3923740651651\n",
      "event type=2, ad_stat: 109043.14310559261\n",
      "event type=3, ad_stat: 96679.67637815818\n",
      "None\n"
     ]
    }
   ],
   "source": [
    "model.goodness_of_fit.qq_plot_residuals(index_of_first_event_type=1,\n",
    "                                        save_fig=False,)\n",
    "print(model.goodness_of_fit.ad_test_on_residuals())"
   ]
  },
  {
   "cell_type": "code",
   "execution_count": 14,
   "metadata": {},
   "outputs": [
    {
     "ename": "AttributeError",
     "evalue": "'EstimProcedure' object has no attribute 'goodness_of_fit'",
     "output_type": "error",
     "traceback": [
      "\u001b[0;31m---------------------------------------------------------------------------\u001b[0m",
      "\u001b[0;31mAttributeError\u001b[0m                            Traceback (most recent call last)",
      "\u001b[0;32m<ipython-input-14-6ecc64ae4795>\u001b[0m in \u001b[0;36m<module>\u001b[0;34m\u001b[0m\n\u001b[0;32m----> 1\u001b[0;31m \u001b[0mmodel\u001b[0m\u001b[0;34m.\u001b[0m\u001b[0mmle_estim\u001b[0m\u001b[0;34m.\u001b[0m\u001b[0mgoodness_of_fit\u001b[0m\u001b[0;34m.\u001b[0m\u001b[0mqq_plot_residuals\u001b[0m\u001b[0;34m(\u001b[0m\u001b[0mindex_of_first_event_type\u001b[0m\u001b[0;34m=\u001b[0m\u001b[0;36m1\u001b[0m\u001b[0;34m)\u001b[0m\u001b[0;34m\u001b[0m\u001b[0;34m\u001b[0m\u001b[0m\n\u001b[0m\u001b[1;32m      2\u001b[0m \u001b[0mprint\u001b[0m\u001b[0;34m(\u001b[0m\u001b[0mmodel\u001b[0m\u001b[0;34m.\u001b[0m\u001b[0mmle_estim\u001b[0m\u001b[0;34m.\u001b[0m\u001b[0mgoodness_of_fit\u001b[0m\u001b[0;34m.\u001b[0m\u001b[0mad_test_on_residuals\u001b[0m\u001b[0;34m(\u001b[0m\u001b[0;34m)\u001b[0m\u001b[0;34m)\u001b[0m\u001b[0;34m\u001b[0m\u001b[0;34m\u001b[0m\u001b[0m\n",
      "\u001b[0;31mAttributeError\u001b[0m: 'EstimProcedure' object has no attribute 'goodness_of_fit'"
     ]
    }
   ],
   "source": [
    "model.mle_estim.goodness_of_fit.qq_plot_residuals(index_of_first_event_type=1)\n",
    "print(model.mle_estim.goodness_of_fit.ad_test_on_residuals())"
   ]
  },
  {
   "cell_type": "code",
   "execution_count": null,
   "metadata": {},
   "outputs": [],
   "source": [
    "print(model.inflationary_pressure)\n",
    "print(model.deflationary_pressure)\n",
    "print(model.inflationary_pressure-model.deflationary_pressure)"
   ]
  },
  {
   "cell_type": "code",
   "execution_count": null,
   "metadata": {},
   "outputs": [],
   "source": [
    "# model.set_transition_probabilities(model.transition_probabilities)"
   ]
  },
  {
   "cell_type": "code",
   "execution_count": null,
   "metadata": {},
   "outputs": [],
   "source": [
    "# model.nonparam_estim.goodness_of_fit.qq_plot_residuals(index_of_first_event_type=1)\n",
    "# print(model.nonparam_estim.goodness_of_fit.ad_test_on_residuals())"
   ]
  },
  {
   "cell_type": "code",
   "execution_count": null,
   "metadata": {},
   "outputs": [],
   "source": [
    "# minim=model.mle_estim.results_of_estimation[3].get(\"MinimisationProcedure\")\n",
    "# minim.results"
   ]
  },
  {
   "cell_type": "code",
   "execution_count": null,
   "metadata": {},
   "outputs": [],
   "source": [
    "print(model.base_rates)\n",
    "print(model.mle_estim.base_rates)"
   ]
  },
  {
   "cell_type": "code",
   "execution_count": null,
   "metadata": {},
   "outputs": [],
   "source": [
    "rho_max=0.0\n",
    "for x in range(model.number_of_states):\n",
    "    vals=(np.linalg.eigvals(model.impact_decay_ratios[:,x,:]))\n",
    "    rho_max=max(rho_max,np.abs(np.amax(vals)))\n",
    "#     print(model.impact_decay_ratios[:,x,:])\n",
    "    print(\"x={}, max_L1norm={}, rho={}\".format(x,np.amax(model.impact_decay_ratios[:,x,:]),np.amax(vals)))\n",
    "print(\"rho_max={}\".format(rho_max))    "
   ]
  },
  {
   "cell_type": "code",
   "execution_count": null,
   "metadata": {},
   "outputs": [],
   "source": [
    "# model.mle_estim.dirichlet_param"
   ]
  },
  {
   "cell_type": "code",
   "execution_count": null,
   "metadata": {},
   "outputs": [],
   "source": [
    "# model.impact_coefficients"
   ]
  },
  {
   "cell_type": "code",
   "execution_count": null,
   "metadata": {},
   "outputs": [],
   "source": [
    "e1=1\n",
    "e=0\n",
    "model.decay_coefficients[e1,:,e]"
   ]
  },
  {
   "cell_type": "code",
   "execution_count": null,
   "metadata": {},
   "outputs": [],
   "source": [
    "model.impact_decay_ratios[e1,:,e]"
   ]
  },
  {
   "cell_type": "code",
   "execution_count": null,
   "metadata": {},
   "outputs": [],
   "source": [
    "np.amin(model.decay_coefficients)"
   ]
  },
  {
   "cell_type": "code",
   "execution_count": null,
   "metadata": {},
   "outputs": [],
   "source": [
    "e=3\n",
    "print(np.amax(model.impact_decay_ratios[:,:,e]))\n",
    "print(np.amin(model.impact_decay_ratios[:,:,e]))\n",
    "print(np.mean(model.impact_decay_ratios[:,:,e]))"
   ]
  },
  {
   "cell_type": "code",
   "execution_count": null,
   "metadata": {},
   "outputs": [],
   "source": [
    "x=2\n",
    "np.linalg.eigvals(model.impact_decay_ratios[:,x,:])"
   ]
  },
  {
   "cell_type": "code",
   "execution_count": null,
   "metadata": {},
   "outputs": [],
   "source": []
  },
  {
   "cell_type": "code",
   "execution_count": null,
   "metadata": {},
   "outputs": [],
   "source": [
    "model.inflationary_pressure"
   ]
  },
  {
   "cell_type": "code",
   "execution_count": null,
   "metadata": {},
   "outputs": [],
   "source": [
    "model.deflationary_pressure"
   ]
  },
  {
   "cell_type": "code",
   "execution_count": null,
   "metadata": {},
   "outputs": [],
   "source": [
    "model.impact_coefficients"
   ]
  },
  {
   "cell_type": "code",
   "execution_count": null,
   "metadata": {},
   "outputs": [],
   "source": [
    "model.transition_probabilities"
   ]
  },
  {
   "cell_type": "code",
   "execution_count": null,
   "metadata": {},
   "outputs": [],
   "source": [
    "model.calibration.mle_info"
   ]
  },
  {
   "cell_type": "code",
   "execution_count": null,
   "metadata": {},
   "outputs": [],
   "source": []
  }
 ],
 "metadata": {
  "kernelspec": {
   "display_name": "Python 3",
   "language": "python",
   "name": "python3"
  },
  "language_info": {
   "codemirror_mode": {
    "name": "ipython",
    "version": 3
   },
   "file_extension": ".py",
   "mimetype": "text/x-python",
   "name": "python",
   "nbconvert_exporter": "python",
   "pygments_lexer": "ipython3",
   "version": "3.7.7"
  }
 },
 "nbformat": 4,
 "nbformat_minor": 2
}
