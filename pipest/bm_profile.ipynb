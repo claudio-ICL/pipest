{
 "cells": [
  {
   "cell_type": "code",
   "execution_count": 1,
   "metadata": {},
   "outputs": [
    {
     "name": "stdout",
     "output_type": "stream",
     "text": [
      "openmp.omp_get_max_threads(): 4\n"
     ]
    }
   ],
   "source": [
    "import sys\n",
    "import os\n",
    "path_pipest = os.path.abspath('./')\n",
    "n=0\n",
    "while (not os.path.basename(path_pipest)=='pipest') and (n<4):\n",
    "    path_pipest=os.path.dirname(path_pipest)\n",
    "    n+=1 \n",
    "if not os.path.basename(path_pipest)=='pipest':\n",
    "    print(\"path_pipest not found. Instead: {}\".format(path_pipest))\n",
    "    raise ValueError(\"path_pipest not found.\")\n",
    "path_models=path_pipest+'/models'    \n",
    "path_sdhawkes=path_pipest+'/sdhawkes'\n",
    "path_modelling = path_sdhawkes+'/modelling'\n",
    "path_resources = path_sdhawkes+'/resources'\n",
    "path_lobster=path_pipest+'/lobster_for_sdhawkes'\n",
    "path_lobster_data=path_lobster+'/data'\n",
    "path_lobster_pyscripts=path_lobster+'/py_scripts'\n",
    "path_tests = path_pipest+'/tests'\n",
    "path_saved_tests = path_tests+'/saved_tests'\n",
    "path_perfmeas=path_tests+'/performance_measurements'\n",
    "sys.path.append(path_modelling)\n",
    "sys.path.append(path_resources)\n",
    "sys.path.append(path_perfmeas)\n",
    "import numpy as np\n",
    "import pandas as pd\n",
    "import pickle\n",
    "import datetime\n",
    "import time\n",
    "import datetime\n",
    "import timeit\n",
    "import model as sd_hawkes_model\n",
    "import plot_tools"
   ]
  },
  {
   "cell_type": "code",
   "execution_count": 2,
   "metadata": {},
   "outputs": [],
   "source": [
    "import matplotlib.pyplot as plt"
   ]
  },
  {
   "cell_type": "code",
   "execution_count": 3,
   "metadata": {},
   "outputs": [],
   "source": [
    "symbol=\"INTC\"\n",
    "date=\"2019-01-23\"\n",
    "time_window=\"37800-41400\""
   ]
  },
  {
   "cell_type": "code",
   "execution_count": 4,
   "metadata": {},
   "outputs": [
    {
     "ename": "AttributeError",
     "evalue": "Can't get attribute 'RejectSampling' on <module 'lob_model' from '/home/claudio/pipest/pipest/sdhawkes/modelling/lob_model.cpython-37m-x86_64-linux-gnu.so'>",
     "output_type": "error",
     "traceback": [
      "\u001b[0;31m---------------------------------------------------------------------------\u001b[0m",
      "\u001b[0;31mAttributeError\u001b[0m                            Traceback (most recent call last)",
      "\u001b[0;32m<ipython-input-4-626d9d2d1834>\u001b[0m in \u001b[0;36m<module>\u001b[0;34m\u001b[0m\n\u001b[1;32m      1\u001b[0m with open(path_models+\"/{}/{}_{}/{}_sdhawkes_{}_{}\"\n\u001b[1;32m      2\u001b[0m           .format(symbol, symbol, date, symbol, date, time_window), 'rb') as source:\n\u001b[0;32m----> 3\u001b[0;31m     \u001b[0mcalmodel\u001b[0m\u001b[0;34m=\u001b[0m\u001b[0mpickle\u001b[0m\u001b[0;34m.\u001b[0m\u001b[0mload\u001b[0m\u001b[0;34m(\u001b[0m\u001b[0msource\u001b[0m\u001b[0;34m)\u001b[0m\u001b[0;34m\u001b[0m\u001b[0;34m\u001b[0m\u001b[0m\n\u001b[0m",
      "\u001b[0;31mAttributeError\u001b[0m: Can't get attribute 'RejectSampling' on <module 'lob_model' from '/home/claudio/pipest/pipest/sdhawkes/modelling/lob_model.cpython-37m-x86_64-linux-gnu.so'>"
     ]
    }
   ],
   "source": [
    "with open(path_models+\"/{}/{}_{}/{}_sdhawkes_{}_{}\"\n",
    "          .format(symbol, symbol, date, symbol, date, time_window), 'rb') as source:\n",
    "    calmodel=pickle.load(source)"
   ]
  },
  {
   "cell_type": "code",
   "execution_count": null,
   "metadata": {},
   "outputs": [],
   "source": [
    "n_states=[3,5] \n",
    "n_events = 4  # number of event types, $d_E$\n",
    "n_levels = 2\n",
    "upto_level = 2\n",
    "time_start=0.0\n",
    "time_end=time_start+1.0*60 # one minute\n",
    "model = sd_hawkes_model.SDHawkes(\n",
    "    number_of_event_types=n_events, list_of_n_states=n_states,\n",
    "    number_of_lob_levels=n_levels, volume_imbalance_upto_level=upto_level)"
   ]
  },
  {
   "cell_type": "code",
   "execution_count": null,
   "metadata": {},
   "outputs": [],
   "source": [
    "d_E=model.number_of_event_types\n",
    "d_S=model.number_of_states\n",
    "print(\"d_E={}; d_S={}\".format(d_E,d_S))"
   ]
  },
  {
   "cell_type": "markdown",
   "metadata": {},
   "source": [
    "Assign arbitrary values to the Hawkes parameters $\\nu_{e}$, $\\alpha_{e',x',e}$ and $\\beta_{e',x',e}$"
   ]
  },
  {
   "cell_type": "code",
   "execution_count": null,
   "metadata": {},
   "outputs": [],
   "source": [
    "nus = np.array([0.0,0.0,1.0,1.0],dtype=np.float)\n",
    "alphas = np.maximum(\n",
    "    np.concatenate(\n",
    "        [0.2*np.ones((d_E,d_S,d_E//2),dtype=np.float),np.zeros((d_E,d_S,d_E-d_E//2),dtype=np.float)],\n",
    "        axis=2),\n",
    "    np.random.uniform(-0.5,0.5,size=(d_E, d_S, d_E))\n",
    ")\n",
    "betas = np.exp(np.minimum(2.0,np.random.uniform(0.0001,4.0,size=(d_E, d_S, d_E))))\n",
    "model.set_hawkes_parameters(nus,alphas,betas)"
   ]
  },
  {
   "cell_type": "markdown",
   "metadata": {},
   "source": [
    "Assign arbitrary values to the transition matrices $\\phi_{e}$, for $e=0,\\dots,d_E -1$"
   ]
  },
  {
   "cell_type": "code",
   "execution_count": null,
   "metadata": {},
   "outputs": [],
   "source": [
    "phis = model.state_enc.generate_random_transition_prob(n_events=d_E)\n",
    "model.set_transition_probabilities(phis)"
   ]
  },
  {
   "cell_type": "markdown",
   "metadata": {},
   "source": [
    "Assign arbitrary values to the Dirichlet parameters $\\gamma_{x}$ for $x = 0,\\dots,d_{S}-1$"
   ]
  },
  {
   "cell_type": "code",
   "execution_count": null,
   "metadata": {},
   "outputs": [],
   "source": [
    "gammas = np.random.uniform(low=1.5, high = 5.6,size=(d_S,2*n_levels))\n",
    "model.set_dirichlet_parameters(gammas)"
   ]
  },
  {
   "cell_type": "code",
   "execution_count": null,
   "metadata": {
    "scrolled": true
   },
   "outputs": [],
   "source": [
    "model.simulate(time_start, time_end,\n",
    "               max_number_of_events=10000,\n",
    "               add_initial_cond=True,store_results=True, report_full_volumes=False)"
   ]
  },
  {
   "cell_type": "code",
   "execution_count": null,
   "metadata": {},
   "outputs": [],
   "source": [
    "model.store_history_of_intensities(density_of_eval_points=5000)"
   ]
  },
  {
   "cell_type": "code",
   "execution_count": null,
   "metadata": {},
   "outputs": [],
   "source": [
    "print(model.simulated_2Dstates.shape)\n",
    "print(model.simulated_times.shape)"
   ]
  },
  {
   "cell_type": "code",
   "execution_count": null,
   "metadata": {},
   "outputs": [],
   "source": [
    "model.plot_events_and_states(t_0=28.5,t_1=55.0)"
   ]
  },
  {
   "cell_type": "code",
   "execution_count": null,
   "metadata": {},
   "outputs": [],
   "source": [
    "model.plot_events_and_states()"
   ]
  },
  {
   "cell_type": "code",
   "execution_count": null,
   "metadata": {},
   "outputs": [],
   "source": [
    "model.plot_intensities()"
   ]
  },
  {
   "cell_type": "code",
   "execution_count": null,
   "metadata": {},
   "outputs": [],
   "source": [
    "initial_condition_times=np.array(model.simulated_times,copy=True)\n",
    "initial_condition_events=np.array(model.simulated_events,copy=True)\n",
    "initial_condition_states=np.array(model.simulated_states,copy=True)\n",
    "initial_condition_volumes=np.array(model.simulated_volume,copy=True)"
   ]
  },
  {
   "cell_type": "code",
   "execution_count": null,
   "metadata": {},
   "outputs": [],
   "source": [
    "initial_inventory=10\n",
    "liquidator_base_rate=1.0\n",
    "type_of_liquid = 'constant_intensity' #constant_intensity or with_the_market or against_the_market\n",
    "liquidation_control_type='fraction_of_bid_side' # fraction_of_inventory or fraction_of_bid_side\n",
    "liquidator_control=0.2\n",
    "time_start=float(initial_condition_times[-1])\n",
    "time_end=time_start+0.25*60*60"
   ]
  },
  {
   "cell_type": "code",
   "execution_count": null,
   "metadata": {},
   "outputs": [],
   "source": [
    "model.setup_liquidator(initial_inventory=initial_inventory,\n",
    "                           time_start=time_start,\n",
    "                           liquidator_base_rate=liquidator_base_rate,\n",
    "                           type_of_liquid=type_of_liquid,\n",
    "                           liquidator_control=liquidator_control)\n",
    "initial_condition_events+=1"
   ]
  },
  {
   "cell_type": "code",
   "execution_count": null,
   "metadata": {},
   "outputs": [],
   "source": [
    "model.liquidator.print_info()"
   ]
  },
  {
   "cell_type": "code",
   "execution_count": null,
   "metadata": {},
   "outputs": [],
   "source": [
    "model.simulate_liquidation(\n",
    "    time_end,\n",
    "    initial_condition_events=initial_condition_events,\n",
    "    initial_condition_states=initial_condition_states,\n",
    "    initial_condition_times=initial_condition_times,\n",
    "    initial_condition_volumes=initial_condition_volumes,\n",
    "    verbose=True,\n",
    "    report_history_of_intensities = False,\n",
    "    store_results=True\n",
    ")"
   ]
  },
  {
   "cell_type": "code",
   "execution_count": null,
   "metadata": {},
   "outputs": [],
   "source": [
    "model.liquidator.print_info()"
   ]
  },
  {
   "cell_type": "code",
   "execution_count": null,
   "metadata": {},
   "outputs": [],
   "source": [
    "model.make_start_liquid_origin_of_times(delete_negative_times=False)"
   ]
  },
  {
   "cell_type": "code",
   "execution_count": null,
   "metadata": {},
   "outputs": [],
   "source": [
    "model.create_impact_profile(delete_negative_times=False,\n",
    "                            produce_weakly_defl_pp=False,\n",
    "                            maxiter=10, num_init_guesses=1)"
   ]
  },
  {
   "cell_type": "code",
   "execution_count": null,
   "metadata": {},
   "outputs": [],
   "source": [
    "model.liquidator.impact.store_bm_impact()"
   ]
  },
  {
   "cell_type": "code",
   "execution_count": null,
   "metadata": {},
   "outputs": [],
   "source": [
    "model.store_price_trajectory()"
   ]
  },
  {
   "cell_type": "code",
   "execution_count": null,
   "metadata": {},
   "outputs": [],
   "source": [
    "plt.plot(model.simulated_price[:,0], model.simulated_price[:,1])"
   ]
  },
  {
   "cell_type": "code",
   "execution_count": null,
   "metadata": {},
   "outputs": [],
   "source": [
    "model.store_history_of_intensities()"
   ]
  },
  {
   "cell_type": "code",
   "execution_count": null,
   "metadata": {},
   "outputs": [],
   "source": [
    "model.plot_bm_impact_profile(time_start=-5.0, time_end=80.0)"
   ]
  },
  {
   "cell_type": "code",
   "execution_count": null,
   "metadata": {},
   "outputs": [],
   "source": [
    "model.plot_events_and_states(t_0=-50.5,t_1=105.0, first_event_index=0)"
   ]
  },
  {
   "cell_type": "code",
   "execution_count": null,
   "metadata": {},
   "outputs": [],
   "source": []
  }
 ],
 "metadata": {
  "kernelspec": {
   "display_name": "Python 3",
   "language": "python",
   "name": "python3"
  },
  "language_info": {
   "codemirror_mode": {
    "name": "ipython",
    "version": 3
   },
   "file_extension": ".py",
   "mimetype": "text/x-python",
   "name": "python",
   "nbconvert_exporter": "python",
   "pygments_lexer": "ipython3",
   "version": "3.7.7"
  }
 },
 "nbformat": 4,
 "nbformat_minor": 4
}
