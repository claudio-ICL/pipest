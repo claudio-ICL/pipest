{
 "cells": [
  {
   "cell_type": "code",
   "execution_count": 1,
   "metadata": {},
   "outputs": [],
   "source": [
    "import sys\n",
    "import os\n",
    "path_pipest = os.path.abspath('./')\n",
    "n=0\n",
    "while (not os.path.basename(path_pipest)=='pipest') and (n<6):\n",
    "    path_pipest=os.path.dirname(path_pipest)\n",
    "    n+=1 \n",
    "if not os.path.basename(path_pipest)=='pipest':\n",
    "    raise ValueError(\"path_pipest not found. Instead: {}\".format(path_pipest))\n",
    "path_sdhawkes=path_pipest+'/sdhawkes'\n",
    "path_lobster=path_pipest+'/lobster'\n",
    "path_lobster_pyscripts=path_lobster+'/py_scripts'\n",
    "sys.path.append(path_sdhawkes+'/resources/')\n",
    "sys.path.append(path_sdhawkes+'/modelling/')\n",
    "sys.path.append(path_lobster_pyscripts+'/')"
   ]
  },
  {
   "cell_type": "code",
   "execution_count": 2,
   "metadata": {},
   "outputs": [],
   "source": [
    "import numpy as np\n",
    "from scipy.optimize import minimize as scipy_minimize\n",
    "from scipy.stats import dirichlet as scipy_dirichlet\n",
    "from scipy.special import loggamma as LogGamma\n",
    "from scipy.special import gamma as scipy_gamma"
   ]
  },
  {
   "cell_type": "code",
   "execution_count": 3,
   "metadata": {},
   "outputs": [],
   "source": [
    "from mpl_toolkits.mplot3d import Axes3D\n",
    "import matplotlib.pyplot as plt\n",
    "from matplotlib import cm\n",
    "from matplotlib.ticker import LinearLocator, FormatStrFormatter"
   ]
  },
  {
   "cell_type": "code",
   "execution_count": 4,
   "metadata": {},
   "outputs": [
    {
     "name": "stdout",
     "output_type": "stream",
     "text": [
      "openmp.omp_get_max_threads(): 4\n"
     ]
    }
   ],
   "source": [
    "import simulation"
   ]
  },
  {
   "cell_type": "code",
   "execution_count": 5,
   "metadata": {},
   "outputs": [],
   "source": [
    "import timeit"
   ]
  },
  {
   "cell_type": "code",
   "execution_count": 6,
   "metadata": {},
   "outputs": [],
   "source": [
    "def compute_A(alpha,c):\n",
    "    assert c!=0.0\n",
    "    bid=np.sum(alpha[1::2])\n",
    "    ask=np.sum(alpha[0::2])\n",
    "    diff=bid-ask\n",
    "    tot=bid+ask\n",
    "    return (tot-diff/c)/(diff-tot/c)\n",
    "def compute_AZ(alpha,c):\n",
    "    bid=np.sum(alpha[1::2])\n",
    "    ask=np.sum(alpha[0::2])\n",
    "    A=compute_A(alpha,c)\n",
    "    Z=(1.0-A)*bid+(1.0+A)*ask\n",
    "    return A, Z\n",
    "def produce_candidate(alpha,c):\n",
    "    A,Z=compute_AZ(alpha,c)\n",
    "    v=np.zeros((len(alpha),),dtype=np.float)\n",
    "    v[1::2]=(1.0-A)*alpha[1::2]/Z\n",
    "    v[0::2]=(1.0+A)*alpha[0::2]/Z\n",
    "    return v\n",
    "def logdir(v,alpha): #for the production of M\n",
    "    return np.sum(alpha*np.log(v))\n",
    "def produce_M(alpha,l,u):\n",
    "    v_l=produce_candidate(alpha,l)\n",
    "    assert np.all(v_l>=0.0)\n",
    "    v_u=produce_candidate(alpha,u)\n",
    "    assert np.all(v_u>=0.0)\n",
    "    return np.exp(max(logdir(v_l,alpha),logdir(v_u,alpha)))\n",
    "def produce_logM(alpha,l,u,tol=1.0e-10):\n",
    "    v_l=np.maximum(tol,produce_candidate(alpha,l))\n",
    "    v_u=np.maximum(tol,produce_candidate(alpha,u))\n",
    "    return (max(logdir(v_l,alpha),logdir(v_u,alpha)))\n",
    "def rough_M(alpha):\n",
    "    S=np.sum(alpha)\n",
    "    P=np.power(alpha,alpha)\n",
    "    return np.prod(P)*np.power(S,-S)"
   ]
  },
  {
   "cell_type": "code",
   "execution_count": 7,
   "metadata": {},
   "outputs": [],
   "source": [
    "def objfun(rho,gamma,l,u):\n",
    "    alpha=gamma-rho\n",
    "    def logM():\n",
    "        return produce_logM(alpha,l,u)\n",
    "    return logB(rho)+logM()\n",
    "def logB(rho):\n",
    "    return np.sum(LogGamma(rho))-LogGamma(np.sum(rho))\n",
    "def find_rho(gamma,l,u,maxiter=10000, tol=1.0e-8):\n",
    "    bounds=tuple([(tol,(1.0-tol)*gamma[k]) for k in range(len(gamma))])\n",
    "    res=scipy_minimize(\n",
    "        objfun,0.995*gamma,args=(gamma,l,u),\n",
    "        method='TNC',jac=False,\n",
    "        bounds=bounds,options={'maxiter': maxiter})\n",
    "    return res"
   ]
  },
  {
   "cell_type": "code",
   "execution_count": 8,
   "metadata": {},
   "outputs": [
    {
     "name": "stdout",
     "output_type": "stream",
     "text": [
      "l=-0.85; u=-0.6\n",
      "gamma: [2.63926053 7.15932593 2.83505591 3.01790927]\n",
      "avg constraint satisfied? False\n",
      "target: -18.425122875173763\n",
      "minimisation results:\n",
      "      fun: -22.98131923340197\n",
      "     jac: array([6.8428232 , 6.70276279, 5.8339154 , 4.39525465])\n",
      " message: 'Converged (|x_n-x_(n-1)| ~= 0)'\n",
      "    nfev: 27\n",
      "     nit: 4\n",
      "  status: 2\n",
      " success: True\n",
      "       x: array([2.6392605 , 3.70929691, 2.83505585, 0.61193832])\n",
      "proposal's improvement: True\n"
     ]
    }
   ],
   "source": [
    "num_levels, l, u = 2, -0.85, -0.6\n",
    "gamma=np.random.uniform(low=0.0, high=10.0, size=(2*num_levels,))\n",
    "avgimb=np.sum(gamma[1::2]-gamma[0::2])/np.sum(gamma)\n",
    "avgconstr=(l<=avgimb)&(avgimb<u)\n",
    "res = find_rho(gamma,l,u)\n",
    "rho = np.array(res['x'],copy=True)\n",
    "alpha = gamma-rho\n",
    "M = produce_M(alpha, l, u)\n",
    "print('l={}; u={}'.format(l,u))\n",
    "print('gamma: {}'.format(gamma))\n",
    "print('avg constraint satisfied? {}'.format(avgconstr))\n",
    "print('target: {}'.format(logB(gamma)))\n",
    "print('minimisation results:\\n {}'.format(res))\n",
    "print(\"proposal's improvement: {}\".format(res['fun']<logB(gamma)))"
   ]
  },
  {
   "cell_type": "code",
   "execution_count": 23,
   "metadata": {},
   "outputs": [],
   "source": [
    "num_reject=[]"
   ]
  },
  {
   "cell_type": "code",
   "execution_count": 24,
   "metadata": {},
   "outputs": [
    {
     "name": "stdout",
     "output_type": "stream",
     "text": [
      "436 ms ± 132 ms per loop (mean ± std. dev. of 10 runs, 10 loops each)\n"
     ]
    }
   ],
   "source": [
    "%%timeit -n 10 -r 10\n",
    "num_reject.append(\n",
    "    simulation.naive_sample(num_levels,gamma,l,u))"
   ]
  },
  {
   "cell_type": "code",
   "execution_count": 25,
   "metadata": {},
   "outputs": [
    {
     "name": "stdout",
     "output_type": "stream",
     "text": [
      "avg num of rejections: 18378.23\n",
      "median num of rejections: 12710.0\n"
     ]
    }
   ],
   "source": [
    "print('avg num of rejections: {}'\n",
    "      .format(np.mean(np.array(num_reject))))\n",
    "print('median num of rejections: {}'\n",
    "      .format(np.median(np.array(num_reject))))"
   ]
  },
  {
   "cell_type": "code",
   "execution_count": 26,
   "metadata": {},
   "outputs": [],
   "source": [
    "num_reject=[]"
   ]
  },
  {
   "cell_type": "code",
   "execution_count": 27,
   "metadata": {},
   "outputs": [
    {
     "name": "stdout",
     "output_type": "stream",
     "text": [
      "The slowest run took 5.12 times longer than the fastest. This could mean that an intermediate result is being cached.\n",
      "4.74 ms ± 1.99 ms per loop (mean ± std. dev. of 10 runs, 10 loops each)\n"
     ]
    }
   ],
   "source": [
    "%%timeit -n 10 -r 10\n",
    "num_reject.append(\n",
    "    simulation.rejection_sample(num_levels,rho,alpha,l,u,M))"
   ]
  },
  {
   "cell_type": "code",
   "execution_count": 28,
   "metadata": {},
   "outputs": [
    {
     "name": "stdout",
     "output_type": "stream",
     "text": [
      "avg num of rejections: 178.57\n",
      "median num of rejections: 121.0\n"
     ]
    }
   ],
   "source": [
    "print('avg num of rejections: {}'\n",
    "      .format(np.mean(np.array(num_reject))))\n",
    "print('median num of rejections: {}'\n",
    "      .format(np.median(np.array(num_reject))))"
   ]
  },
  {
   "cell_type": "code",
   "execution_count": null,
   "metadata": {},
   "outputs": [],
   "source": []
  }
 ],
 "metadata": {
  "kernelspec": {
   "display_name": "Python 3",
   "language": "python",
   "name": "python3"
  },
  "language_info": {
   "codemirror_mode": {
    "name": "ipython",
    "version": 3
   },
   "file_extension": ".py",
   "mimetype": "text/x-python",
   "name": "python",
   "nbconvert_exporter": "python",
   "pygments_lexer": "ipython3",
   "version": "3.7.6"
  }
 },
 "nbformat": 4,
 "nbformat_minor": 4
}
