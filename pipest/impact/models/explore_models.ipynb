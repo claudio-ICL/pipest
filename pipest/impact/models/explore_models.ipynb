{
 "cells": [
  {
   "cell_type": "code",
   "execution_count": 1,
   "metadata": {},
   "outputs": [
    {
     "name": "stdout",
     "output_type": "stream",
     "text": [
      "openmp.omp_get_max_threads(): 4\n"
     ]
    }
   ],
   "source": [
    "import sys\n",
    "import os\n",
    "import glob\n",
    "import pickle\n",
    "path_pipest = os.path.abspath('./')\n",
    "n=0\n",
    "while (not os.path.basename(path_pipest)=='pipest') and (n<4):\n",
    "    path_pipest=os.path.dirname(path_pipest)\n",
    "    n+=1 \n",
    "if not os.path.basename(path_pipest)=='pipest':\n",
    "    print(\"path_pipest not found. Instead: {}\".format(path_pipest))\n",
    "    raise ValueError(\"path_pipest not found.\")\n",
    "path_paper = os.path.dirname(path_pipest)+'/paper'\n",
    "path_models=path_pipest+'/models'    \n",
    "path_sdhawkes=path_pipest+'/sdhawkes'\n",
    "path_modelling = path_sdhawkes+'/modelling'\n",
    "path_resources = path_sdhawkes+'/resources'\n",
    "path_impact=path_pipest+'/impact'\n",
    "path_lobster=path_pipest+'/lobster'\n",
    "path_lobster_data=path_lobster+'/data'\n",
    "path_lobster_pyscripts=path_lobster+'/py_scripts'\n",
    "path_tests = path_pipest+'/tests'\n",
    "path_saved_tests = path_tests+'/saved_tests'\n",
    "path_perfmeas=path_tests+'/performance_measurements'\n",
    "sys.path.append(path_modelling)\n",
    "sys.path.append(path_resources)\n",
    "sys.path.append(path_perfmeas)\n",
    "import numpy as np\n",
    "import pandas\n",
    "import matplotlib.pyplot as plt\n",
    "import computation\n",
    "import plot_tools"
   ]
  },
  {
   "cell_type": "code",
   "execution_count": 2,
   "metadata": {},
   "outputs": [
    {
     "name": "stdout",
     "output_type": "stream",
     "text": [
      "/home/claudio/pipest/paper/tex/figures/\n"
     ]
    }
   ],
   "source": [
    "path_figures=path_paper+'/tex/figures/'\n",
    "print(path_figures)"
   ]
  },
  {
   "cell_type": "code",
   "execution_count": 3,
   "metadata": {},
   "outputs": [],
   "source": [
    "symbol=\"INTC\"\n",
    "date=\"2019-01-23\"\n",
    "time_window=\"37800-41400\""
   ]
  },
  {
   "cell_type": "code",
   "execution_count": null,
   "metadata": {},
   "outputs": [],
   "source": [
    "# with open(path_impact+\"/models/{}/{}_sdhawkes_{}_{}\"\n",
    "#               .format(symbol, symbol, date, time_window, symbol, date, time_window), 'rb') as source:\n",
    "#     model=pickle.load(source)"
   ]
  },
  {
   "cell_type": "code",
   "execution_count": 4,
   "metadata": {},
   "outputs": [],
   "source": [
    "try:\n",
    "    with open(path_impact+\"/models/{}/{}_{}_{}/{}_sdhawkes_{}_{}_onesided_thesis\"\n",
    "              .format(symbol, symbol, date, time_window, symbol, date, time_window), 'rb') as source:\n",
    "        model=pickle.load(source)\n",
    "except FileNotFoundError:\n",
    "    with open(path_impact+\"/models/{}/{}_sdhawkes_{}_{}\"\n",
    "              .format(symbol, symbol, date, time_window, symbol, date, time_window), 'rb') as source:\n",
    "        model=pickle.load(source)"
   ]
  },
  {
   "cell_type": "code",
   "execution_count": 5,
   "metadata": {},
   "outputs": [
    {
     "data": {
      "image/png": "[encoded data removed]",
      "text/plain": [
       "<Figure size 936x576 with 4 Axes>"
      ]
     },
     "metadata": {
      "needs_background": "light"
     },
     "output_type": "display_data"
    }
   ],
   "source": [
    "model.goodness_of_fit.qq_plot_residuals()"
   ]
  },
  {
   "cell_type": "code",
   "execution_count": 6,
   "metadata": {},
   "outputs": [
    {
     "name": "stdout",
     "output_type": "stream",
     "text": [
      "dict_keys(['path_sdhawkes', 'path_pipest', 'path_models', 'name_of_model', 'datetime_of_initialisation', 'events_labels', 'states_labels', 'state_enc', 'number_of_states', 'number_of_event_types', 'n_levels', 'volume_enc', 'transition_probabilities', 'base_rates', 'impact_coefficients', 'decay_coefficients', 'impact_decay_ratios', 'dirichlet_param', 'hawkes_kernel', 'data', 'mle_estim', 'inflationary_pressure', 'deflationary_pressure', 'calibration', 'uncertainty_quantification', 'goodness_of_fit', 'reconstructed_empirical_price'])\n"
     ]
    }
   ],
   "source": [
    "print(model.__dict__.keys())"
   ]
  },
  {
   "cell_type": "code",
   "execution_count": null,
   "metadata": {},
   "outputs": [],
   "source": [
    "print(model.archive)"
   ]
  },
  {
   "cell_type": "code",
   "execution_count": null,
   "metadata": {},
   "outputs": [],
   "source": [
    "# model.set_transition_probabilities(model.transition_probabilities)"
   ]
  },
  {
   "cell_type": "code",
   "execution_count": null,
   "metadata": {},
   "outputs": [],
   "source": [
    "for idx in model.archive:\n",
    "    try:\n",
    "        print(model.archive[idx]['liquidator'].termination_time)\n",
    "        print(idx)\n",
    "    except:\n",
    "        pass"
   ]
  },
  {
   "cell_type": "code",
   "execution_count": null,
   "metadata": {},
   "outputs": [],
   "source": [
    "for idx in model.archive:\n",
    "    try:\n",
    "        model.liquidator=model.archive[idx]['liquidator']\n",
    "        print(idx)\n",
    "        model.liquidator.print_info()\n",
    "        print('\\n')\n",
    "    except:\n",
    "        pass"
   ]
  },
  {
   "cell_type": "code",
   "execution_count": null,
   "metadata": {},
   "outputs": [],
   "source": [
    "idx='{}_sdhawkes_{}_{}_onesided_thesis_1s10'.format(symbol, date, time_window)\n",
    "model.liquidator=model.archive[idx]['liquidator']\n",
    "model.simulated_times=model.archive[idx]['simulated_times']\n",
    "model.simulated_events=model.archive[idx]['simulated_events']\n",
    "model.simulated_states=model.archive[idx]['simulated_states']\n",
    "model.simulated_intensities=model.archive[idx]['simulated_intensities']\n",
    "model.store_2Dstates()\n",
    "model.store_price_trajectory(type_of_input='simulated', initial_price=model.data.mid_price.iloc[0,1]+1.0,\n",
    "                             ticksize=model.data.ticksize)\n",
    "model.archive[idx]['liquidator'].impact.df_impact_profile.sort_values(by='time', inplace=True, ignore_index=True)"
   ]
  },
  {
   "cell_type": "code",
   "execution_count": null,
   "metadata": {},
   "outputs": [],
   "source": [
    "print(model.archive[idx]['liquidator'].impact.__dict__.keys())"
   ]
  },
  {
   "cell_type": "code",
   "execution_count": null,
   "metadata": {},
   "outputs": [],
   "source": [
    "print(model.archive[idx]['liquidator'].impact.sdhawkes.__dict__.keys())"
   ]
  },
  {
   "cell_type": "code",
   "execution_count": null,
   "metadata": {},
   "outputs": [],
   "source": [
    "model.archive[idx]['liquidator'].impact.df_impact_profile.sort_values(by='time', inplace=True, ignore_index=True)"
   ]
  },
  {
   "cell_type": "code",
   "execution_count": null,
   "metadata": {},
   "outputs": [],
   "source": [
    "time_start = 0.0\n",
    "time_end = 400.0\n",
    "liq = model.archive[idx]['liquidator']\n",
    "plot_tools.plot_impact_profile(\n",
    "    liq.impact.sdhawkes.times,\n",
    "    liq.impact.sdhawkes.events,\n",
    "    model.simulated_price,\n",
    "    liq.inventory_trajectory,\n",
    "    model.simulated_intensities,\n",
    "    liq.impact.df_impact_profile.values,\n",
    "    time_start, time_end,\n",
    "    save_fig=False\n",
    ")\n",
    "    "
   ]
  },
  {
   "cell_type": "code",
   "execution_count": null,
   "metadata": {},
   "outputs": [],
   "source": [
    "model.liquidator.print_info()\n",
    "print(\"number of liquidator's interventions: {}\".format(np.sum(model.simulated_events==0)))\n",
    "print(\"max bacry-muzy impact: {}\".format((model.liquidator.impact.df_impact_profile.iloc[:,1].max())))\n"
   ]
  },
  {
   "cell_type": "code",
   "execution_count": null,
   "metadata": {},
   "outputs": [],
   "source": [
    "model.plot_price_trajectories(t0=-10.0, t1=500.0, save_fig=False, path=path_figures, name='onesided_test_20201106')\n",
    "# model.plot_impact_profile(time_start=-20, time_end=model.liquidator.termination_time+50.0,\n",
    "#                              save_fig=False, path=path_figures, name='apfb_bm')"
   ]
  },
  {
   "cell_type": "code",
   "execution_count": null,
   "metadata": {},
   "outputs": [],
   "source": [
    "idx='{}_sdhawkes_{}_{}_bm1'.format(symbol, date, time_window)\n",
    "model.liquidator=model.archive[idx]['liquidator']\n",
    "model.simulated_times=model.archive[idx]['simulated_times']\n",
    "model.simulated_events=model.archive[idx]['simulated_events']\n",
    "model.simulated_states=model.archive[idx]['simulated_states']\n",
    "model.simulated_intensities=model.archive[idx]['simulated_intensities']\n",
    "model.store_2Dstates()\n",
    "model.store_price_trajectory(type_of_input='simulated', initial_price=model.data.mid_price.iloc[0,1]+1.0,\n",
    "                             ticksize=model.data.ticksize)"
   ]
  },
  {
   "cell_type": "code",
   "execution_count": null,
   "metadata": {},
   "outputs": [],
   "source": [
    "model.liquidator.print_info()\n",
    "model.plot_price_trajectories(t0=-10.0, t1=1100.0)\n",
    "model.plot_bm_impact_profile(time_start=-10.0, time_end=1100.0)"
   ]
  },
  {
   "cell_type": "code",
   "execution_count": null,
   "metadata": {},
   "outputs": [],
   "source": []
  },
  {
   "cell_type": "code",
   "execution_count": null,
   "metadata": {},
   "outputs": [],
   "source": [
    "idx='{}_sdhawkes_{}_{}_bm2'.format(symbol, date, time_window)\n",
    "model.liquidator=model.archive[idx]['liquidator']\n",
    "model.simulated_times=model.archive[idx]['simulated_times']\n",
    "model.simulated_events=model.archive[idx]['simulated_events']\n",
    "model.simulated_states=model.archive[idx]['simulated_states']\n",
    "model.simulated_intensities=model.archive[idx]['simulated_intensities']\n",
    "model.store_2Dstates()\n",
    "model.store_price_trajectory(type_of_input='simulated', initial_price=model.data.mid_price.iloc[0,1],\n",
    "                             ticksize=model.data.ticksize)"
   ]
  },
  {
   "cell_type": "code",
   "execution_count": null,
   "metadata": {},
   "outputs": [],
   "source": [
    "model.liquidator.print_info()\n",
    "model.plot_price_trajectories(t0=-10.0, t1=500.0)\n",
    "model.plot_bm_impact_profile()"
   ]
  },
  {
   "cell_type": "code",
   "execution_count": null,
   "metadata": {},
   "outputs": [],
   "source": []
  },
  {
   "cell_type": "code",
   "execution_count": null,
   "metadata": {},
   "outputs": [],
   "source": []
  },
  {
   "cell_type": "code",
   "execution_count": null,
   "metadata": {},
   "outputs": [],
   "source": [
    "idx='{}_sdhawkes_{}_{}_bm3'.format(symbol, date, time_window)\n",
    "model.liquidator=model.archive[idx]['liquidator']\n",
    "model.simulated_times=model.archive[idx]['simulated_times']\n",
    "model.simulated_events=model.archive[idx]['simulated_events']\n",
    "model.simulated_states=model.archive[idx]['simulated_states']\n",
    "model.simulated_intensities=model.archive[idx]['simulated_intensities']\n",
    "model.store_2Dstates()\n",
    "model.store_price_trajectory(type_of_input='simulated', initial_price=model.data.mid_price.iloc[0,1]+1.0,\n",
    "                             ticksize=model.data.ticksize)"
   ]
  },
  {
   "cell_type": "code",
   "execution_count": null,
   "metadata": {},
   "outputs": [],
   "source": [
    "model.liquidator.print_info()"
   ]
  },
  {
   "cell_type": "code",
   "execution_count": null,
   "metadata": {},
   "outputs": [],
   "source": [
    "model.plot_price_trajectories(t0=-10.0, t1=300.0)\n",
    "model.plot_bm_impact_profile(time_start=-10.0, time_end=300.0)"
   ]
  },
  {
   "cell_type": "code",
   "execution_count": null,
   "metadata": {},
   "outputs": [],
   "source": []
  },
  {
   "cell_type": "code",
   "execution_count": null,
   "metadata": {},
   "outputs": [],
   "source": [
    "idx='{}_sdhawkes_{}_{}_bm4'.format(symbol, date, time_window)\n",
    "model.liquidator=model.archive[idx]['liquidator']\n",
    "model.simulated_times=model.archive[idx]['simulated_times']\n",
    "model.simulated_events=model.archive[idx]['simulated_events']\n",
    "model.simulated_states=model.archive[idx]['simulated_states']\n",
    "model.simulated_intensities=model.archive[idx]['simulated_intensities']\n",
    "model.store_2Dstates()\n",
    "model.store_price_trajectory(type_of_input='simulated', initial_price=model.data.mid_price.iloc[0,1],\n",
    "                             ticksize=model.data.ticksize)\n",
    "model.liquidator.print_info()\n",
    "model.plot_price_trajectories(t0=-10.0, t1=500.0)\n",
    "model.plot_bm_impact_profile()\n",
    "\n",
    "model.data.observed_2Dstates=model.data.state_enc.produce_2Dstates(model.data.observed_states)\n",
    "model.data.observed_history_weighted_queueimb=computation.history_of_weighted_queueimb(\n",
    "    model.data.observed_2Dstates[:,1], model.data.observed_times, dt=20.0\n",
    ")\n",
    "model.simulated_history_weighted_queueimb=computation.history_of_weighted_queueimb(\n",
    "    model.simulated_2Dstates[:,1], model.simulated_times, dt=20.0\n",
    ")\n",
    "plot_tools.plot_queue_imbalance(model, t0=000.0, t1=400.0)"
   ]
  },
  {
   "cell_type": "code",
   "execution_count": null,
   "metadata": {},
   "outputs": [],
   "source": [
    "idx='{}_sdhawkes_{}_{}_bm5'.format(symbol, date, time_window)\n",
    "model.liquidator=model.archive[idx]['liquidator']\n",
    "model.simulated_times=model.archive[idx]['simulated_times']\n",
    "model.simulated_events=model.archive[idx]['simulated_events']\n",
    "model.simulated_states=model.archive[idx]['simulated_states']\n",
    "model.simulated_intensities=model.archive[idx]['simulated_intensities']\n",
    "model.store_2Dstates()\n",
    "model.store_price_trajectory(type_of_input='simulated', initial_price=model.data.mid_price.iloc[0,1],\n",
    "                             ticksize=model.data.ticksize)\n",
    "model.liquidator.print_info()\n",
    "model.plot_price_trajectories(t0=-50.0, t1=500.0)\n",
    "model.plot_bm_impact_profile()\n"
   ]
  },
  {
   "cell_type": "code",
   "execution_count": null,
   "metadata": {},
   "outputs": [],
   "source": [
    "idx='{}_sdhawkes_{}_{}_bm6'.format(symbol, date, time_window)\n",
    "model.liquidator=model.archive[idx]['liquidator']\n",
    "model.simulated_times=model.archive[idx]['simulated_times']\n",
    "model.simulated_events=model.archive[idx]['simulated_events']\n",
    "model.simulated_states=model.archive[idx]['simulated_states']\n",
    "model.simulated_intensities=model.archive[idx]['simulated_intensities']\n",
    "model.store_2Dstates()\n",
    "model.store_price_trajectory(type_of_input='simulated', initial_price=model.data.mid_price.iloc[0,1],\n",
    "                             ticksize=model.data.ticksize)\n",
    "\n",
    "model.liquidator.print_info()\n",
    "model.plot_price_trajectories(t0=-10.0, t1=500.0)\n",
    "model.plot_bm_impact_profile()\n",
    "\n",
    "model.data.observed_2Dstates=model.data.state_enc.produce_2Dstates(model.data.observed_states)\n",
    "model.data.observed_history_weighted_queueimb=computation.history_of_weighted_queueimb(\n",
    "    model.data.observed_2Dstates[:,1], model.data.observed_times, dt=20.0\n",
    ")\n",
    "model.simulated_history_weighted_queueimb=computation.history_of_weighted_queueimb(\n",
    "    model.simulated_2Dstates[:,1], model.simulated_times, dt=20.0\n",
    ")\n",
    "plot_tools.plot_queue_imbalance(model, t0=000.0, t1=400.0)"
   ]
  },
  {
   "cell_type": "code",
   "execution_count": null,
   "metadata": {},
   "outputs": [],
   "source": []
  },
  {
   "cell_type": "code",
   "execution_count": null,
   "metadata": {},
   "outputs": [],
   "source": []
  },
  {
   "cell_type": "code",
   "execution_count": null,
   "metadata": {},
   "outputs": [],
   "source": []
  },
  {
   "cell_type": "code",
   "execution_count": null,
   "metadata": {},
   "outputs": [],
   "source": [
    "idx='{}_sdhawkes_{}_{}_bm7'.format(symbol, date, time_window)\n",
    "model.liquidator=model.archive[idx]['liquidator']\n",
    "model.simulated_times=model.archive[idx]['simulated_times']\n",
    "model.simulated_events=model.archive[idx]['simulated_events']\n",
    "model.simulated_states=model.archive[idx]['simulated_states']\n",
    "model.simulated_intensities=model.archive[idx]['simulated_intensities']\n",
    "model.store_2Dstates()\n",
    "model.store_price_trajectory(type_of_input='simulated', initial_price=model.data.mid_price.iloc[0,1],\n",
    "                             ticksize=model.data.ticksize)\n",
    "\n",
    "model.liquidator.print_info()\n",
    "\n",
    "model.plot_price_trajectories(t0=-10.0, t1=1000.0)\n",
    "\n",
    "model.plot_bm_impact_profile()\n",
    "\n",
    "model.data.observed_2Dstates=model.data.state_enc.produce_2Dstates(model.data.observed_states)\n",
    "model.data.observed_history_weighted_queueimb=computation.history_of_weighted_queueimb(\n",
    "    model.data.observed_2Dstates[:,1], model.data.observed_times, dt=20.0\n",
    ")\n",
    "model.simulated_history_weighted_queueimb=computation.history_of_weighted_queueimb(\n",
    "    model.simulated_2Dstates[:,1], model.simulated_times, dt=20.0\n",
    ")\n",
    "plot_tools.plot_queue_imbalance(model, t0=000.0, t1=2000.0)"
   ]
  },
  {
   "cell_type": "code",
   "execution_count": null,
   "metadata": {},
   "outputs": [],
   "source": [
    "idx='{}_sdhawkes_{}_{}_bm8'.format(symbol, date, time_window)\n",
    "model.liquidator=model.archive[idx]['liquidator']\n",
    "model.simulated_times=model.archive[idx]['simulated_times']\n",
    "model.simulated_events=model.archive[idx]['simulated_events']\n",
    "model.simulated_states=model.archive[idx]['simulated_states']\n",
    "model.simulated_intensities=model.archive[idx]['simulated_intensities']\n",
    "model.store_2Dstates()\n",
    "model.store_price_trajectory(type_of_input='simulated', initial_price=model.data.mid_price.iloc[0,1]+2,\n",
    "                             ticksize=model.data.ticksize)"
   ]
  },
  {
   "cell_type": "code",
   "execution_count": null,
   "metadata": {},
   "outputs": [],
   "source": [
    "model.liquidator.print_info()\n",
    "model.plot_price_trajectories(t0=-10.0, t1=1000.0)\n",
    "model.plot_bm_impact_profile()\n",
    "model.data.observed_2Dstates=model.data.state_enc.produce_2Dstates(model.data.observed_states)\n",
    "model.data.observed_history_weighted_queueimb=computation.history_of_weighted_queueimb(\n",
    "    model.data.observed_2Dstates[:,1], model.data.observed_times, dt=20.0\n",
    ")\n",
    "model.simulated_history_weighted_queueimb=computation.history_of_weighted_queueimb(\n",
    "    model.simulated_2Dstates[:,1], model.simulated_times, dt=20.0\n",
    ")\n",
    "plot_tools.plot_queue_imbalance(model, t0=000.0, t1=1000.0)"
   ]
  },
  {
   "cell_type": "code",
   "execution_count": null,
   "metadata": {},
   "outputs": [],
   "source": [
    "idx='{}_sdhawkes_{}_{}_bm9'.format(symbol, date, time_window)\n",
    "model.liquidator=model.archive[idx]['liquidator']\n",
    "model.simulated_times=model.archive[idx]['simulated_times']\n",
    "model.simulated_events=model.archive[idx]['simulated_events']\n",
    "model.simulated_states=model.archive[idx]['simulated_states']\n",
    "model.simulated_intensities=model.archive[idx]['simulated_intensities']\n",
    "model.store_2Dstates()\n",
    "model.store_price_trajectory(type_of_input='simulated', initial_price=model.data.mid_price.iloc[0,1]+2,\n",
    "                             ticksize=model.data.ticksize)"
   ]
  },
  {
   "cell_type": "code",
   "execution_count": null,
   "metadata": {},
   "outputs": [],
   "source": [
    "model.liquidator.print_info()\n",
    "model.plot_price_trajectories(t0=-10.0, t1=1100.0)\n",
    "model.plot_bm_impact_profile()"
   ]
  },
  {
   "cell_type": "code",
   "execution_count": null,
   "metadata": {},
   "outputs": [],
   "source": [
    "idx='{}_sdhawkes_{}_{}_bm10'.format(symbol, date, time_window)\n",
    "model.liquidator=model.archive[idx]['liquidator']\n",
    "model.simulated_times=model.archive[idx]['simulated_times']\n",
    "model.simulated_events=model.archive[idx]['simulated_events']\n",
    "model.simulated_states=model.archive[idx]['simulated_states']\n",
    "model.simulated_intensities=model.archive[idx]['simulated_intensities']\n",
    "model.store_2Dstates()\n",
    "model.store_price_trajectory(type_of_input='simulated', initial_price=model.data.mid_price.iloc[0,1]+2,\n",
    "                             ticksize=model.data.ticksize)"
   ]
  },
  {
   "cell_type": "code",
   "execution_count": null,
   "metadata": {},
   "outputs": [],
   "source": [
    "model.liquidator.print_info()\n",
    "model.plot_price_trajectories(t0=-10.0, t1=1000.0)\n",
    "model.plot_bm_impact_profile()"
   ]
  },
  {
   "cell_type": "code",
   "execution_count": null,
   "metadata": {},
   "outputs": [],
   "source": [
    "idx='{}_sdhawkes_{}_{}_bm11'.format(symbol, date, time_window)\n",
    "model.liquidator=model.archive[idx]['liquidator']\n",
    "model.simulated_times=model.archive[idx]['simulated_times']\n",
    "model.simulated_events=model.archive[idx]['simulated_events']\n",
    "model.simulated_states=model.archive[idx]['simulated_states']\n",
    "model.simulated_intensities=model.archive[idx]['simulated_intensities']\n",
    "model.store_2Dstates()\n",
    "model.store_price_trajectory(type_of_input='simulated', initial_price=model.data.mid_price.iloc[0,1]+2,\n",
    "                             ticksize=model.data.ticksize)"
   ]
  },
  {
   "cell_type": "code",
   "execution_count": null,
   "metadata": {},
   "outputs": [],
   "source": [
    "model.liquidator.print_info()\n",
    "model.plot_price_trajectories(t0=-10.0, t1=1000.0)\n",
    "model.plot_bm_impact_profile()"
   ]
  },
  {
   "cell_type": "code",
   "execution_count": null,
   "metadata": {},
   "outputs": [],
   "source": [
    "idx='{}_sdhawkes_{}_{}_bm12'.format(symbol, date, time_window)\n",
    "model.liquidator=model.archive[idx]['liquidator']\n",
    "model.simulated_times=model.archive[idx]['simulated_times']\n",
    "model.simulated_events=model.archive[idx]['simulated_events']\n",
    "model.simulated_states=model.archive[idx]['simulated_states']\n",
    "model.simulated_intensities=model.archive[idx]['simulated_intensities']\n",
    "model.store_2Dstates()\n",
    "model.store_price_trajectory(type_of_input='simulated', initial_price=model.data.mid_price.iloc[0,1]+2,\n",
    "                             ticksize=model.data.ticksize)"
   ]
  },
  {
   "cell_type": "code",
   "execution_count": null,
   "metadata": {},
   "outputs": [],
   "source": [
    "model.liquidator.print_info()\n",
    "model.plot_price_trajectories(t0=-10.0, t1=1000.0)\n",
    "model.plot_bm_impact_profile()"
   ]
  },
  {
   "cell_type": "code",
   "execution_count": null,
   "metadata": {},
   "outputs": [],
   "source": [
    "idx='{}_sdhawkes_{}_{}_bm13'.format(symbol, date, time_window)\n",
    "model.liquidator=model.archive[idx]['liquidator']\n",
    "model.simulated_times=model.archive[idx]['simulated_times']\n",
    "model.simulated_events=model.archive[idx]['simulated_events']\n",
    "model.simulated_states=model.archive[idx]['simulated_states']\n",
    "model.simulated_intensities=model.archive[idx]['simulated_intensities']\n",
    "model.store_2Dstates()\n",
    "model.store_price_trajectory(type_of_input='simulated', initial_price=model.data.mid_price.iloc[0,1]+2,\n",
    "                             ticksize=model.data.ticksize)"
   ]
  },
  {
   "cell_type": "code",
   "execution_count": null,
   "metadata": {},
   "outputs": [],
   "source": [
    "model.liquidator.print_info()\n",
    "model.plot_price_trajectories(t0=-10.0, t1=1000.0)\n",
    "model.plot_bm_impact_profile()"
   ]
  },
  {
   "cell_type": "code",
   "execution_count": null,
   "metadata": {},
   "outputs": [],
   "source": [
    "def sigma_E(e):\n",
    "    return 2*(e//2)+1-e%2\n",
    "def sigma_S(x):\n",
    "    return model.number_of_states -1  - x"
   ]
  },
  {
   "cell_type": "code",
   "execution_count": null,
   "metadata": {},
   "outputs": [],
   "source": [
    "# y=9\n",
    "\n",
    "# for e in [1,3]:\n",
    "#     print(\"\\ne={}, sigma_E(e)={}\".format(e,sigma_E(e)))\n",
    "#     for x in model.state_enc.inflationary_states:\n",
    "#         print(\" x={}, sigma_S(x)={}\".format(x, sigma_S(x)))\n",
    "#         print(\"  phi[y,e,x]={}; phi[y,sigma_E(e),sigma_S(x)]={}\".format(phi[y,e,x],phi[y,sigma_E(e),sigma_S(x)]))\n",
    "#         print(\"  delta = {}\".format(phi[y,e,x]-phi[y,sigma_E(e),sigma_S(x)]))\n",
    "\n",
    "\n",
    "# overall_direction = (sum([np.sum(phi[y,:,x]) for x in model.state_enc.inflationary_states]) \n",
    "# - sum([np.sum(phi[y,:,x]) for x in model.state_enc.deflationary_states]) )\n",
    "# print(overall_direction)"
   ]
  },
  {
   "cell_type": "code",
   "execution_count": null,
   "metadata": {},
   "outputs": [],
   "source": [
    "#With the market\n"
   ]
  }
 ],
 "metadata": {
  "kernelspec": {
   "display_name": "Python 3",
   "language": "python",
   "name": "python3"
  },
  "language_info": {
   "codemirror_mode": {
    "name": "ipython",
    "version": 3
   },
   "file_extension": ".py",
   "mimetype": "text/x-python",
   "name": "python",
   "nbconvert_exporter": "python",
   "pygments_lexer": "ipython3",
   "version": "3.7.7"
  }
 },
 "nbformat": 4,
 "nbformat_minor": 4
}
