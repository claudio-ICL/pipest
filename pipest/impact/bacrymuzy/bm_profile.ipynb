{
 "cells": [
  {
   "cell_type": "code",
   "execution_count": 1,
   "metadata": {},
   "outputs": [
    {
     "name": "stdout",
     "output_type": "stream",
     "text": [
      "openmp.omp_get_max_threads(): 4\n"
     ]
    }
   ],
   "source": [
    "import sys\n",
    "import os\n",
    "path_pipest = os.path.abspath('./')\n",
    "n=0\n",
    "while (not os.path.basename(path_pipest)=='pipest') and (n<4):\n",
    "    path_pipest=os.path.dirname(path_pipest)\n",
    "    n+=1 \n",
    "if not os.path.basename(path_pipest)=='pipest':\n",
    "    print(\"path_pipest not found. Instead: {}\".format(path_pipest))\n",
    "    raise ValueError(\"path_pipest not found.\")\n",
    "path_models=path_pipest+'/models'    \n",
    "path_sdhawkes=path_pipest+'/sdhawkes'\n",
    "path_modelling = path_sdhawkes+'/modelling'\n",
    "path_resources = path_sdhawkes+'/resources'\n",
    "path_lobster=path_pipest+'/lobster'\n",
    "path_lobster_data=path_lobster+'/data'\n",
    "path_lobster_pyscripts=path_lobster+'/py_scripts'\n",
    "path_tests = path_pipest+'/tests'\n",
    "path_saved_tests = path_tests+'/saved_tests'\n",
    "path_perfmeas=path_tests+'/performance_measurements'\n",
    "sys.path.append(path_modelling)\n",
    "sys.path.append(path_resources)\n",
    "sys.path.append(path_perfmeas)\n",
    "import numpy as np\n",
    "import pandas as pd\n",
    "import pickle\n",
    "import datetime\n",
    "import time\n",
    "import datetime\n",
    "import timeit\n",
    "import model as sd_hawkes_model\n",
    "import computation\n",
    "import plot_tools"
   ]
  },
  {
   "cell_type": "code",
   "execution_count": 2,
   "metadata": {},
   "outputs": [],
   "source": [
    "import matplotlib.pyplot as plt"
   ]
  },
  {
   "cell_type": "code",
   "execution_count": 3,
   "metadata": {},
   "outputs": [],
   "source": [
    "symbol=\"INTC\"\n",
    "date=\"2019-01-23\"\n",
    "time_window=\"41400-45000\""
   ]
  },
  {
   "cell_type": "code",
   "execution_count": 4,
   "metadata": {},
   "outputs": [],
   "source": [
    "with open(path_models+\"/{}/{}_{}/{}_sdhawkes_{}_{}\"\n",
    "          .format(symbol, symbol, date, symbol, date, time_window), 'rb') as source:\n",
    "    calmodel=pickle.load(source)"
   ]
  },
  {
   "cell_type": "code",
   "execution_count": 5,
   "metadata": {},
   "outputs": [],
   "source": [
    "model=sd_hawkes_model.SDHawkes(\n",
    "    number_of_event_types=calmodel.number_of_event_types,\n",
    "    list_of_n_states=calmodel.state_enc.list_of_n_states,\n",
    "    number_of_lob_levels=calmodel.n_levels,\n",
    "    volume_imbalance_upto_level=\\\n",
    "    calmodel.volume_enc.volume_imbalance_upto_level\n",
    ")"
   ]
  },
  {
   "cell_type": "code",
   "execution_count": 6,
   "metadata": {},
   "outputs": [
    {
     "name": "stdout",
     "output_type": "stream",
     "text": [
      "Copying data from given model\n",
      "mle_estimation.EstimProcedure is being initialised\n",
      "I am storing dirichlet parameters\n",
      "Dirichlet parameters have been estimated and store. run_time=0.28963208198547363\n",
      "I am storing transition probabilities\n",
      "Transition probabilities have been estimated and store. run_time=0.0031824111938476562\n",
      "EstimProcedure has been successfully initialised\n",
      "Hawkes parameters have been set\n",
      "18 state-event pairs are not associated with a distribution of state updates\n",
      "SDHawkes: asymmetry in transition_probabilities = 15.13647764773585\n",
      "Transition probabilities have been set\n",
      "Producing proposal density for rejection sampling.\n"
     ]
    },
    {
     "name": "stderr",
     "output_type": "stream",
     "text": [
      "/home/claudio/anaconda3/envs/pipest/lib/python3.7/site-packages/ipykernel_launcher.py:1: RuntimeWarning: divide by zero encountered in log\n",
      "  \"\"\"Entry point for launching an IPython kernel.\n"
     ]
    },
    {
     "name": "stdout",
     "output_type": "stream",
     "text": [
      "Dirichlet parameters have been set\n",
      "Calibration is being performed on the following machine:\n",
      " posix.uname_result(sysname='Linux', nodename='elitebook', release='5.3.0-61-generic', version='#55~18.04.1-Ubuntu SMP Mon Jun 22 16:40:20 UTC 2020', machine='x86_64')\n"
     ]
    }
   ],
   "source": [
    "model.get_configuration(calmodel)"
   ]
  },
  {
   "cell_type": "code",
   "execution_count": 7,
   "metadata": {},
   "outputs": [],
   "source": [
    "model.create_uq()"
   ]
  },
  {
   "cell_type": "code",
   "execution_count": 8,
   "metadata": {},
   "outputs": [],
   "source": [
    "# num_iter=10\n",
    "# max_number_of_events=10000\n",
    "# target=computation.avg_rates(model.data.number_of_event_types, \n",
    "#                             model.data.observed_times,\n",
    "#                             model.data.observed_events, partial=False)\n",
    "# model.uncertainty_quantification.adjust_baserates(\n",
    "#     target,\n",
    "#     adj_coef=5.0e-2,\n",
    "#     num_iter=num_iter, \n",
    "#     max_number_of_events=max_number_of_events\n",
    "# )"
   ]
  },
  {
   "cell_type": "code",
   "execution_count": 9,
   "metadata": {},
   "outputs": [],
   "source": [
    "nu=np.array([0.2088, 0.1907, 10.57, 9.07])\n",
    "model.set_base_rates(nu)"
   ]
  },
  {
   "cell_type": "code",
   "execution_count": 10,
   "metadata": {},
   "outputs": [
    {
     "name": "stdout",
     "output_type": "stream",
     "text": [
      "SDHawkes: asymmetry in transition_probabilities = 4.5365804291870155\n",
      "Transition probabilities have been set\n"
     ]
    }
   ],
   "source": [
    "model.reduce_price_volatility(reduction_coef=0.5)"
   ]
  },
  {
   "cell_type": "code",
   "execution_count": 11,
   "metadata": {},
   "outputs": [],
   "source": [
    "# model.create_goodness_of_fit(type_of_input='empirical')"
   ]
  },
  {
   "cell_type": "code",
   "execution_count": 12,
   "metadata": {},
   "outputs": [],
   "source": [
    "time_start=0.0\n",
    "time_end=time_start+0.15*60*60"
   ]
  },
  {
   "cell_type": "code",
   "execution_count": 13,
   "metadata": {
    "scrolled": true
   },
   "outputs": [
    {
     "name": "stdout",
     "output_type": "stream",
     "text": [
      "Simulation is being performed on the following machine:\n",
      " posix.uname_result(sysname='Linux', nodename='elitebook', release='5.3.0-61-generic', version='#55~18.04.1-Ubuntu SMP Mon Jun 22 16:40:20 UTC 2020', machine='x86_64')\n",
      "SDHawkes.simulate: initial conditions have been acknowledged\n",
      "I am adding initial conditions on the negative time axis\n",
      "simulate: start of initialisation\n",
      "   Number of levels in the order book: 2\n",
      "   number_of_initial_events=61\n",
      " simulate: labelled_times and count have been initialised.\n",
      " simulate: intensities have been initialised.\n",
      "  intensities at start: [ 0.20880385  0.19070774 10.57000019  9.07000002]\n",
      "  intensity_overall at start: 20.039511802706002\n",
      "simulate: start of simulation\n",
      "  time_start=0.0,  time at start =0.0\n",
      " Simulation terminates. time at end =489.45983678996214,  num_of_event=20061\n",
      "End of simulation. run_time=30.8 seconds\n"
     ]
    }
   ],
   "source": [
    "model.simulate(time_start, time_end,\n",
    "               max_number_of_events=20000,\n",
    "               add_initial_cond=True,\n",
    "               store_results=True, report_full_volumes=False)"
   ]
  },
  {
   "cell_type": "code",
   "execution_count": 14,
   "metadata": {},
   "outputs": [],
   "source": [
    "# model.store_history_of_intensities(density_of_eval_points=1000)"
   ]
  },
  {
   "cell_type": "code",
   "execution_count": 15,
   "metadata": {},
   "outputs": [],
   "source": [
    "# model.plot_events_and_states(t_0=28.5,t_1=45.0)"
   ]
  },
  {
   "cell_type": "code",
   "execution_count": 16,
   "metadata": {},
   "outputs": [],
   "source": [
    "# model.plot_events_and_states()"
   ]
  },
  {
   "cell_type": "code",
   "execution_count": 17,
   "metadata": {},
   "outputs": [],
   "source": [
    "# model.plot_intensities()"
   ]
  },
  {
   "cell_type": "code",
   "execution_count": 18,
   "metadata": {},
   "outputs": [],
   "source": [
    "model.store_price_trajectory(type_of_input='simulated', initial_price=model.data.mid_price.iloc[0,1],\n",
    "                             ticksize=model.data.ticksize)\n",
    "model.store_price_trajectory(type_of_input='empirical', initial_price=model.data.mid_price.iloc[0,1],\n",
    "                             ticksize=model.data.ticksize)"
   ]
  },
  {
   "cell_type": "code",
   "execution_count": 28,
   "metadata": {},
   "outputs": [
    {
     "data": {
      "image/png": "[encoded data removed]",
      "text/plain": [
       "<Figure size 720x576 with 1 Axes>"
      ]
     },
     "metadata": {
      "needs_background": "light"
     },
     "output_type": "display_data"
    },
    {
     "name": "stdout",
     "output_type": "stream",
     "text": [
      "[ 0.2088  0.1907 10.57    9.07  ]\n"
     ]
    }
   ],
   "source": [
    "model.plot_price_trajectories(T=500.0)\n",
    "print(model.base_rates)"
   ]
  },
  {
   "cell_type": "code",
   "execution_count": 20,
   "metadata": {},
   "outputs": [],
   "source": [
    "# model.goodness_of_fit.qq_plot_residuals()"
   ]
  },
  {
   "cell_type": "code",
   "execution_count": 21,
   "metadata": {},
   "outputs": [
    {
     "ename": "SyntaxError",
     "evalue": "invalid syntax (<ipython-input-21-a96ba3aab008>, line 1)",
     "output_type": "error",
     "traceback": [
      "\u001b[0;36m  File \u001b[0;32m\"<ipython-input-21-a96ba3aab008>\"\u001b[0;36m, line \u001b[0;32m1\u001b[0m\n\u001b[0;31m    stop here\u001b[0m\n\u001b[0m            ^\u001b[0m\n\u001b[0;31mSyntaxError\u001b[0m\u001b[0;31m:\u001b[0m invalid syntax\n"
     ]
    }
   ],
   "source": [
    "stop here\n"
   ]
  },
  {
   "cell_type": "code",
   "execution_count": 25,
   "metadata": {},
   "outputs": [
    {
     "name": "stdout",
     "output_type": "stream",
     "text": [
      "SDHawkes: new asymmetry in transition_probabilities = nan\n"
     ]
    },
    {
     "name": "stderr",
     "output_type": "stream",
     "text": [
      "/home/claudio/anaconda3/envs/pipest/lib/python3.7/site-packages/ipykernel_launcher.py:1: RuntimeWarning: invalid value encountered in true_divide\n",
      "  \"\"\"Entry point for launching an IPython kernel.\n"
     ]
    }
   ],
   "source": [
    "model.enforce_symmetry_in_transition_probabilities()"
   ]
  },
  {
   "cell_type": "markdown",
   "metadata": {},
   "source": [
    "# Liquidation"
   ]
  },
  {
   "cell_type": "code",
   "execution_count": null,
   "metadata": {},
   "outputs": [],
   "source": [
    "initial_condition_times=np.array(model.simulated_times,copy=True)\n",
    "initial_condition_events=1+np.array(model.simulated_events,copy=True)\n",
    "initial_condition_states=np.array(model.simulated_states,copy=True)\n",
    "initial_condition_volumes=np.array(model.simulated_volume,copy=True)"
   ]
  },
  {
   "cell_type": "code",
   "execution_count": null,
   "metadata": {},
   "outputs": [],
   "source": [
    "model.base_rates"
   ]
  },
  {
   "cell_type": "code",
   "execution_count": null,
   "metadata": {},
   "outputs": [],
   "source": [
    "initial_inventory=4.0\n",
    "liquidator_base_rate=0.150\n",
    "type_of_liquid = 'with_the_market' #constant_intensity or with_the_market or against_the_market\n",
    "liquidator_control_type='fraction_of_bid_side' # fraction_of_inventory or fraction_of_bid_side\n",
    "liquidator_control=0.2\n",
    "time_start=float(initial_condition_times[-1])\n",
    "time_end=time_start+0.05*60*60"
   ]
  },
  {
   "cell_type": "code",
   "execution_count": null,
   "metadata": {},
   "outputs": [],
   "source": [
    "model.setup_liquidator(initial_inventory=initial_inventory,\n",
    "                       time_start=time_start,\n",
    "                       liquidator_base_rate=liquidator_base_rate,\n",
    "                       type_of_liquid=type_of_liquid,\n",
    "                       liquidator_control_type=liquidator_control_type,\n",
    "                       liquidator_control=liquidator_control)"
   ]
  },
  {
   "cell_type": "code",
   "execution_count": null,
   "metadata": {},
   "outputs": [],
   "source": [
    "model.liquidator.print_info()"
   ]
  },
  {
   "cell_type": "code",
   "execution_count": null,
   "metadata": {},
   "outputs": [],
   "source": [
    "model.simulate_liquidation(\n",
    "    time_end,\n",
    "    initial_condition_events=initial_condition_events,\n",
    "    initial_condition_states=initial_condition_states,\n",
    "    initial_condition_times=initial_condition_times,\n",
    "    initial_condition_volumes=initial_condition_volumes,\n",
    "    verbose=False,\n",
    "    report_history_of_intensities = False,\n",
    "    store_results=True\n",
    ")"
   ]
  },
  {
   "cell_type": "code",
   "execution_count": null,
   "metadata": {},
   "outputs": [],
   "source": [
    "model.liquidator.print_info()"
   ]
  },
  {
   "cell_type": "code",
   "execution_count": null,
   "metadata": {},
   "outputs": [],
   "source": [
    "model.make_start_liquid_origin_of_times(delete_negative_times=False)"
   ]
  },
  {
   "cell_type": "code",
   "execution_count": null,
   "metadata": {},
   "outputs": [],
   "source": [
    "model.create_impact_profile(delete_negative_times=False,\n",
    "                            produce_weakly_defl_pp=False,\n",
    "                            maxiter=10, num_init_guesses=1)"
   ]
  },
  {
   "cell_type": "code",
   "execution_count": null,
   "metadata": {},
   "outputs": [],
   "source": [
    "model.liquidator.impact.store_bm_impact()"
   ]
  },
  {
   "cell_type": "code",
   "execution_count": null,
   "metadata": {},
   "outputs": [],
   "source": [
    "model.store_price_trajectory(type_of_input='simulated', initial_price=model.data.mid_price.iloc[0,1],\n",
    "                             ticksize=model.data.ticksize)"
   ]
  },
  {
   "cell_type": "code",
   "execution_count": null,
   "metadata": {},
   "outputs": [],
   "source": [
    "model.store_history_of_intensities()"
   ]
  },
  {
   "cell_type": "code",
   "execution_count": null,
   "metadata": {},
   "outputs": [],
   "source": [
    "model.plot_bm_impact_profile(time_start=-5.0, time_end=60.0, plot_bm_intensity=True)"
   ]
  },
  {
   "cell_type": "code",
   "execution_count": null,
   "metadata": {},
   "outputs": [],
   "source": [
    "model.plot_events_and_states(t_0=-5.5,t_1=150.0, first_event_index=0)"
   ]
  },
  {
   "cell_type": "code",
   "execution_count": null,
   "metadata": {},
   "outputs": [],
   "source": [
    "model.plot_price_trajectories(T=750.0)"
   ]
  },
  {
   "cell_type": "code",
   "execution_count": null,
   "metadata": {},
   "outputs": [],
   "source": []
  }
 ],
 "metadata": {
  "kernelspec": {
   "display_name": "Python 3",
   "language": "python",
   "name": "python3"
  },
  "language_info": {
   "codemirror_mode": {
    "name": "ipython",
    "version": 3
   },
   "file_extension": ".py",
   "mimetype": "text/x-python",
   "name": "python",
   "nbconvert_exporter": "python",
   "pygments_lexer": "ipython3",
   "version": "3.7.7"
  }
 },
 "nbformat": 4,
 "nbformat_minor": 4
}
