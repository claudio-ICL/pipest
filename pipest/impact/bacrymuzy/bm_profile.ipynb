{
 "cells": [
  {
   "cell_type": "code",
   "execution_count": 1,
   "metadata": {},
   "outputs": [
    {
     "name": "stdout",
     "output_type": "stream",
     "text": [
      "openmp.omp_get_max_threads(): 4\n"
     ]
    }
   ],
   "source": [
    "import sys\n",
    "import os\n",
    "path_pipest = os.path.abspath('./')\n",
    "n=0\n",
    "while (not os.path.basename(path_pipest)=='pipest') and (n<4):\n",
    "    path_pipest=os.path.dirname(path_pipest)\n",
    "    n+=1 \n",
    "if not os.path.basename(path_pipest)=='pipest':\n",
    "    print(\"path_pipest not found. Instead: {}\".format(path_pipest))\n",
    "    raise ValueError(\"path_pipest not found.\")\n",
    "path_models=path_pipest+'/models'    \n",
    "path_sdhawkes=path_pipest+'/sdhawkes'\n",
    "path_modelling = path_sdhawkes+'/modelling'\n",
    "path_resources = path_sdhawkes+'/resources'\n",
    "path_impact=path_pipest+'/impact'\n",
    "path_lobster=path_pipest+'/lobster'\n",
    "path_lobster_data=path_lobster+'/data'\n",
    "path_lobster_pyscripts=path_lobster+'/py_scripts'\n",
    "path_tests = path_pipest+'/tests'\n",
    "path_saved_tests = path_tests+'/saved_tests'\n",
    "path_perfmeas=path_tests+'/performance_measurements'\n",
    "sys.path.append(path_modelling)\n",
    "sys.path.append(path_resources)\n",
    "sys.path.append(path_perfmeas)\n",
    "import numpy as np\n",
    "import pandas as pd\n",
    "import glob\n",
    "import pickle\n",
    "import datetime\n",
    "import time\n",
    "import datetime\n",
    "import timeit\n",
    "import model as sd_hawkes_model\n",
    "import computation\n",
    "import plot_tools"
   ]
  },
  {
   "cell_type": "code",
   "execution_count": 2,
   "metadata": {},
   "outputs": [],
   "source": [
    "import matplotlib.pyplot as plt"
   ]
  },
  {
   "cell_type": "code",
   "execution_count": 3,
   "metadata": {},
   "outputs": [],
   "source": [
    "symbol=\"INTC\"\n",
    "date=\"2019-01-23\"\n",
    "time_window=\"37800-41400\""
   ]
  },
  {
   "cell_type": "code",
   "execution_count": 4,
   "metadata": {},
   "outputs": [],
   "source": [
    "with open(path_models+\"/{}/{}_{}/{}_sdhawkes_{}_{}_bm_thesis\"\n",
    "          .format(symbol, symbol, date, symbol, date, time_window), 'rb') as source:\n",
    "    model=pickle.load(source)"
   ]
  },
  {
   "cell_type": "code",
   "execution_count": 5,
   "metadata": {},
   "outputs": [
    {
     "data": {
      "text/plain": [
       "'INTC_sdhawkes_2019-01-23_37800-41400_bm_thesis'"
      ]
     },
     "execution_count": 5,
     "metadata": {},
     "output_type": "execute_result"
    }
   ],
   "source": [
    "model.name_of_model"
   ]
  },
  {
   "cell_type": "code",
   "execution_count": 7,
   "metadata": {},
   "outputs": [
    {
     "data": {
      "image/png": "[encoded data removed]",
      "text/plain": [
       "<Figure size 936x576 with 4 Axes>"
      ]
     },
     "metadata": {
      "needs_background": "light"
     },
     "output_type": "display_data"
    },
    {
     "name": "stdout",
     "output_type": "stream",
     "text": [
      "Anderson-Darling test to check distribution of residuals\n",
      "Null hypothesis is \"expon\" \n",
      "Significance levels: [15.  10.   5.   2.5  1. ]\n",
      "Critical values: [0.921 1.077 1.34  1.605 1.956]\n",
      "event type=1, ad_stat: 669.8154126795148\n",
      "event type=2, ad_stat: 423.57372373232465\n",
      "event type=3, ad_stat: 116968.0866242066\n",
      "event type=4, ad_stat: 106368.30681972564\n",
      "None\n"
     ]
    }
   ],
   "source": [
    "model.goodness_of_fit.qq_plot_residuals(index_of_first_event_type=1,\n",
    "                                        save_fig=False, path=\"./\",)\n",
    "print(model.goodness_of_fit.ad_test_on_residuals(index_of_first_event_type=1))"
   ]
  },
  {
   "cell_type": "code",
   "execution_count": null,
   "metadata": {},
   "outputs": [],
   "source": [
    "model.store_2Dstates()\n",
    "model.store_price_trajectory(type_of_input='simulated', initial_price=model.data.mid_price.iloc[0,1]+1.0,\n",
    "                             ticksize=model.data.ticksize)"
   ]
  },
  {
   "cell_type": "code",
   "execution_count": null,
   "metadata": {},
   "outputs": [],
   "source": [
    "model.plot_price_trajectories(t0=-10.0, t1=510.0,\n",
    "                              save_fig=False, path='./',)"
   ]
  },
  {
   "cell_type": "code",
   "execution_count": null,
   "metadata": {},
   "outputs": [],
   "source": [
    "stop here"
   ]
  },
  {
   "cell_type": "code",
   "execution_count": null,
   "metadata": {},
   "outputs": [],
   "source": [
    "def sigma_E(e):\n",
    "    return 2*(e//2)+1-e%2\n",
    "def sigma_S(x):\n",
    "    return model.number_of_states-1-x"
   ]
  },
  {
   "cell_type": "code",
   "execution_count": null,
   "metadata": {},
   "outputs": [],
   "source": [
    "y=11\n",
    "e=2\n",
    "# x=14\n",
    "phi=model.transition_probabilities\n",
    "for x in model.state_enc.inflationary_states:\n",
    "    print(phi[y,e,x])\n",
    "for x in model.state_enc.deflationary_states:\n",
    "    print(phi[y,e,x])\n",
    "# print(phi[y,sigma_E(e),sigma_S(x)])"
   ]
  },
  {
   "cell_type": "code",
   "execution_count": null,
   "metadata": {},
   "outputs": [],
   "source": [
    "stop here\n"
   ]
  },
  {
   "cell_type": "markdown",
   "metadata": {},
   "source": [
    "# Liquidation"
   ]
  },
  {
   "cell_type": "code",
   "execution_count": null,
   "metadata": {},
   "outputs": [],
   "source": [
    "initial_condition_times=np.array(model.simulated_times,copy=True)\n",
    "initial_condition_events=1+np.array(model.simulated_events,copy=True)\n",
    "initial_condition_states=np.array(model.simulated_states,copy=True)\n",
    "initial_condition_volumes=np.array(model.simulated_volume,copy=True)"
   ]
  },
  {
   "cell_type": "code",
   "execution_count": null,
   "metadata": {},
   "outputs": [],
   "source": [
    "model.base_rates"
   ]
  },
  {
   "cell_type": "code",
   "execution_count": null,
   "metadata": {},
   "outputs": [],
   "source": [
    "initial_inventory=4.0\n",
    "liquidator_base_rate=0.150\n",
    "type_of_liquid = 'with_the_market' #constant_intensity or with_the_market or against_the_market\n",
    "liquidator_control_type='fraction_of_bid_side' # fraction_of_inventory or fraction_of_bid_side\n",
    "liquidator_control=0.2\n",
    "time_start=float(initial_condition_times[-1])\n",
    "time_end=time_start+0.05*60*60"
   ]
  },
  {
   "cell_type": "code",
   "execution_count": null,
   "metadata": {},
   "outputs": [],
   "source": [
    "model.setup_liquidator(initial_inventory=initial_inventory,\n",
    "                       time_start=time_start,\n",
    "                       liquidator_base_rate=liquidator_base_rate,\n",
    "                       type_of_liquid=type_of_liquid,\n",
    "                       liquidator_control_type=liquidator_control_type,\n",
    "                       liquidator_control=liquidator_control)"
   ]
  },
  {
   "cell_type": "code",
   "execution_count": null,
   "metadata": {},
   "outputs": [],
   "source": [
    "model.liquidator.print_info()"
   ]
  },
  {
   "cell_type": "code",
   "execution_count": null,
   "metadata": {},
   "outputs": [],
   "source": [
    "model.simulate_liquidation(\n",
    "    time_end,\n",
    "    initial_condition_events=initial_condition_events,\n",
    "    initial_condition_states=initial_condition_states,\n",
    "    initial_condition_times=initial_condition_times,\n",
    "    initial_condition_volumes=initial_condition_volumes,\n",
    "    verbose=False,\n",
    "    report_history_of_intensities = False,\n",
    "    store_results=True\n",
    ")"
   ]
  },
  {
   "cell_type": "code",
   "execution_count": null,
   "metadata": {},
   "outputs": [],
   "source": [
    "model.liquidator.print_info()"
   ]
  },
  {
   "cell_type": "code",
   "execution_count": null,
   "metadata": {},
   "outputs": [],
   "source": [
    "model.make_start_liquid_origin_of_times(delete_negative_times=False)"
   ]
  },
  {
   "cell_type": "code",
   "execution_count": null,
   "metadata": {},
   "outputs": [],
   "source": [
    "model.create_impact_profile(delete_negative_times=False,\n",
    "                            produce_weakly_defl_pp=False,\n",
    "                            maxiter=10, num_init_guesses=1)"
   ]
  },
  {
   "cell_type": "code",
   "execution_count": null,
   "metadata": {},
   "outputs": [],
   "source": [
    "model.liquidator.impact.store_bm_impact()"
   ]
  },
  {
   "cell_type": "code",
   "execution_count": null,
   "metadata": {},
   "outputs": [],
   "source": [
    "model.store_price_trajectory(type_of_input='simulated', initial_price=model.data.mid_price.iloc[0,1],\n",
    "                             ticksize=model.data.ticksize)"
   ]
  },
  {
   "cell_type": "code",
   "execution_count": null,
   "metadata": {},
   "outputs": [],
   "source": [
    "model.store_history_of_intensities()"
   ]
  },
  {
   "cell_type": "code",
   "execution_count": null,
   "metadata": {},
   "outputs": [],
   "source": [
    "model.plot_bm_impact_profile(time_start=-5.0, time_end=60.0, plot_bm_intensity=True)"
   ]
  },
  {
   "cell_type": "code",
   "execution_count": null,
   "metadata": {},
   "outputs": [],
   "source": [
    "model.plot_events_and_states(t_0=-5.5,t_1=150.0, first_event_index=0)"
   ]
  },
  {
   "cell_type": "code",
   "execution_count": null,
   "metadata": {},
   "outputs": [],
   "source": [
    "model.plot_price_trajectories(T=750.0)"
   ]
  },
  {
   "cell_type": "code",
   "execution_count": null,
   "metadata": {},
   "outputs": [],
   "source": []
  }
 ],
 "metadata": {
  "kernelspec": {
   "display_name": "Python 3",
   "language": "python",
   "name": "python3"
  },
  "language_info": {
   "codemirror_mode": {
    "name": "ipython",
    "version": 3
   },
   "file_extension": ".py",
   "mimetype": "text/x-python",
   "name": "python",
   "nbconvert_exporter": "python",
   "pygments_lexer": "ipython3",
   "version": "3.7.6"
  }
 },
 "nbformat": 4,
 "nbformat_minor": 4
}
