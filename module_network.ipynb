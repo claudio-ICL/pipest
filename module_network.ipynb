{
 "cells": [
  {
   "cell_type": "code",
   "execution_count": 1,
   "metadata": {},
   "outputs": [],
   "source": [
    "import os\n",
    "import glob\n",
    "import numpy as np\n",
    "import pandas as pd\n",
    "import folderstats\n",
    "import networkx as nx\n",
    "from networkx.drawing.nx_pydot import graphviz_layout\n",
    "import matplotlib.pyplot as plt"
   ]
  },
  {
   "cell_type": "code",
   "execution_count": 2,
   "metadata": {},
   "outputs": [],
   "source": [
    "path_fig=os.getcwd()+'/paper/tex_source/figures/'"
   ]
  },
  {
   "cell_type": "code",
   "execution_count": 3,
   "metadata": {},
   "outputs": [],
   "source": [
    "df=folderstats.folderstats(\"./\",ignore_hidden=True)"
   ]
  },
  {
   "cell_type": "code",
   "execution_count": 4,
   "metadata": {},
   "outputs": [],
   "source": [
    "for k in range(df.shape[0]):\n",
    "    if df.loc[k,\"folder\"]:\n",
    "        suff='/'\n",
    "    else:\n",
    "        suff=''\n",
    "    df.loc[k,\"path\"]=str(df.loc[k,\"path\"][2:])+suff"
   ]
  },
  {
   "cell_type": "code",
   "execution_count": 5,
   "metadata": {},
   "outputs": [],
   "source": [
    "idx=df[\"extension\"].isin([\"py\",\"pyx\",\"None\",None])\n",
    "df=df[idx].copy()"
   ]
  },
  {
   "cell_type": "code",
   "execution_count": 6,
   "metadata": {},
   "outputs": [
    {
     "data": {
      "text/plain": [
       "Index(['id', 'path', 'name', 'extension', 'size', 'atime', 'mtime', 'ctime',\n",
       "       'folder', 'num_files', 'depth', 'parent', 'uid'],\n",
       "      dtype='object')"
      ]
     },
     "execution_count": 6,
     "metadata": {},
     "output_type": "execute_result"
    }
   ],
   "source": [
    "df.columns"
   ]
  },
  {
   "cell_type": "code",
   "execution_count": 7,
   "metadata": {},
   "outputs": [],
   "source": [
    "cols=['id', 'path', 'name', 'extension',  'folder', 'depth', 'parent',]\n",
    "df=df[cols]\n",
    "folders=[\"pipest\",\"sdhawkes\",\"build\",\"resources\",\"modelling\",\"lobster\",\"calibration\",\"tests\",\"py_scripts\",\"data\"]\n",
    "idx=np.logical_or(df[\"folder\"]==False,np.logical_and(df[\"folder\"]==True,df[\"name\"].isin(folders)))\n",
    "df=df[idx]"
   ]
  },
  {
   "cell_type": "code",
   "execution_count": 8,
   "metadata": {},
   "outputs": [],
   "source": [
    "\n",
    "idx1=df[\"name\"].isin([\"build\",\"temp.linux-x86_64-3.7\",\"home\",\"claudio\"])\n",
    "idx=np.logical_not(idx1)\n",
    "df=df[idx]"
   ]
  },
  {
   "cell_type": "code",
   "execution_count": 9,
   "metadata": {},
   "outputs": [],
   "source": [
    "idx=np.logical_not(df[\"path\"].isin(list(glob.glob(\"**/paper*/**\",recursive=True))))\n",
    "df=df[idx]"
   ]
  },
  {
   "cell_type": "code",
   "execution_count": 10,
   "metadata": {},
   "outputs": [],
   "source": [
    "idx=np.logical_not(df[\"path\"].isin(list(glob.glob(\"**/wrapper_submission*\",recursive=True))))\n",
    "df=df[idx]"
   ]
  },
  {
   "cell_type": "code",
   "execution_count": 11,
   "metadata": {},
   "outputs": [],
   "source": [
    "idx=np.logical_not(df[\"path\"].isin(list(glob.glob('**/build/*.linux-x86_64-3.7/**',recursive=True))))\n",
    "df=df[idx]"
   ]
  },
  {
   "cell_type": "code",
   "execution_count": 12,
   "metadata": {},
   "outputs": [],
   "source": [
    "idx=np.logical_not(df[\"path\"].isin(list(glob.glob('**/lobster_for_sdhawkes/data/**',recursive=True))))\n",
    "df=df[idx]"
   ]
  },
  {
   "cell_type": "code",
   "execution_count": 13,
   "metadata": {},
   "outputs": [],
   "source": [
    "idx=np.logical_not(df[\"path\"].isin(list(glob.glob('**/tests/**',recursive=True))))\n",
    "df=df[idx]"
   ]
  },
  {
   "cell_type": "code",
   "execution_count": 14,
   "metadata": {},
   "outputs": [],
   "source": [
    "idx=np.logical_not(df[\"path\"].isin(list(glob.glob('**/models/**',recursive=True))))\n",
    "df=df[idx]"
   ]
  },
  {
   "cell_type": "code",
   "execution_count": 15,
   "metadata": {},
   "outputs": [],
   "source": [
    "idx=np.logical_not(df[\"path\"].isin(list(glob.glob('**/__pycache__*',recursive=True))))\n",
    "df=df[idx]"
   ]
  },
  {
   "cell_type": "code",
   "execution_count": 16,
   "metadata": {},
   "outputs": [],
   "source": [
    "idx=np.logical_not(df[\"path\"].isin(list(glob.glob('**/setup_*',recursive=True))))\n",
    "df=df[idx]"
   ]
  },
  {
   "cell_type": "code",
   "execution_count": 17,
   "metadata": {},
   "outputs": [],
   "source": [
    "idx=np.logical_not(df[\"extension\"].isin([\"sh\"]))\n",
    "df=df[idx]"
   ]
  },
  {
   "cell_type": "code",
   "execution_count": 18,
   "metadata": {},
   "outputs": [],
   "source": [
    "idx=np.logical_not(df[\"name\"].isin([\"produce_dates\",\"header\",\"setup\"]))\n",
    "df=df[idx]"
   ]
  },
  {
   "cell_type": "code",
   "execution_count": 19,
   "metadata": {},
   "outputs": [],
   "source": [
    "idx=np.logical_not(df[\"depth\"]>=4)\n",
    "df=df[idx]"
   ]
  },
  {
   "cell_type": "code",
   "execution_count": 20,
   "metadata": {},
   "outputs": [],
   "source": [
    "df.sort_values(by='id',inplace=True)\n",
    "df.reset_index(inplace=True,drop=True)\n",
    "df.reset_index(inplace=True)"
   ]
  },
  {
   "cell_type": "code",
   "execution_count": 21,
   "metadata": {},
   "outputs": [],
   "source": [
    "cols=list(df.columns)\n",
    "cols[0]=\"pnt\"\n",
    "cols[3]='file'\n",
    "df.columns=cols"
   ]
  },
  {
   "cell_type": "code",
   "execution_count": null,
   "metadata": {},
   "outputs": [],
   "source": []
  },
  {
   "cell_type": "code",
   "execution_count": 22,
   "metadata": {},
   "outputs": [],
   "source": [
    "# G.nodes.data()"
   ]
  },
  {
   "cell_type": "code",
   "execution_count": 23,
   "metadata": {},
   "outputs": [],
   "source": [
    "keys=df.loc[:,[\"pnt\",\"id\"]].copy()"
   ]
  },
  {
   "cell_type": "code",
   "execution_count": 24,
   "metadata": {},
   "outputs": [
    {
     "data": {
      "text/plain": [
       "Index(['pnt', 'id', 'path', 'file', 'extension', 'folder', 'depth', 'parent'], dtype='object')"
      ]
     },
     "execution_count": 24,
     "metadata": {},
     "output_type": "execute_result"
    }
   ],
   "source": [
    "df.columns"
   ]
  },
  {
   "cell_type": "code",
   "execution_count": 25,
   "metadata": {},
   "outputs": [],
   "source": [
    "cols=list(keys.columns)\n",
    "cols[0]=\"par_pnt\"\n",
    "keys.columns=cols\n",
    "#keys"
   ]
  },
  {
   "cell_type": "code",
   "execution_count": 26,
   "metadata": {},
   "outputs": [],
   "source": [
    "df=df.merge(keys,how=\"left\",left_on=\"parent\",right_on=\"id\").drop(columns=[\"id_y\"])\n",
    "idx=pd.isna(df[\"par_pnt\"]).values\n",
    "df.loc[idx,\"par_pnt\"]=-1\n",
    "df[\"par_pnt\"]=df[\"par_pnt\"].astype(np.int)"
   ]
  },
  {
   "cell_type": "code",
   "execution_count": 27,
   "metadata": {},
   "outputs": [
    {
     "data": {
      "text/plain": [
       "Index(['pnt', 'id_x', 'path', 'file', 'extension', 'folder', 'depth', 'parent',\n",
       "       'par_pnt'],\n",
       "      dtype='object')"
      ]
     },
     "execution_count": 27,
     "metadata": {},
     "output_type": "execute_result"
    }
   ],
   "source": [
    "df.columns"
   ]
  },
  {
   "cell_type": "code",
   "execution_count": 28,
   "metadata": {},
   "outputs": [],
   "source": [
    "df.drop(columns=[\"id_x\",\"parent\"],inplace=True)\n",
    "cols=list(df.columns)\n",
    "cols[0]=\"id\"\n",
    "cols[-1]=\"parent\"\n",
    "df.columns=cols"
   ]
  },
  {
   "cell_type": "code",
   "execution_count": null,
   "metadata": {},
   "outputs": [],
   "source": []
  },
  {
   "cell_type": "code",
   "execution_count": 29,
   "metadata": {},
   "outputs": [
    {
     "data": {
      "text/html": [
       "<div>\n",
       "<style scoped>\n",
       "    .dataframe tbody tr th:only-of-type {\n",
       "        vertical-align: middle;\n",
       "    }\n",
       "\n",
       "    .dataframe tbody tr th {\n",
       "        vertical-align: top;\n",
       "    }\n",
       "\n",
       "    .dataframe thead th {\n",
       "        text-align: right;\n",
       "    }\n",
       "</style>\n",
       "<table border=\"1\" class=\"dataframe\">\n",
       "  <thead>\n",
       "    <tr style=\"text-align: right;\">\n",
       "      <th></th>\n",
       "      <th>id</th>\n",
       "      <th>depth</th>\n",
       "      <th>file</th>\n",
       "      <th>extension</th>\n",
       "      <th>parent</th>\n",
       "      <th>folder</th>\n",
       "      <th>path</th>\n",
       "    </tr>\n",
       "  </thead>\n",
       "  <tbody>\n",
       "    <tr>\n",
       "      <th>0</th>\n",
       "      <td>0</td>\n",
       "      <td>1</td>\n",
       "      <td>pipest</td>\n",
       "      <td>None</td>\n",
       "      <td>-1</td>\n",
       "      <td>True</td>\n",
       "      <td>pipest/</td>\n",
       "    </tr>\n",
       "    <tr>\n",
       "      <th>1</th>\n",
       "      <td>1</td>\n",
       "      <td>2</td>\n",
       "      <td>sdhawkes</td>\n",
       "      <td>None</td>\n",
       "      <td>0</td>\n",
       "      <td>True</td>\n",
       "      <td>pipest/sdhawkes/</td>\n",
       "    </tr>\n",
       "    <tr>\n",
       "      <th>2</th>\n",
       "      <td>2</td>\n",
       "      <td>3</td>\n",
       "      <td>modelling</td>\n",
       "      <td>None</td>\n",
       "      <td>1</td>\n",
       "      <td>True</td>\n",
       "      <td>pipest/sdhawkes/modelling/</td>\n",
       "    </tr>\n",
       "    <tr>\n",
       "      <th>3</th>\n",
       "      <td>3</td>\n",
       "      <td>3</td>\n",
       "      <td>lob_model</td>\n",
       "      <td>pyx</td>\n",
       "      <td>2</td>\n",
       "      <td>False</td>\n",
       "      <td>pipest/sdhawkes/modelling/lob_model.pyx</td>\n",
       "    </tr>\n",
       "    <tr>\n",
       "      <th>4</th>\n",
       "      <td>4</td>\n",
       "      <td>3</td>\n",
       "      <td>model</td>\n",
       "      <td>pyx</td>\n",
       "      <td>2</td>\n",
       "      <td>False</td>\n",
       "      <td>pipest/sdhawkes/modelling/model.pyx</td>\n",
       "    </tr>\n",
       "    <tr>\n",
       "      <th>5</th>\n",
       "      <td>5</td>\n",
       "      <td>3</td>\n",
       "      <td>resources</td>\n",
       "      <td>None</td>\n",
       "      <td>1</td>\n",
       "      <td>True</td>\n",
       "      <td>pipest/sdhawkes/resources/</td>\n",
       "    </tr>\n",
       "    <tr>\n",
       "      <th>6</th>\n",
       "      <td>6</td>\n",
       "      <td>3</td>\n",
       "      <td>computation</td>\n",
       "      <td>pyx</td>\n",
       "      <td>5</td>\n",
       "      <td>False</td>\n",
       "      <td>pipest/sdhawkes/resources/computation.pyx</td>\n",
       "    </tr>\n",
       "    <tr>\n",
       "      <th>7</th>\n",
       "      <td>7</td>\n",
       "      <td>3</td>\n",
       "      <td>impact_profile</td>\n",
       "      <td>pyx</td>\n",
       "      <td>5</td>\n",
       "      <td>False</td>\n",
       "      <td>pipest/sdhawkes/resources/impact_profile.pyx</td>\n",
       "    </tr>\n",
       "    <tr>\n",
       "      <th>8</th>\n",
       "      <td>8</td>\n",
       "      <td>3</td>\n",
       "      <td>plot_tools</td>\n",
       "      <td>py</td>\n",
       "      <td>5</td>\n",
       "      <td>False</td>\n",
       "      <td>pipest/sdhawkes/resources/plot_tools.py</td>\n",
       "    </tr>\n",
       "    <tr>\n",
       "      <th>9</th>\n",
       "      <td>9</td>\n",
       "      <td>3</td>\n",
       "      <td>mle_estimation</td>\n",
       "      <td>pyx</td>\n",
       "      <td>5</td>\n",
       "      <td>False</td>\n",
       "      <td>pipest/sdhawkes/resources/mle_estimation.pyx</td>\n",
       "    </tr>\n",
       "    <tr>\n",
       "      <th>10</th>\n",
       "      <td>10</td>\n",
       "      <td>3</td>\n",
       "      <td>uncertainty_quant</td>\n",
       "      <td>pyx</td>\n",
       "      <td>5</td>\n",
       "      <td>False</td>\n",
       "      <td>pipest/sdhawkes/resources/uncertainty_quant.pyx</td>\n",
       "    </tr>\n",
       "    <tr>\n",
       "      <th>11</th>\n",
       "      <td>11</td>\n",
       "      <td>3</td>\n",
       "      <td>minimisation_algo</td>\n",
       "      <td>pyx</td>\n",
       "      <td>5</td>\n",
       "      <td>False</td>\n",
       "      <td>pipest/sdhawkes/resources/minimisation_algo.pyx</td>\n",
       "    </tr>\n",
       "    <tr>\n",
       "      <th>12</th>\n",
       "      <td>12</td>\n",
       "      <td>3</td>\n",
       "      <td>simulation</td>\n",
       "      <td>pyx</td>\n",
       "      <td>5</td>\n",
       "      <td>False</td>\n",
       "      <td>pipest/sdhawkes/resources/simulation.pyx</td>\n",
       "    </tr>\n",
       "    <tr>\n",
       "      <th>13</th>\n",
       "      <td>13</td>\n",
       "      <td>3</td>\n",
       "      <td>goodness_of_fit</td>\n",
       "      <td>pyx</td>\n",
       "      <td>5</td>\n",
       "      <td>False</td>\n",
       "      <td>pipest/sdhawkes/resources/goodness_of_fit.pyx</td>\n",
       "    </tr>\n",
       "    <tr>\n",
       "      <th>14</th>\n",
       "      <td>14</td>\n",
       "      <td>3</td>\n",
       "      <td>nonparam_estimation</td>\n",
       "      <td>pyx</td>\n",
       "      <td>5</td>\n",
       "      <td>False</td>\n",
       "      <td>pipest/sdhawkes/resources/nonparam_estimation.pyx</td>\n",
       "    </tr>\n",
       "    <tr>\n",
       "      <th>15</th>\n",
       "      <td>15</td>\n",
       "      <td>2</td>\n",
       "      <td>lobster</td>\n",
       "      <td>None</td>\n",
       "      <td>0</td>\n",
       "      <td>True</td>\n",
       "      <td>pipest/lobster/</td>\n",
       "    </tr>\n",
       "    <tr>\n",
       "      <th>16</th>\n",
       "      <td>16</td>\n",
       "      <td>3</td>\n",
       "      <td>py_scripts</td>\n",
       "      <td>None</td>\n",
       "      <td>15</td>\n",
       "      <td>True</td>\n",
       "      <td>pipest/lobster/py_scripts/</td>\n",
       "    </tr>\n",
       "    <tr>\n",
       "      <th>17</th>\n",
       "      <td>17</td>\n",
       "      <td>3</td>\n",
       "      <td>read_from_lobster</td>\n",
       "      <td>py</td>\n",
       "      <td>16</td>\n",
       "      <td>False</td>\n",
       "      <td>pipest/lobster/py_scripts/read_from_lobster.py</td>\n",
       "    </tr>\n",
       "    <tr>\n",
       "      <th>18</th>\n",
       "      <td>18</td>\n",
       "      <td>3</td>\n",
       "      <td>prepare_from_lobster</td>\n",
       "      <td>pyx</td>\n",
       "      <td>16</td>\n",
       "      <td>False</td>\n",
       "      <td>pipest/lobster/py_scripts/prepare_from_lobster...</td>\n",
       "    </tr>\n",
       "    <tr>\n",
       "      <th>19</th>\n",
       "      <td>19</td>\n",
       "      <td>3</td>\n",
       "      <td>data</td>\n",
       "      <td>None</td>\n",
       "      <td>15</td>\n",
       "      <td>True</td>\n",
       "      <td>pipest/lobster/data/</td>\n",
       "    </tr>\n",
       "    <tr>\n",
       "      <th>20</th>\n",
       "      <td>20</td>\n",
       "      <td>2</td>\n",
       "      <td>calibration</td>\n",
       "      <td>None</td>\n",
       "      <td>0</td>\n",
       "      <td>True</td>\n",
       "      <td>pipest/calibration/</td>\n",
       "    </tr>\n",
       "    <tr>\n",
       "      <th>21</th>\n",
       "      <td>21</td>\n",
       "      <td>2</td>\n",
       "      <td>main</td>\n",
       "      <td>py</td>\n",
       "      <td>20</td>\n",
       "      <td>False</td>\n",
       "      <td>pipest/calibration/main.py</td>\n",
       "    </tr>\n",
       "  </tbody>\n",
       "</table>\n",
       "</div>"
      ],
      "text/plain": [
       "    id  depth                  file extension  parent  folder  \\\n",
       "0    0      1                pipest      None      -1    True   \n",
       "1    1      2              sdhawkes      None       0    True   \n",
       "2    2      3             modelling      None       1    True   \n",
       "3    3      3             lob_model       pyx       2   False   \n",
       "4    4      3                 model       pyx       2   False   \n",
       "5    5      3             resources      None       1    True   \n",
       "6    6      3           computation       pyx       5   False   \n",
       "7    7      3        impact_profile       pyx       5   False   \n",
       "8    8      3            plot_tools        py       5   False   \n",
       "9    9      3        mle_estimation       pyx       5   False   \n",
       "10  10      3     uncertainty_quant       pyx       5   False   \n",
       "11  11      3     minimisation_algo       pyx       5   False   \n",
       "12  12      3            simulation       pyx       5   False   \n",
       "13  13      3       goodness_of_fit       pyx       5   False   \n",
       "14  14      3   nonparam_estimation       pyx       5   False   \n",
       "15  15      2               lobster      None       0    True   \n",
       "16  16      3            py_scripts      None      15    True   \n",
       "17  17      3     read_from_lobster        py      16   False   \n",
       "18  18      3  prepare_from_lobster       pyx      16   False   \n",
       "19  19      3                  data      None      15    True   \n",
       "20  20      2           calibration      None       0    True   \n",
       "21  21      2                  main        py      20   False   \n",
       "\n",
       "                                                 path  \n",
       "0                                             pipest/  \n",
       "1                                    pipest/sdhawkes/  \n",
       "2                          pipest/sdhawkes/modelling/  \n",
       "3             pipest/sdhawkes/modelling/lob_model.pyx  \n",
       "4                 pipest/sdhawkes/modelling/model.pyx  \n",
       "5                          pipest/sdhawkes/resources/  \n",
       "6           pipest/sdhawkes/resources/computation.pyx  \n",
       "7        pipest/sdhawkes/resources/impact_profile.pyx  \n",
       "8             pipest/sdhawkes/resources/plot_tools.py  \n",
       "9        pipest/sdhawkes/resources/mle_estimation.pyx  \n",
       "10    pipest/sdhawkes/resources/uncertainty_quant.pyx  \n",
       "11    pipest/sdhawkes/resources/minimisation_algo.pyx  \n",
       "12           pipest/sdhawkes/resources/simulation.pyx  \n",
       "13      pipest/sdhawkes/resources/goodness_of_fit.pyx  \n",
       "14  pipest/sdhawkes/resources/nonparam_estimation.pyx  \n",
       "15                                    pipest/lobster/  \n",
       "16                         pipest/lobster/py_scripts/  \n",
       "17     pipest/lobster/py_scripts/read_from_lobster.py  \n",
       "18  pipest/lobster/py_scripts/prepare_from_lobster...  \n",
       "19                               pipest/lobster/data/  \n",
       "20                                pipest/calibration/  \n",
       "21                         pipest/calibration/main.py  "
      ]
     },
     "execution_count": 29,
     "metadata": {},
     "output_type": "execute_result"
    }
   ],
   "source": [
    "cols=list(df.columns)\n",
    "newcols=[]\n",
    "newcols.append(cols[0])\n",
    "newcols.append(cols[5])\n",
    "newcols.append(cols[2])\n",
    "newcols.append(cols[3])\n",
    "newcols.append(cols[-1])\n",
    "newcols.append(cols[4])\n",
    "newcols.append(cols[1])\n",
    "df=df[newcols]\n",
    "df"
   ]
  },
  {
   "cell_type": "code",
   "execution_count": 30,
   "metadata": {},
   "outputs": [
    {
     "data": {
      "text/html": [
       "<div>\n",
       "<style scoped>\n",
       "    .dataframe tbody tr th:only-of-type {\n",
       "        vertical-align: middle;\n",
       "    }\n",
       "\n",
       "    .dataframe tbody tr th {\n",
       "        vertical-align: top;\n",
       "    }\n",
       "\n",
       "    .dataframe thead th {\n",
       "        text-align: right;\n",
       "    }\n",
       "</style>\n",
       "<table border=\"1\" class=\"dataframe\">\n",
       "  <thead>\n",
       "    <tr style=\"text-align: right;\">\n",
       "      <th></th>\n",
       "      <th>id</th>\n",
       "      <th>depth</th>\n",
       "      <th>file</th>\n",
       "      <th>extension</th>\n",
       "      <th>parent</th>\n",
       "      <th>path</th>\n",
       "    </tr>\n",
       "  </thead>\n",
       "  <tbody>\n",
       "    <tr>\n",
       "      <th>0</th>\n",
       "      <td>0</td>\n",
       "      <td>1</td>\n",
       "      <td>pipest</td>\n",
       "      <td>None</td>\n",
       "      <td>-1</td>\n",
       "      <td>pipest/</td>\n",
       "    </tr>\n",
       "    <tr>\n",
       "      <th>1</th>\n",
       "      <td>1</td>\n",
       "      <td>2</td>\n",
       "      <td>sdhawkes</td>\n",
       "      <td>None</td>\n",
       "      <td>0</td>\n",
       "      <td>pipest/sdhawkes/</td>\n",
       "    </tr>\n",
       "    <tr>\n",
       "      <th>2</th>\n",
       "      <td>2</td>\n",
       "      <td>3</td>\n",
       "      <td>modelling</td>\n",
       "      <td>None</td>\n",
       "      <td>1</td>\n",
       "      <td>pipest/sdhawkes/modelling/</td>\n",
       "    </tr>\n",
       "    <tr>\n",
       "      <th>3</th>\n",
       "      <td>3</td>\n",
       "      <td>3</td>\n",
       "      <td>lob_model</td>\n",
       "      <td>pyx</td>\n",
       "      <td>2</td>\n",
       "      <td>pipest/sdhawkes/modelling/lob_model.pyx</td>\n",
       "    </tr>\n",
       "    <tr>\n",
       "      <th>4</th>\n",
       "      <td>4</td>\n",
       "      <td>3</td>\n",
       "      <td>model</td>\n",
       "      <td>pyx</td>\n",
       "      <td>2</td>\n",
       "      <td>pipest/sdhawkes/modelling/model.pyx</td>\n",
       "    </tr>\n",
       "    <tr>\n",
       "      <th>5</th>\n",
       "      <td>5</td>\n",
       "      <td>3</td>\n",
       "      <td>resources</td>\n",
       "      <td>None</td>\n",
       "      <td>1</td>\n",
       "      <td>pipest/sdhawkes/resources/</td>\n",
       "    </tr>\n",
       "    <tr>\n",
       "      <th>6</th>\n",
       "      <td>6</td>\n",
       "      <td>3</td>\n",
       "      <td>computation</td>\n",
       "      <td>pyx</td>\n",
       "      <td>5</td>\n",
       "      <td>pipest/sdhawkes/resources/computation.pyx</td>\n",
       "    </tr>\n",
       "    <tr>\n",
       "      <th>7</th>\n",
       "      <td>7</td>\n",
       "      <td>3</td>\n",
       "      <td>impact_profile</td>\n",
       "      <td>pyx</td>\n",
       "      <td>5</td>\n",
       "      <td>pipest/sdhawkes/resources/impact_profile.pyx</td>\n",
       "    </tr>\n",
       "    <tr>\n",
       "      <th>8</th>\n",
       "      <td>8</td>\n",
       "      <td>3</td>\n",
       "      <td>plot_tools</td>\n",
       "      <td>py</td>\n",
       "      <td>5</td>\n",
       "      <td>pipest/sdhawkes/resources/plot_tools.py</td>\n",
       "    </tr>\n",
       "    <tr>\n",
       "      <th>9</th>\n",
       "      <td>9</td>\n",
       "      <td>3</td>\n",
       "      <td>mle_estimation</td>\n",
       "      <td>pyx</td>\n",
       "      <td>5</td>\n",
       "      <td>pipest/sdhawkes/resources/mle_estimation.pyx</td>\n",
       "    </tr>\n",
       "    <tr>\n",
       "      <th>10</th>\n",
       "      <td>10</td>\n",
       "      <td>3</td>\n",
       "      <td>uncertainty_quant</td>\n",
       "      <td>pyx</td>\n",
       "      <td>5</td>\n",
       "      <td>pipest/sdhawkes/resources/uncertainty_quant.pyx</td>\n",
       "    </tr>\n",
       "    <tr>\n",
       "      <th>11</th>\n",
       "      <td>11</td>\n",
       "      <td>3</td>\n",
       "      <td>minimisation_algo</td>\n",
       "      <td>pyx</td>\n",
       "      <td>5</td>\n",
       "      <td>pipest/sdhawkes/resources/minimisation_algo.pyx</td>\n",
       "    </tr>\n",
       "    <tr>\n",
       "      <th>12</th>\n",
       "      <td>12</td>\n",
       "      <td>3</td>\n",
       "      <td>simulation</td>\n",
       "      <td>pyx</td>\n",
       "      <td>5</td>\n",
       "      <td>pipest/sdhawkes/resources/simulation.pyx</td>\n",
       "    </tr>\n",
       "    <tr>\n",
       "      <th>13</th>\n",
       "      <td>13</td>\n",
       "      <td>3</td>\n",
       "      <td>goodness_of_fit</td>\n",
       "      <td>pyx</td>\n",
       "      <td>5</td>\n",
       "      <td>pipest/sdhawkes/resources/goodness_of_fit.pyx</td>\n",
       "    </tr>\n",
       "    <tr>\n",
       "      <th>14</th>\n",
       "      <td>14</td>\n",
       "      <td>3</td>\n",
       "      <td>nonparam_estimation</td>\n",
       "      <td>pyx</td>\n",
       "      <td>5</td>\n",
       "      <td>pipest/sdhawkes/resources/nonparam_estimation.pyx</td>\n",
       "    </tr>\n",
       "    <tr>\n",
       "      <th>15</th>\n",
       "      <td>15</td>\n",
       "      <td>2</td>\n",
       "      <td>lobster</td>\n",
       "      <td>None</td>\n",
       "      <td>0</td>\n",
       "      <td>pipest/lobster/</td>\n",
       "    </tr>\n",
       "    <tr>\n",
       "      <th>16</th>\n",
       "      <td>16</td>\n",
       "      <td>3</td>\n",
       "      <td>py_scripts</td>\n",
       "      <td>None</td>\n",
       "      <td>15</td>\n",
       "      <td>pipest/lobster/py_scripts/</td>\n",
       "    </tr>\n",
       "    <tr>\n",
       "      <th>17</th>\n",
       "      <td>17</td>\n",
       "      <td>3</td>\n",
       "      <td>read_from_lobster</td>\n",
       "      <td>py</td>\n",
       "      <td>16</td>\n",
       "      <td>pipest/lobster/py_scripts/read_from_lobster.py</td>\n",
       "    </tr>\n",
       "    <tr>\n",
       "      <th>18</th>\n",
       "      <td>18</td>\n",
       "      <td>3</td>\n",
       "      <td>prepare_from_lobster</td>\n",
       "      <td>pyx</td>\n",
       "      <td>16</td>\n",
       "      <td>pipest/lobster/py_scripts/prepare_from_lobster...</td>\n",
       "    </tr>\n",
       "    <tr>\n",
       "      <th>19</th>\n",
       "      <td>19</td>\n",
       "      <td>3</td>\n",
       "      <td>data</td>\n",
       "      <td>None</td>\n",
       "      <td>15</td>\n",
       "      <td>pipest/lobster/data/</td>\n",
       "    </tr>\n",
       "    <tr>\n",
       "      <th>20</th>\n",
       "      <td>20</td>\n",
       "      <td>2</td>\n",
       "      <td>calibration</td>\n",
       "      <td>None</td>\n",
       "      <td>0</td>\n",
       "      <td>pipest/calibration/</td>\n",
       "    </tr>\n",
       "    <tr>\n",
       "      <th>21</th>\n",
       "      <td>21</td>\n",
       "      <td>2</td>\n",
       "      <td>main</td>\n",
       "      <td>py</td>\n",
       "      <td>20</td>\n",
       "      <td>pipest/calibration/main.py</td>\n",
       "    </tr>\n",
       "  </tbody>\n",
       "</table>\n",
       "</div>"
      ],
      "text/plain": [
       "    id  depth                  file extension  parent  \\\n",
       "0    0      1                pipest      None      -1   \n",
       "1    1      2              sdhawkes      None       0   \n",
       "2    2      3             modelling      None       1   \n",
       "3    3      3             lob_model       pyx       2   \n",
       "4    4      3                 model       pyx       2   \n",
       "5    5      3             resources      None       1   \n",
       "6    6      3           computation       pyx       5   \n",
       "7    7      3        impact_profile       pyx       5   \n",
       "8    8      3            plot_tools        py       5   \n",
       "9    9      3        mle_estimation       pyx       5   \n",
       "10  10      3     uncertainty_quant       pyx       5   \n",
       "11  11      3     minimisation_algo       pyx       5   \n",
       "12  12      3            simulation       pyx       5   \n",
       "13  13      3       goodness_of_fit       pyx       5   \n",
       "14  14      3   nonparam_estimation       pyx       5   \n",
       "15  15      2               lobster      None       0   \n",
       "16  16      3            py_scripts      None      15   \n",
       "17  17      3     read_from_lobster        py      16   \n",
       "18  18      3  prepare_from_lobster       pyx      16   \n",
       "19  19      3                  data      None      15   \n",
       "20  20      2           calibration      None       0   \n",
       "21  21      2                  main        py      20   \n",
       "\n",
       "                                                 path  \n",
       "0                                             pipest/  \n",
       "1                                    pipest/sdhawkes/  \n",
       "2                          pipest/sdhawkes/modelling/  \n",
       "3             pipest/sdhawkes/modelling/lob_model.pyx  \n",
       "4                 pipest/sdhawkes/modelling/model.pyx  \n",
       "5                          pipest/sdhawkes/resources/  \n",
       "6           pipest/sdhawkes/resources/computation.pyx  \n",
       "7        pipest/sdhawkes/resources/impact_profile.pyx  \n",
       "8             pipest/sdhawkes/resources/plot_tools.py  \n",
       "9        pipest/sdhawkes/resources/mle_estimation.pyx  \n",
       "10    pipest/sdhawkes/resources/uncertainty_quant.pyx  \n",
       "11    pipest/sdhawkes/resources/minimisation_algo.pyx  \n",
       "12           pipest/sdhawkes/resources/simulation.pyx  \n",
       "13      pipest/sdhawkes/resources/goodness_of_fit.pyx  \n",
       "14  pipest/sdhawkes/resources/nonparam_estimation.pyx  \n",
       "15                                    pipest/lobster/  \n",
       "16                         pipest/lobster/py_scripts/  \n",
       "17     pipest/lobster/py_scripts/read_from_lobster.py  \n",
       "18  pipest/lobster/py_scripts/prepare_from_lobster...  \n",
       "19                               pipest/lobster/data/  \n",
       "20                                pipest/calibration/  \n",
       "21                         pipest/calibration/main.py  "
      ]
     },
     "execution_count": 30,
     "metadata": {},
     "output_type": "execute_result"
    }
   ],
   "source": [
    "df[[\"id\",\"depth\",\"file\",\"extension\",\"parent\",\"path\"]]"
   ]
  },
  {
   "cell_type": "code",
   "execution_count": 31,
   "metadata": {},
   "outputs": [
    {
     "data": {
      "text/plain": [
       "'\\\\begin{tabular}{rrllrl}\\n\\\\toprule\\n id &  depth &                  file & extension &  parent &                                               path \\\\\\\\\\n\\\\midrule\\n  0 &      1 &                pipest &      None &      -1 &                                            pipest/ \\\\\\\\\\n  1 &      2 &              sdhawkes &      None &       0 &                                   pipest/sdhawkes/ \\\\\\\\\\n  2 &      3 &             modelling &      None &       1 &                         pipest/sdhawkes/modelling/ \\\\\\\\\\n  3 &      3 &             lob\\\\_model &       pyx &       2 &            pipest/sdhawkes/modelling/lob\\\\_model.pyx \\\\\\\\\\n  4 &      3 &                 model &       pyx &       2 &                pipest/sdhawkes/modelling/model.pyx \\\\\\\\\\n  5 &      3 &             resources &      None &       1 &                         pipest/sdhawkes/resources/ \\\\\\\\\\n  6 &      3 &           computation &       pyx &       5 &          pipest/sdhawkes/resources/computation.pyx \\\\\\\\\\n  7 &      3 &        impact\\\\_profile &       pyx &       5 &       pipest/sdhawkes/resources/impact\\\\_profile.pyx \\\\\\\\\\n  8 &      3 &            plot\\\\_tools &        py &       5 &            pipest/sdhawkes/resources/plot\\\\_tools.py \\\\\\\\\\n  9 &      3 &        mle\\\\_estimation &       pyx &       5 &       pipest/sdhawkes/resources/mle\\\\_estimation.pyx \\\\\\\\\\n 10 &      3 &     uncertainty\\\\_quant &       pyx &       5 &    pipest/sdhawkes/resources/uncertainty\\\\_quant.pyx \\\\\\\\\\n 11 &      3 &     minimisation\\\\_algo &       pyx &       5 &    pipest/sdhawkes/resources/minimisation\\\\_algo.pyx \\\\\\\\\\n 12 &      3 &            simulation &       pyx &       5 &           pipest/sdhawkes/resources/simulation.pyx \\\\\\\\\\n 13 &      3 &       goodness\\\\_of\\\\_fit &       pyx &       5 &      pipest/sdhawkes/resources/goodness\\\\_of\\\\_fit.pyx \\\\\\\\\\n 14 &      3 &   nonparam\\\\_estimation &       pyx &       5 &  pipest/sdhawkes/resources/nonparam\\\\_estimation.pyx \\\\\\\\\\n 15 &      2 &               lobster &      None &       0 &                                    pipest/lobster/ \\\\\\\\\\n 16 &      3 &            py\\\\_scripts &      None &      15 &                         pipest/lobster/py\\\\_scripts/ \\\\\\\\\\n 17 &      3 &     read\\\\_from\\\\_lobster &        py &      16 &     pipest/lobster/py\\\\_scripts/read\\\\_from\\\\_lobster.py \\\\\\\\\\n 18 &      3 &  prepare\\\\_from\\\\_lobster &       pyx &      16 &  pipest/lobster/py\\\\_scripts/prepare\\\\_from\\\\_lobster... \\\\\\\\\\n 19 &      3 &                  data &      None &      15 &                               pipest/lobster/data/ \\\\\\\\\\n 20 &      2 &           calibration &      None &       0 &                                pipest/calibration/ \\\\\\\\\\n 21 &      2 &                  main &        py &      20 &                         pipest/calibration/main.py \\\\\\\\\\n\\\\bottomrule\\n\\\\end{tabular}\\n'"
      ]
     },
     "execution_count": 31,
     "metadata": {},
     "output_type": "execute_result"
    }
   ],
   "source": [
    "df[[\"id\",\"depth\",\"file\",\"extension\",\"parent\",\"path\"]].to_latex(index=False)"
   ]
  },
  {
   "cell_type": "code",
   "execution_count": null,
   "metadata": {},
   "outputs": [],
   "source": []
  },
  {
   "cell_type": "code",
   "execution_count": 32,
   "metadata": {},
   "outputs": [],
   "source": [
    "id_model=int(df.loc[df[\"file\"]==\"model\",\"id\"])\n",
    "id_computation=int(df.loc[df[\"file\"]==\"computation\",\"id\"])\n",
    "id_mle=int(df.loc[df[\"file\"]==\"mle_estimation\",\"id\"])\n",
    "id_minim=int(df.loc[df[\"file\"]==\"minimisation_algo\",\"id\"])\n",
    "id_cal=int(df.loc[df[\"file\"]==\"main\",\"id\"])\n",
    "df[\"called_by\"]=[{}]*len(df)\n",
    "idx_res=df[\"parent\"]==int(df.loc[df[\"file\"]==\"resources\",\"id\"])\n",
    "df.loc[idx_res,\"called_by\"]=[{0:id_model}]*len(df.loc[idx_res,\"called_by\"])\n",
    "idx=df[\"file\"]==\"lob_model\"\n",
    "df.loc[idx,\"called_by\"]={0:id_model}\n",
    "df.loc[df[\"file\"]==\"minimisation_algo\",\"called_by\"]=[{0:id_model,1:id_mle}]\n",
    "df.loc[df[\"id\"]==id_mle,\"called_by\"]=[{0:id_model,1:id_cal}]\n",
    "df.loc[df[\"file\"].isin([\"read_from_lobster\",\"prepare_from_lobster\"]),\"called_by\"]=[{0:id_cal}]*2\n",
    "c={}\n",
    "k=0\n",
    "for i in list(df.loc[idx_res,\"id\"].values):\n",
    "    c[k]=i\n",
    "    k=k+1\n",
    "df.loc[df[\"file\"]==\"computation\",\"called_by\"]=[c]"
   ]
  },
  {
   "cell_type": "code",
   "execution_count": 33,
   "metadata": {},
   "outputs": [
    {
     "data": {
      "text/plain": [
       "6    {0: 6, 1: 7, 2: 8, 3: 9, 4: 10, 5: 11, 6: 12, ...\n",
       "Name: called_by, dtype: object"
      ]
     },
     "execution_count": 33,
     "metadata": {},
     "output_type": "execute_result"
    }
   ],
   "source": [
    "df.loc[df[\"file\"]==\"computation\",\"called_by\"]"
   ]
  },
  {
   "cell_type": "code",
   "execution_count": 34,
   "metadata": {},
   "outputs": [
    {
     "name": "stdout",
     "output_type": "stream",
     "text": [
      "Name: \n",
      "Type: DiGraph\n",
      "Number of nodes: 22\n",
      "Number of edges: 22\n",
      "Average in degree:   1.0000\n",
      "Average out degree:   1.0000\n"
     ]
    }
   ],
   "source": [
    "Gh=nx.DiGraph()\n",
    "for i,row in df.iterrows():\n",
    "#     print(row.file)\n",
    "#     print(row.path)\n",
    "    Gh.add_node(row.id,file=row.file,extension=row.extension)\n",
    "    Gh.add_edge(max(row.parent,0),row.id,color='C0',relation='hierarchical')\n",
    "Gc=nx.DiGraph()\n",
    "for i,row in df.iterrows():\n",
    "    for k in row.called_by.values():\n",
    "        Gc.add_edge(k,row.id,color=\"red\",relation=\"call\")\n",
    "print(nx.info(Gh))    "
   ]
  },
  {
   "cell_type": "code",
   "execution_count": 47,
   "metadata": {},
   "outputs": [
    {
     "data": {
      "image/png": "[encoded data removed]",
      "text/plain": [
       "<Figure size 504x504 with 1 Axes>"
      ]
     },
     "metadata": {},
     "output_type": "display_data"
    }
   ],
   "source": [
    "fig = plt.figure(figsize=(7, 7))\n",
    "nx.draw_networkx(Gc,pos=nx.shell_layout(Gc),font_color=\"white\",edge_color=\"C3\",node_color=\"C4\",node_size=1000, font_size=20)\n",
    "plt.axis('off')\n",
    "fname=path_fig+'callG.png'\n",
    "# plt.savefig(fname)\n",
    "plt.draw()"
   ]
  },
  {
   "cell_type": "code",
   "execution_count": 46,
   "metadata": {},
   "outputs": [
    {
     "data": {
      "image/png": "[encoded data removed]",
      "text/plain": [
       "<Figure size 936x504 with 1 Axes>"
      ]
     },
     "metadata": {},
     "output_type": "display_data"
    }
   ],
   "source": [
    "pos_dot = graphviz_layout(Gh, prog='dot')\n",
    "fig = plt.figure(figsize=(13, 7))\n",
    "nodes = nx.draw_networkx_nodes(Gh, pos_dot, node_size=1000, node_color='C0')\n",
    "edges = nx.draw_networkx_edges(Gh, pos_dot,  edge_color=\"C0\",width=0.5)\n",
    "labels = nx.draw_networkx_labels(Gh, pos_dot, font_color=\"white\", font_size=20)\n",
    "plt.axis('off')\n",
    "fname=path_fig+'hierG.png'\n",
    "# plt.savefig(fname)\n",
    "plt.show()"
   ]
  },
  {
   "cell_type": "code",
   "execution_count": null,
   "metadata": {},
   "outputs": [],
   "source": []
  }
 ],
 "metadata": {
  "kernelspec": {
   "display_name": "Python 3",
   "language": "python",
   "name": "python3"
  },
  "language_info": {
   "codemirror_mode": {
    "name": "ipython",
    "version": 3
   },
   "file_extension": ".py",
   "mimetype": "text/x-python",
   "name": "python",
   "nbconvert_exporter": "python",
   "pygments_lexer": "ipython3",
   "version": "3.7.6"
  }
 },
 "nbformat": 4,
 "nbformat_minor": 4
}
