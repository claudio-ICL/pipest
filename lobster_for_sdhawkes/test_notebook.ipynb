{
 "cells": [
  {
   "cell_type": "code",
   "execution_count": 1,
   "metadata": {},
   "outputs": [],
   "source": [
    "import os\n",
    "path_root = os.path.abspath('./')\n",
    "if os.path.basename(path_root)=='py_scripts':\n",
    "    path_root = os.path.abspath('../')\n",
    "path_to_data = path_root+'/data/'    \n",
    "path_sd_hawkes = os.path.dirname(path_root)+'/sd_hawkes_powerlaw/'\n",
    "import numpy as np\n",
    "import pandas as pd\n",
    "import pickle\n",
    "import datetime\n",
    "import time"
   ]
  },
  {
   "cell_type": "code",
   "execution_count": 2,
   "metadata": {},
   "outputs": [],
   "source": [
    "import sys\n",
    "sys.path.append(path_root+'/py_scripts/')\n",
    "sys.path.append(path_sd_hawkes+'/modelling/')\n",
    "sys.path.append(path_sd_hawkes+'/resources/')"
   ]
  },
  {
   "cell_type": "code",
   "execution_count": 3,
   "metadata": {},
   "outputs": [],
   "source": [
    "import model as sd_hawkes_model\n",
    "import lob_model\n",
    "import prepare_from_lobster as from_lobster"
   ]
  },
  {
   "cell_type": "code",
   "execution_count": 4,
   "metadata": {},
   "outputs": [],
   "source": [
    "symbol='INTC'\n",
    "initial_time=float(11.5*60*60)\n",
    "final_time=float(15.0*60*60)\n",
    "first_read_fromLOBSTER=True\n",
    "dump_after_reading=False\n",
    "add_level_to_messagefile=True"
   ]
  },
  {
   "cell_type": "code",
   "execution_count": 5,
   "metadata": {},
   "outputs": [],
   "source": [
    "date='2019-01-31'"
   ]
  },
  {
   "cell_type": "code",
   "execution_count": 6,
   "metadata": {},
   "outputs": [
    {
     "name": "stdout",
     "output_type": "stream",
     "text": [
      "symbol=INTC, date=2019-01-31\n",
      "Given shape of orderbook: 1021687x40\n",
      "I am dropping column 6 of messagefile. Please disregard any Warning about this column\n",
      "given shape of messagefile: 1021687x6\n",
      "read_from_LOBSTER: time window:\n",
      "  initial_time=34200.007032624\n",
      "  final_time=57599.991693465\n",
      "I am adding 'level' to messagefile\n",
      "declare_level: check = True\n"
     ]
    }
   ],
   "source": [
    "print('symbol={}, date={}'.format(symbol,date))\n",
    "if (first_read_fromLOBSTER):\n",
    "    LOB,messagefile=from_lobster.read_from_LOBSTER(symbol,date,\n",
    "                                      dump_after_reading=dump_after_reading,\n",
    "                                      add_level_to_messagefile=add_level_to_messagefile)\n",
    "else:\n",
    "    LOB,messagefile=from_lobster.load_from_pickleFiles(symbol,date)\n",
    "\n",
    "LOB,messagefile=from_lobster.select_subset(LOB,messagefile,\n",
    "                              initial_time=initial_time,\n",
    "                              final_time=final_time)"
   ]
  },
  {
   "cell_type": "code",
   "execution_count": 7,
   "metadata": {},
   "outputs": [],
   "source": [
    "aggregate_time_stamp=True\n",
    "eventTypes_to_aggregate=[1,2,3,4,5]\n",
    "eventTypes_to_drop_with_nonunique_time=[]\n",
    "eventTypes_to_drop_after_aggregation=[3]\n",
    "only_4_events=False\n",
    "separate_directions=True\n",
    "separate_13_events=False\n",
    "separate_31_events=False\n",
    "separate_41_events=True\n",
    "separate_34_events=True\n",
    "separate_43_events=True\n",
    "equiparate_45_events_with_same_time_stamp=True\n",
    "drop_all_type3_events_with_nonunique_time=False\n",
    "drop_5_events_with_same_time_stamp_as_4=True\n",
    "drop_5_events_after_aggregation=True\n",
    "tolerance_when_dropping=1.0e-8\n",
    "add_hawkes_marks=True\n",
    "clear_same_time_stamp=True\n",
    "num_iter=4"
   ]
  },
  {
   "cell_type": "code",
   "execution_count": 8,
   "metadata": {},
   "outputs": [
    {
     "name": "stdout",
     "output_type": "stream",
     "text": [
      "Initial length of the message file: 448996\n",
      "prepare_from_lobster.check_time_nondecreasing: check passed successfully\n",
      "ManipulateMessageFile.aggregate_time_stamp: contraction. only_4_events=False\n",
      "  From 54805 lines with same time stamp, same event type and same direction, -->  to 24980 lines: 29825 lines contracted\n",
      "  Initial length=448996, contracted length=419171\n",
      "  Number of remaining events with same time stamp=3203\n",
      "I am dropping events with non-unique time stamp and event type=3, while keeping the_last of the events in every batch\n",
      "Numbers of events dropped: 94\n",
      "I am dropping events with non-unique time stamp and event type=5, while keeping the_last of the events in every batch\n",
      "Numbers of events dropped: 235\n",
      "Total number of events dropped: 329\n",
      "prepare_from_lobster.separate_41_events: number of occurrencies = 147 \n",
      "   After separation, the average time step is 0.1295933537422549, the smallest time step is 1.4099350664764643e-07.\n",
      "prepare_from_lobster.check_time_nondecreasing: check passed successfully\n",
      "prepare_from_lobster.separate_34_events: number of occurrencies = 203 \n",
      "   After separation, the average time step is 0.1295933537422549, the smallest time step is 1.4099350664764643e-07.\n",
      "prepare_from_lobster.check_time_nondecreasing: check passed successfully\n",
      "prepare_from_lobster.separate_43_events: number of occurrencies = 4 \n",
      "   After separation, the average time step is 0.1295921097067679, the smallest time step is 1.4099350664764643e-07.\n",
      "prepare_from_lobster.check_time_nondecreasing: check passed successfully\n",
      "prepare_from_lobster.separate_directions: number of occurrencies = 506 \n",
      "   After separation, the average time step is 0.12948365948595325, the smallest time step is 1.4099350664764643e-07.\n",
      "prepare_from_lobster.check_time_nondecreasing: check passed successfully\n",
      "ManipulateMessageFile.aggregate_time_stamp: contraction. only_4_events=False\n",
      "  From 2083 lines with same time stamp, same event type and same direction, -->  to 345 lines: 1738 lines contracted\n",
      "  Initial length=418842, contracted length=417104\n",
      "  Number of remaining events with same time stamp=87\n",
      "I am dropping events with non-unique time stamp and event type=3, while keeping the_last of the events in every batch\n",
      "Numbers of events dropped: 0\n",
      "I am dropping events with non-unique time stamp and event type=5, while keeping the_last of the events in every batch\n",
      "Numbers of events dropped: 0\n",
      "Total number of events dropped: 0\n",
      "prepare_from_lobster.separate_41_events: number of occurrencies = 0 \n",
      "   After separation, the average time step is 0.12948365948595325, the smallest time step is 1.4099350664764643e-07.\n",
      "prepare_from_lobster.check_time_nondecreasing: check passed successfully\n",
      "prepare_from_lobster.separate_34_events: number of occurrencies = 10 \n",
      "   After separation, the average time step is 0.12948365948595325, the smallest time step is 1.4099350664764643e-07.\n",
      "prepare_from_lobster.check_time_nondecreasing: check passed successfully\n",
      "prepare_from_lobster.separate_43_events: number of occurrencies = 0 \n",
      "   After separation, the average time step is 0.12948365948595325, the smallest time step is 1.4099350664764643e-07.\n",
      "prepare_from_lobster.check_time_nondecreasing: check passed successfully\n",
      "prepare_from_lobster.separate_directions: number of occurrencies = 13 \n",
      "   After separation, the average time step is 0.12948365948595325, the smallest time step is 1.4099350664764643e-07.\n",
      "prepare_from_lobster.check_time_nondecreasing: check passed successfully\n",
      "prepare_from_lobster.equiparate_events_with_same_time_stamp:\n",
      "  event_left=4, event_right=5, occurrencies=18\n",
      "prepare_from_lobster.drop_events_with_same_time_stamp:\n",
      "  event_left=4, event_right=5, occurrencies=0\n",
      "ManipulateMessageFile.aggregate_time_stamp: contraction. only_4_events=False\n",
      "  From 83 lines with same time stamp, same event type and same direction, -->  to 18 lines: 65 lines contracted\n",
      "  Initial length=417104, contracted length=417039\n",
      "  Number of remaining events with same time stamp=4\n",
      "I am dropping events with non-unique time stamp and event type=3, while keeping the_last of the events in every batch\n",
      "Numbers of events dropped: 0\n",
      "I am dropping events with non-unique time stamp and event type=5, while keeping the_last of the events in every batch\n",
      "Numbers of events dropped: 0\n",
      "Total number of events dropped: 0\n",
      "prepare_from_lobster.separate_41_events: number of occurrencies = 0 \n",
      "   After separation, the average time step is 0.12948365948595325, the smallest time step is 1.4099350664764643e-07.\n",
      "prepare_from_lobster.check_time_nondecreasing: check passed successfully\n",
      "prepare_from_lobster.separate_34_events: number of occurrencies = 1 \n",
      "   After separation, the average time step is 0.12948365948595325, the smallest time step is 1.4099350664764643e-07.\n",
      "prepare_from_lobster.check_time_nondecreasing: check passed successfully\n",
      "prepare_from_lobster.separate_43_events: number of occurrencies = 0 \n",
      "   After separation, the average time step is 0.12948365948595325, the smallest time step is 1.4099350664764643e-07.\n",
      "prepare_from_lobster.check_time_nondecreasing: check passed successfully\n",
      "prepare_from_lobster.separate_directions: number of occurrencies = 2 \n",
      "   After separation, the average time step is 0.12948365948595325, the smallest time step is 1.4099350664764643e-07.\n",
      "prepare_from_lobster.check_time_nondecreasing: check passed successfully\n",
      "prepare_from_lobster.equiparate_events_with_same_time_stamp:\n",
      "  event_left=4, event_right=5, occurrencies=0\n",
      "prepare_from_lobster.drop_events_with_same_time_stamp:\n",
      "  event_left=4, event_right=5, occurrencies=0\n",
      "ManipulateMessageFile.aggregate_time_stamp: contraction. only_4_events=False\n",
      "  From 0 lines with same time stamp, same event type and same direction, -->  to 0 lines: 0 lines contracted\n",
      "  Initial length=417039, contracted length=417039\n",
      "  Number of remaining events with same time stamp=4\n",
      "I am dropping events with non-unique time stamp and event type=3, while keeping the_last of the events in every batch\n",
      "Numbers of events dropped: 0\n",
      "I am dropping events with non-unique time stamp and event type=5, while keeping the_last of the events in every batch\n",
      "Numbers of events dropped: 0\n",
      "Total number of events dropped: 0\n",
      "prepare_from_lobster.separate_41_events: number of occurrencies = 0 \n",
      "   After separation, the average time step is 0.12948365948595325, the smallest time step is 1.4099350664764643e-07.\n",
      "prepare_from_lobster.check_time_nondecreasing: check passed successfully\n",
      "prepare_from_lobster.separate_34_events: number of occurrencies = 1 \n",
      "   After separation, the average time step is 0.12948365948595325, the smallest time step is 1.4099350664764643e-07.\n",
      "prepare_from_lobster.check_time_nondecreasing: check passed successfully\n",
      "prepare_from_lobster.separate_43_events: number of occurrencies = 0 \n",
      "   After separation, the average time step is 0.12948365948595325, the smallest time step is 1.4099350664764643e-07.\n",
      "prepare_from_lobster.check_time_nondecreasing: check passed successfully\n",
      "prepare_from_lobster.separate_directions: number of occurrencies = 2 \n",
      "   After separation, the average time step is 0.12948365948595325, the smallest time step is 1.4099350664764643e-07.\n",
      "prepare_from_lobster.check_time_nondecreasing: check passed successfully\n",
      "prepare_from_lobster.equiparate_events_with_same_time_stamp:\n",
      "  event_left=4, event_right=5, occurrencies=0\n",
      "prepare_from_lobster.drop_events_with_same_time_stamp:\n",
      "  event_left=4, event_right=5, occurrencies=0\n",
      "I am dropping events with non-unique time stamp and event type=0, while keeping none of the events in every batch\n",
      "Numbers of events dropped: 0\n",
      "I am dropping events with non-unique time stamp and event type=1, while keeping none of the events in every batch\n",
      "Numbers of events dropped: 0\n",
      "I am dropping events with non-unique time stamp and event type=2, while keeping none of the events in every batch\n",
      "Numbers of events dropped: 0\n",
      "I am dropping events with non-unique time stamp and event type=3, while keeping none of the events in every batch\n",
      "Numbers of events dropped: 0\n",
      "I am dropping events with non-unique time stamp and event type=4, while keeping none of the events in every batch\n",
      "Numbers of events dropped: 4\n",
      "I am dropping events with non-unique time stamp and event type=5, while keeping none of the events in every batch\n",
      "Numbers of events dropped: 0\n",
      "I am dropping events with non-unique time stamp and event type=6, while keeping none of the events in every batch\n",
      "Numbers of events dropped: 0\n"
     ]
    },
    {
     "name": "stdout",
     "output_type": "stream",
     "text": [
      "I am dropping events with non-unique time stamp and event type=7, while keeping none of the events in every batch\n",
      "Numbers of events dropped: 0\n",
      "Total number of events dropped: 4\n",
      "prepare_from_lobster.check_time_nondecreasing: check passed successfully\n",
      "event_encoding: self.n_event_types=4, self.n_levels=2\n"
     ]
    }
   ],
   "source": [
    "man_mf=from_lobster.ManipulateMessageFile(\n",
    "     LOB,messagefile,\n",
    "     symbol=symbol,\n",
    "     date=date,\n",
    "     aggregate_time_stamp=aggregate_time_stamp,\n",
    "     eventTypes_to_aggregate=eventTypes_to_aggregate,  \n",
    "     only_4_events=only_4_events,\n",
    "     separate_directions=separate_directions,\n",
    "     separate_13_events=separate_13_events,\n",
    "     separate_31_events=separate_31_events,\n",
    "     separate_41_events=separate_41_events,\n",
    "     separate_34_events=separate_34_events,\n",
    "     separate_43_events=separate_43_events,\n",
    "     equiparate_45_events_with_same_time_stamp=\n",
    "     equiparate_45_events_with_same_time_stamp,\n",
    "     eventTypes_to_drop_with_nonunique_time=eventTypes_to_drop_with_nonunique_time,\n",
    "     eventTypes_to_drop_after_aggregation=eventTypes_to_drop_after_aggregation,\n",
    "     drop_all_type3_events_with_nonunique_time=drop_all_type3_events_with_nonunique_time,  \n",
    "     drop_5_events_with_same_time_stamp_as_4=drop_5_events_with_same_time_stamp_as_4,\n",
    "     drop_5_events_after_aggregation=drop_5_events_after_aggregation,\n",
    "     tolerance_when_dropping=tolerance_when_dropping,\n",
    "     clear_same_time_stamp=clear_same_time_stamp,\n",
    "     add_hawkes_marks=add_hawkes_marks,\n",
    "     num_iter=num_iter\n",
    ")"
   ]
  },
  {
   "cell_type": "code",
   "execution_count": 9,
   "metadata": {},
   "outputs": [],
   "source": [
    "man_ob=from_lobster.ManipulateOrderBook(\n",
    "    man_mf.LOB_sdhawkes,symbol=symbol,date=date,\n",
    "    ticksize=man_mf.ticksize,n_levels=man_mf.n_levels,volume_imbalance_upto_level=2)"
   ]
  },
  {
   "cell_type": "code",
   "execution_count": 10,
   "metadata": {},
   "outputs": [
    {
     "name": "stdout",
     "output_type": "stream",
     "text": [
      "prepare_from_lobster.check_time_nondecreasing: check passed successfully\n"
     ]
    }
   ],
   "source": [
    "data=from_lobster.DataToStore(man_ob,man_mf)"
   ]
  },
  {
   "cell_type": "code",
   "execution_count": 11,
   "metadata": {},
   "outputs": [
    {
     "name": "stdout",
     "output_type": "stream",
     "text": [
      "Data are being stored in /home/claudio/Desktop/lobster_for_sdhawkes/data/\n"
     ]
    }
   ],
   "source": [
    "sym = data.symbol\n",
    "date = data.date\n",
    "t_0 = data.initial_time\n",
    "t_1 = data.final_time\n",
    "print('Data are being stored in {}'.format(path_to_data))\n",
    "with open(path_to_data+'/{}/{}_{}_{}-{}'.format(sym,sym,date,t_0,t_1), 'wb') as outfile:\n",
    "    pickle.dump(data,outfile)\n",
    "    "
   ]
  },
  {
   "cell_type": "code",
   "execution_count": 12,
   "metadata": {},
   "outputs": [],
   "source": [
    "model=sd_hawkes_model.sd_hawkes(number_of_event_types=data.number_of_event_types,  number_of_states = data.number_of_states,\n",
    " number_of_lob_levels=data.n_levels,volume_imbalance_upto_level = data.volume_enc.volume_imbalance_upto_level,\n",
    " list_of_n_states=data.state_enc.list_of_n_states, st1_deflationary=data.state_enc.st1_deflationary,\n",
    " st1_inflationary=data.state_enc.st1_inflationary, st1_stationary=data.state_enc.st1_stationary\n",
    ")"
   ]
  },
  {
   "cell_type": "code",
   "execution_count": 13,
   "metadata": {},
   "outputs": [],
   "source": [
    "model.get_input_data(data)"
   ]
  },
  {
   "cell_type": "code",
   "execution_count": 14,
   "metadata": {},
   "outputs": [],
   "source": [
    "volumes=data.observed_volumes\n",
    "states=data.observed_states\n",
    "number_of_states=15\n",
    "n_levels=2\n",
    "verbose=True\n",
    "tolerance=1.0e-10"
   ]
  },
  {
   "cell_type": "code",
   "execution_count": 15,
   "metadata": {},
   "outputs": [],
   "source": [
    "import mle_estimation as mle_estim"
   ]
  },
  {
   "cell_type": "code",
   "execution_count": 16,
   "metadata": {},
   "outputs": [
    {
     "name": "stdout",
     "output_type": "stream",
     "text": [
      "I am estimating the dirichlet parameters for the state 0\n",
      "estimate_dirichlet_parameters. attempt with tol=1.000000013351432e-10\n",
      "estimate_dirichlet_parameters. state=0. success with tol=1.000000013351432e-10\n",
      "I am estimating the dirichlet parameters for the state 1\n",
      "estimate_dirichlet_parameters. attempt with tol=1.000000013351432e-10\n",
      "estimate_dirichlet_parameters. state=1. success with tol=1.000000013351432e-10\n",
      "I am estimating the dirichlet parameters for the state 2\n",
      "estimate_dirichlet_parameters. attempt with tol=1.000000013351432e-10\n",
      "estimate_dirichlet_parameters. state=2. success with tol=1.000000013351432e-10\n",
      "I am estimating the dirichlet parameters for the state 3\n",
      "estimate_dirichlet_parameters. attempt with tol=1.000000013351432e-10\n",
      "estimate_dirichlet_parameters. state=3. success with tol=1.000000013351432e-10\n",
      "I am estimating the dirichlet parameters for the state 4\n",
      "estimate_dirichlet_parameters. attempt with tol=1.000000013351432e-10\n",
      "estimate_dirichlet_parameters. state=4. success with tol=1.000000013351432e-10\n",
      "I am estimating the dirichlet parameters for the state 5\n",
      "estimate_dirichlet_parameters. attempt with tol=1.000000013351432e-10\n",
      "estimate_dirichlet_parameters. state=5. success with tol=1.000000013351432e-10\n",
      "I am estimating the dirichlet parameters for the state 6\n",
      "estimate_dirichlet_parameters. attempt with tol=1.000000013351432e-10\n",
      "estimate_dirichlet_parameters. state=6. success with tol=1.000000013351432e-10\n",
      "I am estimating the dirichlet parameters for the state 7\n",
      "estimate_dirichlet_parameters. attempt with tol=1.000000013351432e-10\n",
      "estimate_dirichlet_parameters. state=7. success with tol=1.000000013351432e-10\n",
      "I am estimating the dirichlet parameters for the state 8\n",
      "estimate_dirichlet_parameters. attempt with tol=1.000000013351432e-10\n",
      "estimate_dirichlet_parameters. state=8. success with tol=1.000000013351432e-10\n",
      "I am estimating the dirichlet parameters for the state 9\n",
      "estimate_dirichlet_parameters. attempt with tol=1.000000013351432e-10\n",
      "estimate_dirichlet_parameters. state=9. success with tol=1.000000013351432e-10\n",
      "I am estimating the dirichlet parameters for the state 10\n",
      "estimate_dirichlet_parameters. attempt with tol=1.000000013351432e-10\n",
      "estimate_dirichlet_parameters. state=10. success with tol=1.000000013351432e-10\n",
      "I am estimating the dirichlet parameters for the state 11\n",
      "estimate_dirichlet_parameters. attempt with tol=1.000000013351432e-10\n",
      "estimate_dirichlet_parameters. state=11. success with tol=1.000000013351432e-10\n",
      "I am estimating the dirichlet parameters for the state 12\n",
      "estimate_dirichlet_parameters. attempt with tol=1.000000013351432e-10\n",
      "estimate_dirichlet_parameters. state=12. success with tol=1.000000013351432e-10\n",
      "I am estimating the dirichlet parameters for the state 13\n",
      "estimate_dirichlet_parameters. attempt with tol=1.000000013351432e-10\n",
      "estimate_dirichlet_parameters. state=13. success with tol=1.000000013351432e-10\n",
      "I am estimating the dirichlet parameters for the state 14\n",
      "estimate_dirichlet_parameters. attempt with tol=1.000000013351432e-10\n",
      "estimate_dirichlet_parameters. state=14. success with tol=1.000000013351432e-10\n"
     ]
    }
   ],
   "source": [
    "dir_param=mle_estim.estimate_dirichlet_parameters(number_of_states,\n",
    "                    n_levels,states,volumes,tolerance,verbose)"
   ]
  },
  {
   "cell_type": "code",
   "execution_count": 17,
   "metadata": {},
   "outputs": [
    {
     "data": {
      "text/plain": [
       "array([[0.7039276 , 0.36663016, 1.88691266, 0.45468069],\n",
       "       [1.76764784, 1.56410014, 3.57362011, 2.19965356],\n",
       "       [1.80324913, 3.47610326, 5.03950499, 4.32779329],\n",
       "       [0.99427272, 7.04649004, 6.17537129, 7.86478626],\n",
       "       [0.46064678, 6.06483743, 2.22097552, 5.65521195],\n",
       "       [1.68951985, 0.35560893, 1.70843713, 0.68898937],\n",
       "       [5.16692545, 1.72611975, 6.66723808, 4.65339844],\n",
       "       [4.01889811, 4.15387306, 7.77893849, 7.60201168],\n",
       "       [1.64306015, 4.93897685, 4.27448464, 5.9899214 ],\n",
       "       [0.55798933, 2.81555622, 1.41841454, 3.3819862 ],\n",
       "       [2.97722574, 0.34863461, 2.76921908, 1.17660321],\n",
       "       [6.95127906, 1.04354641, 7.51660452, 5.62025043],\n",
       "       [3.64939434, 1.98604595, 4.40513898, 5.11786108],\n",
       "       [1.78843054, 2.11067483, 2.3892477 , 3.9269236 ],\n",
       "       [1.02285726, 2.99258476, 1.18962651, 6.83080786]])"
      ]
     },
     "execution_count": 17,
     "metadata": {},
     "output_type": "execute_result"
    }
   ],
   "source": [
    "dir_param"
   ]
  },
  {
   "cell_type": "code",
   "execution_count": null,
   "metadata": {},
   "outputs": [],
   "source": []
  }
 ],
 "metadata": {
  "kernelspec": {
   "display_name": "Python 3",
   "language": "python",
   "name": "python3"
  },
  "language_info": {
   "codemirror_mode": {
    "name": "ipython",
    "version": 3
   },
   "file_extension": ".py",
   "mimetype": "text/x-python",
   "name": "python",
   "nbconvert_exporter": "python",
   "pygments_lexer": "ipython3",
   "version": "3.7.4"
  }
 },
 "nbformat": 4,
 "nbformat_minor": 2
}
