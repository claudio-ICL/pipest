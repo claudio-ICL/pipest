{
 "cells": [
  {
   "cell_type": "code",
   "execution_count": 1,
   "metadata": {},
   "outputs": [],
   "source": [
    "import os\n",
    "root_path = os.path.dir('./')\n",
    "import sys\n",
    "sys.path.append('./resources/')\n",
    "sys.path.append('./modelling/')\n",
    "sys.path.append(root_path+'/lobster_for_sdhawkes/')"
   ]
  },
  {
   "cell_type": "code",
   "execution_count": 2,
   "metadata": {},
   "outputs": [],
   "source": [
    "import pickle\n",
    "import time\n",
    "import numpy as np\n",
    "from scipy.ndimage.interpolation import shift as array_shift\n",
    "import pandas as pd\n",
    "from scipy import stats\n",
    "import os\n",
    "import bisect\n",
    "import copy\n",
    "import plot_tools\n",
    "import matplotlib.pyplot as plt"
   ]
  },
  {
   "cell_type": "code",
   "execution_count": 3,
   "metadata": {},
   "outputs": [
    {
     "ename": "ModuleNotFoundError",
     "evalue": "No module named 'prepare_from_lobster'",
     "output_type": "error",
     "traceback": [
      "\u001b[0;31m---------------------------------------------------------------------------\u001b[0m",
      "\u001b[0;31mModuleNotFoundError\u001b[0m                       Traceback (most recent call last)",
      "\u001b[0;32m<ipython-input-3-fdd98e49915d>\u001b[0m in \u001b[0;36m<module>\u001b[0;34m\u001b[0m\n\u001b[1;32m      3\u001b[0m \u001b[0;32mimport\u001b[0m \u001b[0mcomputation\u001b[0m\u001b[0;34m\u001b[0m\u001b[0;34m\u001b[0m\u001b[0m\n\u001b[1;32m      4\u001b[0m \u001b[0;32mimport\u001b[0m \u001b[0msimulation\u001b[0m\u001b[0;34m\u001b[0m\u001b[0;34m\u001b[0m\u001b[0m\n\u001b[0;32m----> 5\u001b[0;31m \u001b[0;32mimport\u001b[0m \u001b[0mprepare_from_lobster\u001b[0m \u001b[0;32mas\u001b[0m \u001b[0mfrom_lobster\u001b[0m\u001b[0;34m\u001b[0m\u001b[0;34m\u001b[0m\u001b[0m\n\u001b[0m\u001b[1;32m      6\u001b[0m \u001b[0;32mimport\u001b[0m \u001b[0mgoodness_of_fit\u001b[0m\u001b[0;34m\u001b[0m\u001b[0;34m\u001b[0m\u001b[0m\n\u001b[1;32m      7\u001b[0m \u001b[0;32mimport\u001b[0m \u001b[0mmle_estimation\u001b[0m \u001b[0;32mas\u001b[0m \u001b[0mmle_estim\u001b[0m\u001b[0;34m\u001b[0m\u001b[0;34m\u001b[0m\u001b[0m\n",
      "\u001b[0;31mModuleNotFoundError\u001b[0m: No module named 'prepare_from_lobster'"
     ]
    }
   ],
   "source": [
    "import model as sd_hawkes_model\n",
    "import lob_model\n",
    "import computation\n",
    "import simulation\n",
    "import prepare_from_lobster as from_lobster\n",
    "import goodness_of_fit\n",
    "import mle_estimation as mle_estim\n",
    "import impact_profile"
   ]
  },
  {
   "cell_type": "code",
   "execution_count": null,
   "metadata": {},
   "outputs": [],
   "source": [
    "import seaborn  # for good-looking plots\n",
    "from IPython.display import set_matplotlib_formats  # set the figures format to svg\n",
    "set_matplotlib_formats('svg')\n",
    "%matplotlib inline\n",
    "from mpl_toolkits.mplot3d import Axes3D"
   ]
  },
  {
   "cell_type": "code",
   "execution_count": null,
   "metadata": {},
   "outputs": [],
   "source": [
    "n_states=[3,5]\n",
    "n_events = 4  # number of event types, $d_e$\n",
    "n_levels = 2\n",
    "upto_level = 2\n",
    "time_start=np.random.uniform()\n",
    "time_end=time_start+1.25*60*60\n",
    "model = sd_hawkes_model.sd_hawkes(\n",
    "    number_of_event_types=n_events,\n",
    "    number_of_lob_levels=n_levels,\n",
    "    list_of_n_states=n_states,\n",
    "    volume_imbalance_upto_level=upto_level)\n",
    "tot_n_states = model.state_enc.tot_n_states"
   ]
  },
  {
   "cell_type": "code",
   "execution_count": null,
   "metadata": {},
   "outputs": [],
   "source": [
    "# The transition probabilities $\\phi$\n",
    "phis = model.state_enc.generate_random_transition_prob(n_events=n_events).astype(np.float)\n",
    "\n",
    "# The base rates $\\nu$\n",
    "nus = 0.001510*np.random.randint(low=1,high=6,size=n_events)\n",
    "\n",
    "# The impact coefficients $\\alpha$\n",
    "alphas = np.random.uniform(0.0004,0.1875,size=(n_events, tot_n_states, n_events)).astype(np.float)\n",
    "\n",
    "\n",
    "# The decay coefficients $\\beta$\n",
    "betas = np.random.uniform(1.12725,1.90,size=(n_events, tot_n_states, n_events)).astype(np.float)\n",
    "\n",
    "\n",
    "# The Dirichlet parameters $\\gamma$\n",
    "gammas = np.random.uniform(low=1.5, high = 5.6,size=(tot_n_states,2*n_levels))\n",
    "\n"
   ]
  },
  {
   "cell_type": "code",
   "execution_count": null,
   "metadata": {},
   "outputs": [],
   "source": [
    "# symbol='INTC'\n",
    "# date='2019-01-15'\n",
    "# with open('./models/{}_{}_h_model'.format(symbol,date),'rb') as source:\n",
    "#     h_model=pickle.load(source)\n",
    "# with open('./models/{}_{}_orderBook_model'.format(symbol,date),'rb') as source:\n",
    "#     ob_model=pickle.load(source)\n",
    "# with open('./models/{}_{}_messageFile_model'.format(symbol,date),'rb') as source:\n",
    "#     mf_model=pickle.load(source)    "
   ]
  },
  {
   "cell_type": "code",
   "execution_count": null,
   "metadata": {},
   "outputs": [],
   "source": [
    "# phis = lob_model.correct_null_transition_prob(h_model.transition_probabilities)\n",
    "# nus=0.1*h_model.base_rates\n",
    "# alphas=0.5*h_model.impact_coefficients\n",
    "# betas=h_model.decay_coefficients\n",
    "# gammas=h_model.dirichlet_param\n"
   ]
  },
  {
   "cell_type": "code",
   "execution_count": null,
   "metadata": {},
   "outputs": [],
   "source": [
    "model.set_hawkes_parameters(nus,alphas,betas)\n",
    "model.set_dirichlet_parameters(gammas)\n",
    "model.set_transition_probabilities(phis)\n",
    "model.enforce_symmetry_in_transition_probabilities()"
   ]
  },
  {
   "cell_type": "code",
   "execution_count": null,
   "metadata": {},
   "outputs": [],
   "source": [
    "pre_times, pre_events, pre_states,pre_volumes = model.simulate(\n",
    "    time_start, time_end,max_number_of_events=10000,add_initial_cond=True,\n",
    "    store_results=True,report_full_volumes=False)\n",
    "time_end_antefact=np.array(pre_times[-1],copy=True)"
   ]
  },
  {
   "cell_type": "code",
   "execution_count": null,
   "metadata": {},
   "outputs": [],
   "source": [
    "print(pre_times.shape)\n",
    "print(pre_events.shape)\n",
    "print(pre_volumes.shape)"
   ]
  },
  {
   "cell_type": "code",
   "execution_count": null,
   "metadata": {},
   "outputs": [],
   "source": [
    "pre_intens_history= model.compute_history_of_intensities(\n",
    "    pre_times,\n",
    "    pre_events,\n",
    "    pre_states)\n",
    "pre_tilda_intens_history= model.compute_history_of_tilda_intensities(\n",
    "    pre_times,\n",
    "    pre_events,\n",
    "    pre_states)"
   ]
  },
  {
   "cell_type": "code",
   "execution_count": null,
   "metadata": {},
   "outputs": [],
   "source": [
    "low_limit=0\n",
    "up_limit=7200\n",
    "idx=np.logical_and(pre_times<up_limit,pre_times>low_limit)\n",
    "idx_history=np.logical_and(pre_intens_history[:,0]<up_limit,pre_intens_history[:,0]>low_limit)\n",
    "# fig=plot_tools.plot_events_and_intensities(\n",
    "#     1+pre_events[idx],pre_times[idx],pre_intens_history[idx_history,:],\n",
    "#     save_fig=False\n",
    "# )"
   ]
  },
  {
   "cell_type": "code",
   "execution_count": null,
   "metadata": {},
   "outputs": [],
   "source": [
    "states_2D=model.produce_2Dstates(pre_states)\n",
    "plot_tools.plot_events_and_states(pre_events+1,pre_times,pre_intens_history,states_2D,\n",
    "                                plot=True,\n",
    "                                save_fig=False,\n",
    "                                  name='events_and_states_traject'\n",
    "                               )"
   ]
  },
  {
   "cell_type": "code",
   "execution_count": null,
   "metadata": {},
   "outputs": [],
   "source": [
    "model.create_goodness_of_fit()\n",
    "model.goodness_of_fit.qq_plot_residuals(index_of_first_event_type=1)"
   ]
  },
  {
   "cell_type": "code",
   "execution_count": null,
   "metadata": {},
   "outputs": [],
   "source": [
    "model.goodness_of_fit.ks_test_on_residuals()"
   ]
  },
  {
   "cell_type": "code",
   "execution_count": null,
   "metadata": {},
   "outputs": [],
   "source": [
    "model.goodness_of_fit.ad_test_on_residuals()"
   ]
  },
  {
   "cell_type": "code",
   "execution_count": null,
   "metadata": {},
   "outputs": [],
   "source": [
    "# print(claudio)"
   ]
  },
  {
   "cell_type": "code",
   "execution_count": null,
   "metadata": {},
   "outputs": [],
   "source": [
    "model.volume_enc.rejection_sampling.is_target_equal_to_proposal"
   ]
  },
  {
   "cell_type": "code",
   "execution_count": null,
   "metadata": {},
   "outputs": [],
   "source": [
    "model.volume_enc.prob_volimb_constraint"
   ]
  },
  {
   "cell_type": "code",
   "execution_count": null,
   "metadata": {},
   "outputs": [],
   "source": [
    "# %timeit simulation.sample_volumes(2,model.volume_enc.rejection_sampling.proposal_dir_param,model.volume_enc.rejection_sampling.difference_of_dir_params, model.volume_enc.rejection_sampling.inverse_bound,model.volume_enc.rejection_sampling.is_target_equal_to_proposal,model.state_enc.num_of_st2, model.volume_enc.volimb_limits, upto_lim = 5)"
   ]
  },
  {
   "cell_type": "code",
   "execution_count": null,
   "metadata": {},
   "outputs": [],
   "source": [
    "# %timeit simulation.sample_volumes(5,model.volume_enc.rejection_sampling.proposal_dir_param,model.volume_enc.rejection_sampling.difference_of_dir_params, model.volume_enc.rejection_sampling.inverse_bound,model.volume_enc.rejection_sampling.is_target_equal_to_proposal,model.state_enc.num_of_st2, model.volume_enc.volimb_limits, upto_lim = 5)"
   ]
  },
  {
   "cell_type": "code",
   "execution_count": null,
   "metadata": {},
   "outputs": [],
   "source": [
    "# model.volume_enc.rejection_sampling.inverse_bound"
   ]
  },
  {
   "cell_type": "code",
   "execution_count": null,
   "metadata": {},
   "outputs": [],
   "source": [
    "# print(claudio)"
   ]
  },
  {
   "cell_type": "markdown",
   "metadata": {},
   "source": [
    "# Liquidation section\n"
   ]
  },
  {
   "cell_type": "code",
   "execution_count": null,
   "metadata": {},
   "outputs": [],
   "source": [
    "initial_condition_times=np.array(pre_times,copy=True)\n",
    "initial_condition_events=np.array(pre_events,copy=True)\n",
    "initial_condition_states=np.array(pre_states,copy=True)\n",
    "initial_condition_volumes=np.array(pre_volumes,copy=True)"
   ]
  },
  {
   "cell_type": "code",
   "execution_count": null,
   "metadata": {},
   "outputs": [],
   "source": [
    "initial_inventory=10\n",
    "liquidator_base_rate=np.amin(nus)\n",
    "liquidation_strategy='fraction_of_bid_side' # constant_rate or fraction_of_bid_side\n",
    "liquidator_control=0.2\n",
    "time_start=np.array(time_end_antefact+3.0,dtype=np.float,copy=True)\n",
    "time_end=np.array(time_start+2*60*60)"
   ]
  },
  {
   "cell_type": "code",
   "execution_count": null,
   "metadata": {},
   "outputs": [],
   "source": [
    "model.introduce_liquidator(initial_inventory=initial_inventory,\n",
    "                                 time_start=time_start,\n",
    "                                 liquidator_base_rate=liquidator_base_rate,\n",
    "                                 liquidator_control=liquidator_control)\n",
    "initial_condition_events+=1\n",
    "time_liquidation_starts=model.liquidator.time_start\n",
    "print(model.liquidator.initial_inventory)\n",
    "print(model.liquidator.base_rate)\n",
    "print(model.liquidator.control_type)"
   ]
  },
  {
   "cell_type": "code",
   "execution_count": null,
   "metadata": {},
   "outputs": [],
   "source": [
    "liquidator_base_rate=0.10\n",
    "model.configure_liquidator_param(\n",
    "    initial_inventory=initial_inventory,\n",
    "    liquidator_base_rate=liquidator_base_rate,\n",
    "    type_of_liquid='constant_intensity',\n",
    "    liquidator_control=liquidator_control)\n",
    "print(model.liquidator.initial_inventory)\n",
    "print(model.liquidator.base_rate)\n",
    "print(model.liquidator.control_type)\n",
    "print(np.linalg.norm(model.liquidator.imp_coef))"
   ]
  },
  {
   "cell_type": "code",
   "execution_count": null,
   "metadata": {},
   "outputs": [],
   "source": [
    "times, events, states, volumes, \\\n",
    "inventory, _=\\\n",
    "model.simulate_liquidation(\n",
    "    time_end,\n",
    "    initial_condition_events=initial_condition_events,\n",
    "    initial_condition_states=initial_condition_states,\n",
    "    initial_condition_times=initial_condition_times,\n",
    "    initial_condition_volumes=initial_condition_volumes,\n",
    "    verbose=True,\n",
    "    report_history_of_intensities = False,\n",
    "    store_results=True\n",
    ")\n",
    "print('\\n')\n",
    "print('times.shape={}'.format(times.shape))\n",
    "print('events.shape={}'.format(events.shape))\n",
    "print('states.shape={}'.format(states.shape))\n",
    "print('inventory.shape={}'.format(inventory.shape))"
   ]
  },
  {
   "cell_type": "code",
   "execution_count": null,
   "metadata": {},
   "outputs": [],
   "source": [
    "start_liquidation=time_liquidation_starts\n",
    "end_liquidation=model.liquidator.termination_time\n",
    "intens_history= model.compute_history_of_intensities(\n",
    "    times,\n",
    "    events,\n",
    "    states,\n",
    "    start_time_zero_event=start_liquidation,\n",
    "    end_time_zero_event=end_liquidation,\n",
    "    density_of_eval_points=10000,\n",
    ")\n",
    "print('intens_history.shape={}'.format(intens_history.shape))\n",
    "idx=intens_history[:,1]>0\n",
    "print(np.sum(idx))"
   ]
  },
  {
   "cell_type": "code",
   "execution_count": null,
   "metadata": {},
   "outputs": [],
   "source": [
    "plot_start_index=bisect.bisect_left(times,time_start)-5\n",
    "plot_end_index=np.argmin(inventory)+30\n",
    "# pd.Series(inventory[plot_start_index:plot_end_index]).plot()"
   ]
  },
  {
   "cell_type": "code",
   "execution_count": null,
   "metadata": {},
   "outputs": [],
   "source": [
    "# plot_tools.plot_liquidation(times,events,inventory,intens_history,\n",
    "#                             plot_start_index,plot_end_index,\n",
    "#                             save_fig=False)"
   ]
  },
  {
   "cell_type": "code",
   "execution_count": null,
   "metadata": {},
   "outputs": [],
   "source": [
    "df=model.state_enc.translate_labels(states)\n",
    "price=np.sum(np.abs(df['st_1'].values))+100+0.85*np.cumsum(df['st_1'].values-1)\n",
    "price=0.01*price"
   ]
  },
  {
   "cell_type": "code",
   "execution_count": null,
   "metadata": {},
   "outputs": [],
   "source": [
    "plot_tools.plot_liquidation_with_price(times,events,inventory,intens_history,price,\n",
    "                            plot_start_index,plot_end_index,\n",
    "                            save_fig=False,path='/home/claudio/Desktop/imperialMF_phdDay/pictures/',\n",
    "                            name='plot_liquidation_n'          )"
   ]
  },
  {
   "cell_type": "code",
   "execution_count": null,
   "metadata": {},
   "outputs": [],
   "source": [
    "# plot_tools.plot_liquidator_only(times,events,inventory,intens_history,price,\n",
    "#                             plot_start_index,plot_end_index,\n",
    "#                             save_fig=False,path='/home/claudio/Desktop/imperialMF_phdDay/pictures/',\n",
    "#                             name='plot_liquidator_4' )"
   ]
  },
  {
   "cell_type": "code",
   "execution_count": null,
   "metadata": {},
   "outputs": [],
   "source": [
    "# print(claudio)"
   ]
  },
  {
   "cell_type": "markdown",
   "metadata": {},
   "source": [
    "# Impact profile a\\` la Bacry-Muzy"
   ]
  },
  {
   "cell_type": "code",
   "execution_count": null,
   "metadata": {},
   "outputs": [],
   "source": [
    "bm_intensity, bm_profile=model.compute_bm_impact_profile(times,events,states,\n",
    "                                  inventory,\n",
    "                                  start_liquidation_time = time_liquidation_starts,\n",
    "                                  density_of_eval_points=10000)"
   ]
  },
  {
   "cell_type": "code",
   "execution_count": null,
   "metadata": {},
   "outputs": [],
   "source": [
    "# plot_tools.plot_bm_impact_profile(bm_profile,\n",
    "#                        bm_intensity,\n",
    "#                        time_start=time_liquidation_starts,\n",
    "#                        time_end=times[np.argmin(inventory)]+100,\n",
    "#                        save_fig=False,\n",
    "#                        path='/home/claudio/Desktop/imperialMF_phdDay/pictures/',\n",
    "#                        name='bm_impact_profile_3'          )"
   ]
  },
  {
   "cell_type": "code",
   "execution_count": null,
   "metadata": {},
   "outputs": [],
   "source": [
    "plot_tools.plot_bm_impact_profile_full_picture(bm_profile,\n",
    "                       times,events,inventory,intens_history,price,\n",
    "                       bm_intensity,\n",
    "                       time_start=time_liquidation_starts,\n",
    "                       time_end=times[np.argmin(inventory)]+100,\n",
    "                       save_fig=False,\n",
    "                       path='/home/claudio/Desktop/imperialMF_phdDay/pictures/',\n",
    "                       name='bm_impact_profile_full_3'                         )"
   ]
  },
  {
   "cell_type": "code",
   "execution_count": null,
   "metadata": {},
   "outputs": [],
   "source": [
    "print(claudio)"
   ]
  },
  {
   "cell_type": "code",
   "execution_count": null,
   "metadata": {},
   "outputs": [],
   "source": [
    "# model.set_transition_probabilities(phis_hat)\n",
    "# model.set_hawkes_parameters(nus_hat, alphas_hat, betas_hat)\n",
    "# model.set_dirichlet_parameters(gammas_hat)"
   ]
  },
  {
   "cell_type": "markdown",
   "metadata": {},
   "source": [
    "# One-sided impact profile"
   ]
  },
  {
   "cell_type": "code",
   "execution_count": null,
   "metadata": {},
   "outputs": [],
   "source": [
    "model.produce_impact_profile(num_init_guesses=4, maxiter=20)"
   ]
  },
  {
   "cell_type": "code",
   "execution_count": null,
   "metadata": {},
   "outputs": [],
   "source": [
    "model.impact.reduced_weakly_defl_pp.create_goodness_of_fit()"
   ]
  },
  {
   "cell_type": "code",
   "execution_count": null,
   "metadata": {},
   "outputs": [],
   "source": [
    "model.impact.reduced_weakly_defl_pp.goodness_of_fit.qq_plot_residuals(\n",
    "    tot_event_types=1, title_per_event_type=0, fig_suptitle='QQ plot residuals of reduced_weakly_defl_pp')"
   ]
  },
  {
   "cell_type": "code",
   "execution_count": null,
   "metadata": {},
   "outputs": [],
   "source": [
    "times=np.array(model.sampled_times,copy=True)\n",
    "states=np.array(model.sampled_states,copy=True)\n",
    "labelled_times = np.array(model.labelled_times,copy=True)\n",
    "count = np.array(model.count, copy=True)\n",
    "len_states=len(states)\n",
    "eval_time=np.random.uniform(low=model.liquidator.time_start+10,\n",
    "                            high=model.liquidator.termination_time,\n",
    "                           )\n",
    "print('eval_time={}'.format(eval_time))\n",
    "nu_zero=model.base_rates[0]\n",
    "\n",
    "t=np.random.uniform(low = 0.1, high = times[-100])\n",
    "P_T_geq_t=impact_profile.evaluate_anti_cdf_execution_horizon(t,nu_zero,model.liquidator.num_orders)\n",
    "print(t,P_T_geq_t)"
   ]
  },
  {
   "cell_type": "code",
   "execution_count": null,
   "metadata": {},
   "outputs": [],
   "source": [
    "run_time=-time.time()\n",
    "compensator=model.impact.evaluate_compensator_of_weakly_defl_pp(eval_time)\n",
    "expectation=model.impact.reduced_weakly_defl_pp.compute_expectation(eval_time)\n",
    "run_time+=time.time()\n",
    "print('compesator={}, expectation={}'.format(compensator,expectation))\n",
    "print('run_time={}'.format(run_time))"
   ]
  },
  {
   "cell_type": "code",
   "execution_count": null,
   "metadata": {},
   "outputs": [],
   "source": [
    "run_time=-time.time()\n",
    "res=model.impact.evaluate_impact_profile(eval_time)\n",
    "run_time+=time.time()\n",
    "print('run_time={}'.format(run_time))\n",
    "print(res)"
   ]
  },
  {
   "cell_type": "code",
   "execution_count": null,
   "metadata": {},
   "outputs": [],
   "source": [
    "T=np.random.uniform(low=model.sampled_times[10], high=model.sampled_times[150])\n",
    "print('T={}'.format(T))\n",
    "run_time=-time.time()\n",
    "res=model.impact.compute_imp_profile_history(T,num_extra_eval_points=5)\n",
    "run_time+=time.time()\n",
    "print('run_time={}'.format(run_time))\n",
    "print(res)"
   ]
  },
  {
   "cell_type": "code",
   "execution_count": null,
   "metadata": {},
   "outputs": [],
   "source": []
  },
  {
   "cell_type": "code",
   "execution_count": null,
   "metadata": {},
   "outputs": [],
   "source": [
    "plot_tools.plot_impact_profile(\n",
    "    res,\n",
    "    times,events,inventory,intens_history,price,\n",
    "    time_start=model.liquidator.time_start,\n",
    "    time_end=model.liquidator.termination_time,\n",
    "    save_fig=False,\n",
    "    path='/home/claudio/Desktop/imperialMF_phdDay/pictures/',\n",
    "    name='onesided_impact_profile'\n",
    ")"
   ]
  },
  {
   "cell_type": "code",
   "execution_count": null,
   "metadata": {},
   "outputs": [],
   "source": []
  },
  {
   "cell_type": "code",
   "execution_count": null,
   "metadata": {},
   "outputs": [],
   "source": []
  },
  {
   "cell_type": "code",
   "execution_count": null,
   "metadata": {},
   "outputs": [],
   "source": [
    "print(claudio)"
   ]
  },
  {
   "cell_type": "code",
   "execution_count": null,
   "metadata": {},
   "outputs": [],
   "source": [
    "p_prof=pd.Series(res[:,1],index=res[:,0])\n",
    "p_prof.plot()"
   ]
  },
  {
   "cell_type": "code",
   "execution_count": null,
   "metadata": {},
   "outputs": [],
   "source": []
  },
  {
   "cell_type": "code",
   "execution_count": null,
   "metadata": {},
   "outputs": [],
   "source": []
  },
  {
   "cell_type": "markdown",
   "metadata": {},
   "source": [
    "# Goodness of fit"
   ]
  },
  {
   "cell_type": "code",
   "execution_count": null,
   "metadata": {},
   "outputs": [],
   "source": [
    "model.create_goodness_of_fit()"
   ]
  },
  {
   "cell_type": "code",
   "execution_count": null,
   "metadata": {},
   "outputs": [],
   "source": [
    "model.goodness_of_fit.qq_plot_residuals()"
   ]
  },
  {
   "cell_type": "code",
   "execution_count": null,
   "metadata": {},
   "outputs": [],
   "source": []
  },
  {
   "cell_type": "code",
   "execution_count": null,
   "metadata": {},
   "outputs": [],
   "source": []
  },
  {
   "cell_type": "code",
   "execution_count": null,
   "metadata": {},
   "outputs": [],
   "source": []
  },
  {
   "cell_type": "code",
   "execution_count": null,
   "metadata": {},
   "outputs": [],
   "source": []
  },
  {
   "cell_type": "markdown",
   "metadata": {},
   "source": [
    "# Simulation with power kernel"
   ]
  },
  {
   "cell_type": "code",
   "execution_count": null,
   "metadata": {},
   "outputs": [],
   "source": [
    "number_of_states"
   ]
  },
  {
   "cell_type": "code",
   "execution_count": null,
   "metadata": {},
   "outputs": [],
   "source": [
    "n_events = 4  \n",
    "number_of_event_types= 4\n",
    "number_of_states = tot_n_states\n",
    "n_levels = 2\n",
    "times=np.array([0.001],dtype=np.float)\n",
    "init_times=np.atleast_1d(times)\n",
    "events=np.array([0],dtype=np.int)\n",
    "init_events=np.atleast_1d(events)\n",
    "states = np.array([0],dtype=np.int)\n",
    "init_states=np.atleast_1d(states)\n",
    "volumes = np.ones((1,2*n_levels),dtype=np.float)\n",
    "init_volumes = np.atleast_2d(volumes)\n",
    "time_start = times[-1]+np.random.uniform(low=1,high=3)\n",
    "time_end = time_start + 4*60*60\n",
    "max_number_of_events = 7000\n",
    "print('I will start the simulation')\n",
    "times,events,states,volumes=\\\n",
    "lob_hs_power.launch_simulation(number_of_event_types,\n",
    "                      number_of_states,\n",
    "                      n_levels,\n",
    "                      nus, alphas, betas, phis, gammas,\n",
    "                      init_times, init_events, init_states,\n",
    "                      init_volumes,\n",
    "                      time_start,\n",
    "                      time_end,\n",
    "                      max_number_of_events,\n",
    "                      add_initial_cond=False,\n",
    "                      num_preconditions = 1,         \n",
    "                      largest_negative_time = -100.0,\n",
    "                      initialise_intensity_on_history = 1)\n",
    "if events.shape[0]>=max_number_of_events:\n",
    "    time_end = times[-1]\n",
    "labelled_times, count = power_cython.distribute_times_per_event_state(\n",
    "        number_of_event_types,number_of_states,\n",
    "        times,events, states)    \n",
    "print('Simulation terminated\\n')"
   ]
  },
  {
   "cell_type": "code",
   "execution_count": null,
   "metadata": {},
   "outputs": [],
   "source": [
    "g_fit = goodness_of_fit.good_fit(number_of_event_types,\n",
    "                            number_of_states,\n",
    "                            nus,\n",
    "                            alphas,\n",
    "                            betas,\n",
    "                            phis,     \n",
    "                            times,\n",
    "                            events,\n",
    "                            states)"
   ]
  },
  {
   "cell_type": "code",
   "execution_count": null,
   "metadata": {},
   "outputs": [],
   "source": [
    "with open('../imperialMF_phdDay/goodfit_mle','rb') as source:\n",
    "    g_fit=pickle.load(source)"
   ]
  },
  {
   "cell_type": "code",
   "execution_count": null,
   "metadata": {},
   "outputs": [],
   "source": [
    "g_fit.ks_test_on_residuals()\n",
    "# g_fit.ks_test_on_total_residuals()"
   ]
  },
  {
   "cell_type": "code",
   "execution_count": null,
   "metadata": {},
   "outputs": [],
   "source": [
    "g_fit.ad_test_on_residuals()"
   ]
  },
  {
   "cell_type": "code",
   "execution_count": null,
   "metadata": {},
   "outputs": [],
   "source": [
    "g_fit.qq_plot_residuals(save_fig=True,\n",
    "                        path='/home/claudio/latex_files/imperialMF_phdDay/pictures/',\n",
    "                        name='qq_plot_res_mle')"
   ]
  },
  {
   "cell_type": "code",
   "execution_count": null,
   "metadata": {},
   "outputs": [],
   "source": [
    "g_fit.qq_plot_total_residuals()"
   ]
  },
  {
   "cell_type": "code",
   "execution_count": null,
   "metadata": {},
   "outputs": [],
   "source": [
    "g_fit.qq_plot_omnibus()"
   ]
  },
  {
   "cell_type": "code",
   "execution_count": null,
   "metadata": {},
   "outputs": [],
   "source": []
  },
  {
   "cell_type": "code",
   "execution_count": null,
   "metadata": {},
   "outputs": [],
   "source": []
  },
  {
   "cell_type": "code",
   "execution_count": null,
   "metadata": {},
   "outputs": [],
   "source": []
  },
  {
   "cell_type": "code",
   "execution_count": null,
   "metadata": {},
   "outputs": [],
   "source": []
  },
  {
   "cell_type": "markdown",
   "metadata": {},
   "source": [
    "# Section 3"
   ]
  },
  {
   "cell_type": "code",
   "execution_count": null,
   "metadata": {},
   "outputs": [],
   "source": [
    "n_events=np.array(n_events,dtype=int)\n",
    "tot_n_states=np.array(tot_n_states,dtype=int)\n",
    "number_of_event_types=n_events\n",
    "number_of_states=tot_n_states"
   ]
  },
  {
   "cell_type": "code",
   "execution_count": null,
   "metadata": {},
   "outputs": [],
   "source": [
    "s=times[np.random.randint(1,len(times)//2)]+np.random.normal(loc=0,scale=10)\n",
    "t=times[np.random.randint(len(times)-10,len(times)-1)]+np.random.normal(loc=0,scale=10)\n",
    "u=np.random.uniform(low=t,high=np.amax(times)+10)\n",
    "time_start = times[3]\n",
    "time_end = times[-2]\n",
    "run_time = -time.time()\n",
    "labelled_times,count=power_cython.distribute_times_per_event_state(\n",
    "            number_of_event_types,\n",
    "            number_of_states,\n",
    "            times,\n",
    "            events,\n",
    "            states) \n",
    "run_time+=time.time()\n",
    "print('run_time={} seconds'.format(run_time))"
   ]
  },
  {
   "cell_type": "code",
   "execution_count": null,
   "metadata": {},
   "outputs": [],
   "source": [
    "residuals=power_cython.compute_residuals(number_of_event_types,\n",
    "                            number_of_states,\n",
    "                            nus,\n",
    "                            alphas,\n",
    "                            betas,\n",
    "                            times,\n",
    "                            events,\n",
    "                            states)"
   ]
  },
  {
   "cell_type": "code",
   "execution_count": null,
   "metadata": {},
   "outputs": [],
   "source": [
    "g_fit = goodness_of_fit.good_fit(number_of_event_types,\n",
    "                            number_of_states,\n",
    "                            nus,\n",
    "                            alphas,\n",
    "                            betas,\n",
    "                            times,\n",
    "                            events,\n",
    "                            states)"
   ]
  },
  {
   "cell_type": "code",
   "execution_count": null,
   "metadata": {},
   "outputs": [],
   "source": [
    "# new_ev = 0\n",
    "# new_state = 0\n",
    "# arr_time= 130119992\n",
    "# print(count[new_ev,new_state])\n",
    "# print(labelled_times[new_ev,new_state,count[new_ev,new_state]-3:count[new_ev,new_state]])\n",
    "# new_lt, new_count = power_cython.update_labelled_times(arr_time, new_ev, new_state,\n",
    "#                                                        labelled_times,count)\n",
    "# print(count[new_ev,new_state])\n",
    "# print(new_count[new_ev,new_state])\n",
    "# print(labelled_times[new_ev,new_state,count[new_ev,new_state]-3:count[new_ev,new_state]])\n",
    "# print(new_lt[new_ev,new_state,new_count[new_ev,new_state]-3:new_count[new_ev,new_state]])"
   ]
  },
  {
   "cell_type": "code",
   "execution_count": null,
   "metadata": {},
   "outputs": [],
   "source": [
    "run_time = -time.time()\n",
    "intensity=power_cython.compute_intensities(t,\n",
    "                               times,\n",
    "                               events,\n",
    "                               states,\n",
    "                               nus,\n",
    "                               alphas,\n",
    "                               betas\n",
    "                              )\n",
    "run_time+=time.time()\n",
    "sum_int=np.sum(intensity)\n",
    "print('intensity =  \\n {}'.format(intensity))\n",
    "print('sum_int={}'.format(sum_int))\n",
    "print('run_time={} seconds'.format(run_time))"
   ]
  },
  {
   "cell_type": "code",
   "execution_count": null,
   "metadata": {},
   "outputs": [],
   "source": [
    "run_time = -time.time()\n",
    "intensity=power_cython.compute_intensities_given_lt(t,\n",
    "                             labelled_times,count,\n",
    "                             nus,alphas,betas\n",
    "                            )\n",
    "run_time+=time.time()\n",
    "sum_int=np.sum(intensity)\n",
    "print('intensity =  \\n {}'.format(intensity))\n",
    "print('sum_int={}'.format(sum_int))\n",
    "print('run_time={} seconds'.format(run_time))"
   ]
  },
  {
   "cell_type": "code",
   "execution_count": null,
   "metadata": {},
   "outputs": [],
   "source": [
    "run_time = -time.time()\n",
    "intensity=power_cython.compute_intensity(t,\n",
    "                               times,\n",
    "                               events,\n",
    "                               states,\n",
    "                               nus,\n",
    "                               alphas,\n",
    "                               betas\n",
    "                              )\n",
    "run_time+=time.time()\n",
    "print('intensity =  \\n {}'.format(intensity))\n",
    "print('run_time={} seconds'.format(run_time))"
   ]
  },
  {
   "cell_type": "code",
   "execution_count": null,
   "metadata": {},
   "outputs": [],
   "source": [
    "ESSE=np.zeros((number_of_event_types,number_of_states,number_of_event_types))\n",
    "ESSE_one=np.zeros((number_of_event_types,number_of_states,number_of_event_types))\n",
    "for e in range(n_events):\n",
    "    run_time = -time.time()\n",
    "    ESSE[:,:,e],ESSE_one[:,:,e]=\\\n",
    "    power_cython.compute_ESSE_partial_and_ESSE_one_partial(t, s,\n",
    "                             alphas[:,:,e],\n",
    "                             labelled_times,\n",
    "                             count                 \n",
    "                            )\n",
    "    run_time+=time.time()\n",
    "    print('event_type={}, run_time={} seconds'.format(e,run_time))\n",
    "    "
   ]
  },
  {
   "cell_type": "code",
   "execution_count": null,
   "metadata": {},
   "outputs": [],
   "source": [
    "ESSE_1=np.zeros((number_of_event_types,number_of_states,number_of_event_types))\n",
    "ESSE_one_1=np.zeros((number_of_event_types,number_of_states,number_of_event_types))\n",
    "for e in range(n_events):\n",
    "    run_time = -time.time()\n",
    "    ESSE_1[:,:,e],ESSE_one_1[:,:,e]=\\\n",
    "    power_cython.compute_ESSE_partial_and_ESSE_one_partial_plain(t, s,\n",
    "                             alphas[:,:,e],\n",
    "                             labelled_times,\n",
    "                             count                 \n",
    "                            )\n",
    "    run_time+=time.time()\n",
    "    print('event_type={}, run_time={} seconds'.format(e,run_time))\n",
    "    "
   ]
  },
  {
   "cell_type": "code",
   "execution_count": null,
   "metadata": {},
   "outputs": [],
   "source": [
    "np.all(ESSE==ESSE_1)"
   ]
  },
  {
   "cell_type": "code",
   "execution_count": null,
   "metadata": {},
   "outputs": [],
   "source": [
    "ratios=alphas/(betas-1)\n",
    "run_time = -time.time()\n",
    "S=power_cython.compute_ESSE(t,s,betas,labelled_times)\n",
    "S_3=power_cython.compute_ESSE_three(u,t,s,betas,labelled_times)\n",
    "run_time+=time.time()\n",
    "print('run_time={} seconds'.format(run_time))\n",
    "print('|S|={}'.format(np.linalg.norm(S)))\n",
    "print('|S_3|={}'.format(np.linalg.norm(S_3)))"
   ]
  },
  {
   "cell_type": "code",
   "execution_count": null,
   "metadata": {},
   "outputs": [],
   "source": [
    "print(np.all(labelled_times>=-1))\n",
    "print(time_start)"
   ]
  },
  {
   "cell_type": "code",
   "execution_count": null,
   "metadata": {},
   "outputs": [],
   "source": [
    "for e in range(n_events):\n",
    "    run_time = -time.time()\n",
    "    l_plus, grad_base_rate, grad_imp_coef, grad_dec_coef=\\\n",
    "    power_cython.compute_l_plus_partial_and_gradient_partial(\n",
    "        e,time_start,\n",
    "        nus[e],\n",
    "        alphas[:,:,e],\n",
    "        betas[:,:,e],\n",
    "        labelled_times,count)\n",
    "    run_time+=time.time()\n",
    "    print('event_type={}, run_time={} seconds'.format(e,run_time))\n",
    "    print('l_plus={}'.format(l_plus))"
   ]
  },
  {
   "cell_type": "code",
   "execution_count": null,
   "metadata": {},
   "outputs": [],
   "source": [
    "for e in range(n_events):\n",
    "    run_time = -time.time()\n",
    "    l_plus_1, grad_base_rate_1, grad_imp_coef_1, grad_dec_coef_1=\\\n",
    "    hp_nogil.compute_l_plus_partial_and_gradient_partial(\n",
    "        e,time_start,\n",
    "        nus[e],\n",
    "        alphas[:,:,e],\n",
    "        betas[:,:,e],\n",
    "        labelled_times,count)\n",
    "    run_time+=time.time()\n",
    "    print('event_type={}, run_time={} seconds'.format(e,run_time))\n",
    "    print('l_plus_1={}'.format(l_plus_1))"
   ]
  },
  {
   "cell_type": "code",
   "execution_count": null,
   "metadata": {},
   "outputs": [],
   "source": [
    "print(l_plus)\n",
    "print(l_plus_1)"
   ]
  },
  {
   "cell_type": "code",
   "execution_count": null,
   "metadata": {},
   "outputs": [],
   "source": [
    "\n",
    "print(np.isclose(l_plus,l_plus_1))"
   ]
  },
  {
   "cell_type": "code",
   "execution_count": null,
   "metadata": {},
   "outputs": [],
   "source": [
    "for e in range(n_events):\n",
    "    run_time = -time.time()\n",
    "    event_type=np.array(e,dtype=int)\n",
    "    log_likelihood,gradient = power_cython.compute_event_loglikelihood_partial_and_gradient_partial(\n",
    "        event_type,\n",
    "        nus[e],\n",
    "        alphas[:,:,e],\n",
    "        betas[:,:,e],\n",
    "        labelled_times,\n",
    "        count,\n",
    "        time_start,\n",
    "        time_end)\n",
    "    run_time+=time.time()\n",
    "    print('events.shape={}, run_time={} seconds'.format(events.shape,run_time))\n",
    "    print('event_type={},log_likelihood={}, but I am also computing gradients \\n'\n",
    "          .format(event_type,log_likelihood))"
   ]
  },
  {
   "cell_type": "markdown",
   "metadata": {},
   "source": [
    "# Minimisation section"
   ]
  },
  {
   "cell_type": "code",
   "execution_count": null,
   "metadata": {},
   "outputs": [],
   "source": [
    "from minimisation_alg import minimisation_procedure as min_proced"
   ]
  },
  {
   "cell_type": "code",
   "execution_count": null,
   "metadata": {},
   "outputs": [],
   "source": [
    "maxiter=25\n",
    "e=0\n",
    "event_type=np.array(e,dtype=int)\n",
    "minim=min_proced(labelled_times,\n",
    "                 count,\n",
    "                 time_start,\n",
    "                 time_end,\n",
    "                 n_events,\n",
    "                 tot_n_states,\n",
    "                 event_type,\n",
    "                 learning_rate=0.05,\n",
    "                 maxiter=maxiter\n",
    "                )\n"
   ]
  },
  {
   "cell_type": "code",
   "execution_count": null,
   "metadata": {},
   "outputs": [],
   "source": [
    "# init_guesses = 2*np.ones((1+2*n_events*tot_n_states,2),dtype=np.float)\n",
    "init_guesses = 2*np.random.uniform(low=1,high=4,size=(1+2*n_events*tot_n_states,4))\n",
    "list_initguesses = list(init_guesses.T)\n",
    "run_time=-time.time()\n",
    "minim.parallel_minimisation(list_initguesses,return_results=False)\n",
    "run_time+=time.time()\n",
    "print('\\n')\n",
    "print('run_time={} seconds'.format(run_time))"
   ]
  },
  {
   "cell_type": "code",
   "execution_count": null,
   "metadata": {},
   "outputs": [],
   "source": [
    "x_min=minim.minimiser\n",
    "print(x_min)"
   ]
  },
  {
   "cell_type": "code",
   "execution_count": null,
   "metadata": {},
   "outputs": [],
   "source": [
    "history=minim.grad_descent_history\n",
    "pd.Series(history[:]).plot()"
   ]
  },
  {
   "cell_type": "code",
   "execution_count": null,
   "metadata": {},
   "outputs": [],
   "source": [
    "history"
   ]
  },
  {
   "cell_type": "code",
   "execution_count": null,
   "metadata": {},
   "outputs": [],
   "source": []
  },
  {
   "cell_type": "code",
   "execution_count": null,
   "metadata": {},
   "outputs": [],
   "source": []
  },
  {
   "cell_type": "code",
   "execution_count": null,
   "metadata": {},
   "outputs": [],
   "source": [
    "events_intc=events.astype(np.intc)\n",
    "states_intc=states.astype(np.intc)\n",
    "tot_n_states=np.array(tot_n_states,dtype=np.intc)\n",
    "n_events = np.array(n_events,dtype=np.intc)\n",
    "run_time=-time.time()\n",
    "phi_hat=mle_estim.estimate_transition_probabilities(n_events,tot_n_states,events_intc,states_intc)\n",
    "run_time+=time.time()\n",
    "print('\\n')\n",
    "print('run_time={} seconds'.format(run_time))"
   ]
  },
  {
   "cell_type": "code",
   "execution_count": null,
   "metadata": {},
   "outputs": [],
   "source": [
    "run_time=-time.time()\n",
    "base_rate,imp_coef,dec_coef=mle_estim.pre_estimate_ordinary_hawkes(1,n_events,\n",
    "                             times,events,\n",
    "                             time_start,time_end\n",
    "                            )\n",
    "run_time+=time.time()\n",
    "print('\\n')\n",
    "print('run_time={} seconds'.format(run_time))"
   ]
  },
  {
   "cell_type": "code",
   "execution_count": null,
   "metadata": {},
   "outputs": [],
   "source": [
    "run_time=-time.time()\n",
    "base_rate=mle_estim.pre_guess_base_rate(\n",
    "    2,\n",
    "    times,\n",
    "    events,\n",
    "    time_start,\n",
    "    time_end)\n",
    "run_time+=time.time()\n",
    "print('\\n')\n",
    "print('run_time={} seconds'.format(run_time))\n",
    "print('initial guess base_rate = {}'.format(base_rate))"
   ]
  },
  {
   "cell_type": "code",
   "execution_count": null,
   "metadata": {},
   "outputs": [],
   "source": [
    "from scipy.stats import dirichlet as scipy_dirichlet"
   ]
  },
  {
   "cell_type": "code",
   "execution_count": null,
   "metadata": {},
   "outputs": [],
   "source": [
    "dir_param=np.array([1., 1.2, 1.3, 3.0])\n",
    "n_levels=2\n",
    "constraint=np.array([-0.2,+0.32],dtype=np.float)\n",
    "computation.compute_probability_of_volimb_constraint(n_levels, constraint,dir_param,N_samples=99999)"
   ]
  },
  {
   "cell_type": "code",
   "execution_count": null,
   "metadata": {},
   "outputs": [],
   "source": [
    "model.state_enc.volimb_limits"
   ]
  },
  {
   "cell_type": "code",
   "execution_count": null,
   "metadata": {},
   "outputs": [],
   "source": [
    "alpha=np.array(model.dirichlet_param,copy=True)\n",
    "masses= computation.produce_dirichlet_masses(alpha)\n",
    "print(alpha.shape,masses.shape)"
   ]
  },
  {
   "cell_type": "code",
   "execution_count": null,
   "metadata": {},
   "outputs": [],
   "source": [
    "masses"
   ]
  },
  {
   "cell_type": "code",
   "execution_count": null,
   "metadata": {},
   "outputs": [],
   "source": [
    "alpha"
   ]
  },
  {
   "cell_type": "code",
   "execution_count": null,
   "metadata": {},
   "outputs": [],
   "source": [
    "import sympy as sp"
   ]
  },
  {
   "cell_type": "code",
   "execution_count": null,
   "metadata": {},
   "outputs": [],
   "source": [
    "g_1, g_2, g_3=sp.symbols('g_1 g_2 g_3')\n",
    "x,y,z=sp.symbols('x y z')\n",
    "system=[g_1*x + y +z -1,x+g_2*y+z-1,x+y+g_3*z-1]\n",
    "sp.linsolve(system,(x,y,z))"
   ]
  },
  {
   "cell_type": "code",
   "execution_count": null,
   "metadata": {},
   "outputs": [],
   "source": [
    "def compute_maximiser_unnormalised_beta_density( exponents):\n",
    "    N = len(exponents)-1\n",
    "    idx_diag = np.diag_indices(N)\n",
    "    A = np.ones((N,N),dtype=np.float)\n",
    "    diag_entries = (exponents[:N] + exponents[N])/exponents[:N]\n",
    "    print(diag_entries)\n",
    "    A[idx_diag] = diag_entries\n",
    "    print(A)\n",
    "    b = np.ones(N,dtype=np.float)\n",
    "    result = np.zeros(N+1,dtype=np.float)\n",
    "    result[:N] = np.linalg.solve(A,b)\n",
    "    result[N]= 1- np.sum(result[:N])\n",
    "    return result "
   ]
  },
  {
   "cell_type": "code",
   "execution_count": null,
   "metadata": {},
   "outputs": [],
   "source": [
    "alpha = np.random.uniform(low=0.01, high=2, size=4)\n",
    "print('alpha={}'.format(alpha))\n",
    "mode = (alpha - 1)/(np.sum(alpha)-len(alpha))\n",
    "maximiser = computation.compute_maximiser_unnormalised_beta_density(-1+alpha)"
   ]
  },
  {
   "cell_type": "code",
   "execution_count": null,
   "metadata": {},
   "outputs": [],
   "source": [
    "mode"
   ]
  },
  {
   "cell_type": "code",
   "execution_count": null,
   "metadata": {},
   "outputs": [],
   "source": [
    "maximiser"
   ]
  },
  {
   "cell_type": "code",
   "execution_count": null,
   "metadata": {},
   "outputs": [],
   "source": [
    "np.sum(mode)"
   ]
  },
  {
   "cell_type": "code",
   "execution_count": null,
   "metadata": {},
   "outputs": [],
   "source": [
    "np.sum(maximiser)"
   ]
  },
  {
   "cell_type": "code",
   "execution_count": null,
   "metadata": {},
   "outputs": [],
   "source": [
    "scipy_dirichlet.pdf(mode,alpha)"
   ]
  },
  {
   "cell_type": "code",
   "execution_count": null,
   "metadata": {},
   "outputs": [],
   "source": [
    "scipy_dirichlet.pdf(maximiser,alpha)"
   ]
  },
  {
   "cell_type": "code",
   "execution_count": null,
   "metadata": {},
   "outputs": [],
   "source": [
    "model.state_enc.df_state_enc"
   ]
  },
  {
   "cell_type": "code",
   "execution_count": null,
   "metadata": {},
   "outputs": [],
   "source": [
    "model.state_enc.volimb_limits"
   ]
  },
  {
   "cell_type": "code",
   "execution_count": null,
   "metadata": {},
   "outputs": [],
   "source": [
    "arr= np.random.randint(low=0, high=10, size = 54)\n",
    "arr"
   ]
  },
  {
   "cell_type": "code",
   "execution_count": null,
   "metadata": {},
   "outputs": [],
   "source": [
    "arr[1:20:2]"
   ]
  },
  {
   "cell_type": "code",
   "execution_count": null,
   "metadata": {},
   "outputs": [],
   "source": [
    "arr[1:55:2]"
   ]
  },
  {
   "cell_type": "code",
   "execution_count": null,
   "metadata": {},
   "outputs": [],
   "source": [
    "t_st= np.array([2,0],dtype=int)\n",
    "table=model.state_enc.arr_state_enc\n",
    "print(t_st)\n",
    "print(table)"
   ]
  },
  {
   "cell_type": "code",
   "execution_count": null,
   "metadata": {},
   "outputs": [],
   "source": [
    "idx=np.sum(table[:,1:]==t_st,axis=1)==2\n",
    "table[idx,0]"
   ]
  },
  {
   "cell_type": "code",
   "execution_count": null,
   "metadata": {},
   "outputs": [],
   "source": [
    "table[idx,0][0]"
   ]
  },
  {
   "cell_type": "code",
   "execution_count": null,
   "metadata": {},
   "outputs": [],
   "source": [
    "table[0,1]"
   ]
  },
  {
   "cell_type": "code",
   "execution_count": null,
   "metadata": {},
   "outputs": [],
   "source": [
    "\n",
    "idx"
   ]
  },
  {
   "cell_type": "code",
   "execution_count": null,
   "metadata": {},
   "outputs": [],
   "source": [
    "A[idx]"
   ]
  },
  {
   "cell_type": "code",
   "execution_count": null,
   "metadata": {},
   "outputs": [],
   "source": [
    "module.volume_"
   ]
  }
 ],
 "metadata": {
  "kernelspec": {
   "display_name": "Python 3",
   "language": "python",
   "name": "python3"
  },
  "language_info": {
   "codemirror_mode": {
    "name": "ipython",
    "version": 3
   },
   "file_extension": ".py",
   "mimetype": "text/x-python",
   "name": "python",
   "nbconvert_exporter": "python",
   "pygments_lexer": "ipython3",
   "version": "3.7.4"
  }
 },
 "nbformat": 4,
 "nbformat_minor": 2
}
