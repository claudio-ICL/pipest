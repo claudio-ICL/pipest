{
 "cells": [
  {
   "cell_type": "code",
   "execution_count": 1,
   "metadata": {},
   "outputs": [],
   "source": [
    "import sys\n",
    "import os\n",
    "path_pipest = os.path.abspath('./')\n",
    "n=0\n",
    "while (not os.path.basename(path_pipest)=='pipest') and (n<4):\n",
    "    path_pipest=os.path.dirname(path_pipest)\n",
    "    n+=1 \n",
    "if not os.path.basename(path_pipest)=='pipest':\n",
    "    print(\"path_pipest not found. Instead: {}\".format(path_pipest))\n",
    "    raise ValueError(\"path_pipest not found.\")\n",
    "path_models=path_pipest+'/models'    \n",
    "path_sdhawkes=path_pipest+'/sdhawkes_powerlaw'\n",
    "path_modelling = path_sdhawkes+'/modelling'\n",
    "path_resources = path_sdhawkes+'/resources'\n",
    "path_lobster=path_pipest+'/lobster_for_sdhawkes'\n",
    "path_lobster_data=path_lobster+'/data'\n",
    "path_lobster_pyscripts=path_lobster+'/py_scripts'\n",
    "path_tests = path_pipest+'/tests'\n",
    "path_saved_tests = path_tests+'/saved_tests'\n",
    "sys.path.append(path_modelling)\n",
    "import numpy as np\n",
    "import pandas as pd\n",
    "import pickle\n",
    "import datetime\n",
    "import time\n",
    "import datetime\n",
    "import model as sd_hawkes_model\n",
    "import measure_exectime"
   ]
  },
  {
   "cell_type": "code",
   "execution_count": 2,
   "metadata": {},
   "outputs": [
    {
     "name": "stderr",
     "output_type": "stream",
     "text": [
      "/home/claudio/anaconda3/lib/python3.7/site-packages/sklearn/utils/deprecation.py:144: FutureWarning: The sklearn.linear_model.ridge module is  deprecated in version 0.22 and will be removed in version 0.24. The corresponding classes / functions should instead be imported from sklearn.linear_model. Anything that cannot be imported from sklearn.linear_model is now part of the private API.\n",
      "  warnings.warn(message, FutureWarning)\n",
      "/home/claudio/anaconda3/lib/python3.7/site-packages/sklearn/base.py:318: UserWarning: Trying to unpickle estimator Ridge from version 0.21.1 when using version 0.22.1. This might lead to breaking code or invalid results. Use at your own risk.\n",
      "  UserWarning)\n"
     ]
    }
   ],
   "source": [
    "with open(path_saved_tests+'/performance-test_2020-04-07_1936/perf-test_model_2020-04-07_1936', 'rb') as source:\n",
    "    model=pickle.load(source)"
   ]
  },
  {
   "cell_type": "code",
   "execution_count": 3,
   "metadata": {},
   "outputs": [
    {
     "data": {
      "text/plain": [
       "'performance_test_2020-04-07_1936'"
      ]
     },
     "execution_count": 3,
     "metadata": {},
     "output_type": "execute_result"
    }
   ],
   "source": [
    "model.name_of_model"
   ]
  },
  {
   "cell_type": "code",
   "execution_count": null,
   "metadata": {},
   "outputs": [],
   "source": []
  },
  {
   "cell_type": "code",
   "execution_count": 4,
   "metadata": {},
   "outputs": [
    {
     "name": "stdout",
     "output_type": "stream",
     "text": [
      "PerformanceMeasure is being initialised on model.name_of_model=performance_test_2020-04-07_1936\n",
      "d_E=4; d_S=15\n",
      "Number of simulated LOB events: 19901\n"
     ]
    }
   ],
   "source": [
    "meas = measure_exectime.PerformanceMeasure(model)\n",
    "print(\"d_E={}; d_S={}\".format(meas.model.number_of_event_types, meas.model.number_of_states))\n",
    "print(\"Number of simulated LOB events: {}\".format(len(meas.model.simulated_events)))"
   ]
  },
  {
   "cell_type": "code",
   "execution_count": 5,
   "metadata": {},
   "outputs": [
    {
     "name": "stdout",
     "output_type": "stream",
     "text": [
      "3.73 s ± 11.9 ms per loop (mean ± std. dev. of 2 runs, 5 loops each)\n"
     ]
    }
   ],
   "source": [
    "%%timeit -n 5 -r 2\n",
    "meas.target_loglikelihood(1, use_prange=False)"
   ]
  },
  {
   "cell_type": "code",
   "execution_count": 6,
   "metadata": {},
   "outputs": [
    {
     "name": "stdout",
     "output_type": "stream",
     "text": [
      "1.43 s ± 5.74 ms per loop (mean ± std. dev. of 2 runs, 5 loops each)\n"
     ]
    }
   ],
   "source": [
    "%%timeit -n 5 -r 2\n",
    "meas.target_loglikelihood(1, use_prange=True)"
   ]
  },
  {
   "cell_type": "code",
   "execution_count": 7,
   "metadata": {},
   "outputs": [
    {
     "name": "stdout",
     "output_type": "stream",
     "text": [
      "5.89 ms ± 2.81 ms per loop (mean ± std. dev. of 2 runs, 5 loops each)\n"
     ]
    }
   ],
   "source": [
    "%%timeit -n 5 -r 2\n",
    "meas.target_intensities(use_fast=False)"
   ]
  },
  {
   "cell_type": "code",
   "execution_count": 8,
   "metadata": {},
   "outputs": [
    {
     "name": "stdout",
     "output_type": "stream",
     "text": [
      "4.56 ms ± 1.28 ms per loop (mean ± std. dev. of 2 runs, 5 loops each)\n"
     ]
    }
   ],
   "source": [
    "%%timeit -n 5 -r 2\n",
    "meas.target_intensities(use_fast=True)"
   ]
  },
  {
   "cell_type": "code",
   "execution_count": null,
   "metadata": {},
   "outputs": [],
   "source": []
  }
 ],
 "metadata": {
  "kernelspec": {
   "display_name": "Python 3",
   "language": "python",
   "name": "python3"
  },
  "language_info": {
   "codemirror_mode": {
    "name": "ipython",
    "version": 3
   },
   "file_extension": ".py",
   "mimetype": "text/x-python",
   "name": "python",
   "nbconvert_exporter": "python",
   "pygments_lexer": "ipython3",
   "version": "3.7.6"
  }
 },
 "nbformat": 4,
 "nbformat_minor": 4
}
