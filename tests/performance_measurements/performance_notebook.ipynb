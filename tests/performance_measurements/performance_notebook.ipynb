{
 "cells": [
  {
   "cell_type": "code",
   "execution_count": 1,
   "metadata": {},
   "outputs": [
    {
     "name": "stdout",
     "output_type": "stream",
     "text": [
      "openmp.omp_get_max_threads(): 4\n",
      "openmp.omp_get_max_threads(): 4\n"
     ]
    }
   ],
   "source": [
    "import sys\n",
    "import os\n",
    "path_pipest = os.path.abspath('./')\n",
    "n=0\n",
    "while (not os.path.basename(path_pipest)=='pipest') and (n<4):\n",
    "    path_pipest=os.path.dirname(path_pipest)\n",
    "    n+=1 \n",
    "if not os.path.basename(path_pipest)=='pipest':\n",
    "    print(\"path_pipest not found. Instead: {}\".format(path_pipest))\n",
    "    raise ValueError(\"path_pipest not found.\")\n",
    "path_models=path_pipest+'/models'    \n",
    "path_sdhawkes=path_pipest+'/sdhawkes_powerlaw'\n",
    "path_modelling = path_sdhawkes+'/modelling'\n",
    "path_resources = path_sdhawkes+'/resources'\n",
    "path_lobster=path_pipest+'/lobster_for_sdhawkes'\n",
    "path_lobster_data=path_lobster+'/data'\n",
    "path_lobster_pyscripts=path_lobster+'/py_scripts'\n",
    "path_tests = path_pipest+'/tests'\n",
    "path_saved_tests = path_tests+'/saved_tests'\n",
    "sys.path.append(path_modelling)\n",
    "import numpy as np\n",
    "import pandas as pd\n",
    "import pickle\n",
    "import datetime\n",
    "import time\n",
    "import datetime\n",
    "import timeit\n",
    "import model as sd_hawkes_model\n",
    "import measure_exectime"
   ]
  },
  {
   "cell_type": "code",
   "execution_count": null,
   "metadata": {},
   "outputs": [],
   "source": []
  },
  {
   "cell_type": "code",
   "execution_count": 2,
   "metadata": {},
   "outputs": [
    {
     "name": "stdout",
     "output_type": "stream",
     "text": [
      "PerformanceMeasure is being initialised on model.name_of_model=test_model_2020-04-12_0738\n",
      "posix.uname_result(sysname='Linux', nodename='claudio-HP-EliteBook-850-G3', release='5.3.0-46-generic', version='#38~18.04.1-Ubuntu SMP Tue Mar 31 04:17:56 UTC 2020', machine='x86_64')\n",
      "Number of cpus: 4\n",
      "\n",
      "Model's key features:\n",
      "d_E=4; d_S=15\n",
      "Number of simulated LOB events: 19958\n"
     ]
    },
    {
     "name": "stderr",
     "output_type": "stream",
     "text": [
      "/home/claudio/anaconda3/lib/python3.7/site-packages/sklearn/utils/deprecation.py:144: FutureWarning: The sklearn.linear_model.ridge module is  deprecated in version 0.22 and will be removed in version 0.24. The corresponding classes / functions should instead be imported from sklearn.linear_model. Anything that cannot be imported from sklearn.linear_model is now part of the private API.\n",
      "  warnings.warn(message, FutureWarning)\n",
      "/home/claudio/anaconda3/lib/python3.7/site-packages/sklearn/base.py:318: UserWarning: Trying to unpickle estimator Ridge from version 0.21.1 when using version 0.22.1. This might lead to breaking code or invalid results. Use at your own risk.\n",
      "  UserWarning)\n"
     ]
    }
   ],
   "source": [
    "date_time=\"2020-04-12_0738\"\n",
    "with open(path_saved_tests+'/perf-test_{}/'.format(date_time)+'test_model_'+date_time, 'rb') as source:\n",
    "    model=pickle.load(source)\n",
    "meas = measure_exectime.PerformanceMeasure(model)\n",
    "print(\"Number of cpus: {}\".format(os.cpu_count()))\n",
    "print(\"\\nModel's key features:\")\n",
    "print(\"d_E={}; d_S={}\".format(meas.model.number_of_event_types, meas.model.number_of_states))\n",
    "print(\"Number of simulated LOB events: {}\".format(len(meas.model.simulated_events)))"
   ]
  },
  {
   "cell_type": "code",
   "execution_count": 3,
   "metadata": {},
   "outputs": [],
   "source": [
    "#select component of multivariate Hawkes process e=0,...,d_E-1\n",
    "e = 0"
   ]
  },
  {
   "cell_type": "code",
   "execution_count": 4,
   "metadata": {},
   "outputs": [
    {
     "name": "stdout",
     "output_type": "stream",
     "text": [
      "3.37 s ± 50.8 ms per loop (mean ± std. dev. of 3 runs, 5 loops each)\n"
     ]
    }
   ],
   "source": [
    "%%timeit -n 5 -r 3\n",
    "meas.target_loglikelihood(e, use_prange=False)"
   ]
  },
  {
   "cell_type": "code",
   "execution_count": 5,
   "metadata": {},
   "outputs": [
    {
     "name": "stdout",
     "output_type": "stream",
     "text": [
      "1.26 s ± 5.1 ms per loop (mean ± std. dev. of 3 runs, 5 loops each)\n"
     ]
    }
   ],
   "source": [
    "%%timeit -n 5 -r 3\n",
    "meas.target_loglikelihood(e, use_prange=True)"
   ]
  }
 ],
 "metadata": {
  "kernelspec": {
   "display_name": "Python 3",
   "language": "python",
   "name": "python3"
  },
  "language_info": {
   "codemirror_mode": {
    "name": "ipython",
    "version": 3
   },
   "file_extension": ".py",
   "mimetype": "text/x-python",
   "name": "python",
   "nbconvert_exporter": "python",
   "pygments_lexer": "ipython3",
   "version": "3.7.6"
  }
 },
 "nbformat": 4,
 "nbformat_minor": 4
}
