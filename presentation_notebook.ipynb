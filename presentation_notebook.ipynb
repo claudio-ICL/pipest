{
 "cells": [
  {
   "cell_type": "code",
   "execution_count": 1,
   "metadata": {},
   "outputs": [],
   "source": [
    "import sys\n",
    "import os\n",
    "sys.path.append('./pipest/')\n",
    "import numpy as np\n",
    "import pandas as pd\n",
    "import pickle\n",
    "import datetime\n",
    "import time\n",
    "import datetime\n",
    "import timeit\n",
    "#import pipest\n",
    "#import plot_tools"
   ]
  },
  {
   "cell_type": "code",
   "execution_count": 2,
   "metadata": {},
   "outputs": [],
   "source": [
    "import pipest"
   ]
  },
  {
   "cell_type": "code",
   "execution_count": 5,
   "metadata": {},
   "outputs": [
    {
     "ename": "AttributeError",
     "evalue": "module 'pipest' has no attribute 'sdhawkes'",
     "output_type": "error",
     "traceback": [
      "\u001b[0;31m---------------------------------------------------------------------------\u001b[0m",
      "\u001b[0;31mAttributeError\u001b[0m                            Traceback (most recent call last)",
      "\u001b[0;32m<ipython-input-5-e1f84701812f>\u001b[0m in \u001b[0;36m<module>\u001b[0;34m\u001b[0m\n\u001b[0;32m----> 1\u001b[0;31m \u001b[0mpipest\u001b[0m\u001b[0;34m.\u001b[0m\u001b[0msdhawkes\u001b[0m\u001b[0;34m\u001b[0m\u001b[0;34m\u001b[0m\u001b[0m\n\u001b[0m",
      "\u001b[0;31mAttributeError\u001b[0m: module 'pipest' has no attribute 'sdhawkes'"
     ]
    }
   ],
   "source": [
    "pipest.sdhawkes"
   ]
  },
  {
   "cell_type": "code",
   "execution_count": 3,
   "metadata": {},
   "outputs": [
    {
     "ename": "NameError",
     "evalue": "name 'sd_hawkes_model' is not defined",
     "output_type": "error",
     "traceback": [
      "\u001b[0;31m---------------------------------------------------------------------------\u001b[0m",
      "\u001b[0;31mNameError\u001b[0m                                 Traceback (most recent call last)",
      "\u001b[0;32m<ipython-input-3-e00a078eaf33>\u001b[0m in \u001b[0;36m<module>\u001b[0;34m\u001b[0m\n\u001b[1;32m      5\u001b[0m \u001b[0mtime_start\u001b[0m\u001b[0;34m=\u001b[0m\u001b[0;36m0.0\u001b[0m\u001b[0;34m\u001b[0m\u001b[0;34m\u001b[0m\u001b[0m\n\u001b[1;32m      6\u001b[0m \u001b[0mtime_end\u001b[0m\u001b[0;34m=\u001b[0m\u001b[0mtime_start\u001b[0m\u001b[0;34m+\u001b[0m\u001b[0;36m1.0\u001b[0m\u001b[0;34m*\u001b[0m\u001b[0;36m60\u001b[0m \u001b[0;31m# one minute\u001b[0m\u001b[0;34m\u001b[0m\u001b[0;34m\u001b[0m\u001b[0m\n\u001b[0;32m----> 7\u001b[0;31m model = sd_hawkes_model.SDHawkes(\n\u001b[0m\u001b[1;32m      8\u001b[0m     \u001b[0mnumber_of_event_types\u001b[0m\u001b[0;34m=\u001b[0m\u001b[0mn_events\u001b[0m\u001b[0;34m,\u001b[0m \u001b[0mlist_of_n_states\u001b[0m\u001b[0;34m=\u001b[0m\u001b[0mn_states\u001b[0m\u001b[0;34m,\u001b[0m\u001b[0;34m\u001b[0m\u001b[0;34m\u001b[0m\u001b[0m\n\u001b[1;32m      9\u001b[0m     number_of_lob_levels=n_levels, volume_imbalance_upto_level=upto_level)\n",
      "\u001b[0;31mNameError\u001b[0m: name 'sd_hawkes_model' is not defined"
     ]
    }
   ],
   "source": [
    "n_states=[3,5] \n",
    "n_events = 4  # number of event types, $d_E$\n",
    "n_levels = 2\n",
    "upto_level = 2\n",
    "time_start=0.0\n",
    "time_end=time_start+1.0*60 # one minute\n",
    "model = sd_hawkes_model.SDHawkes(\n",
    "    number_of_event_types=n_events, list_of_n_states=n_states,\n",
    "    number_of_lob_levels=n_levels, volume_imbalance_upto_level=upto_level)"
   ]
  },
  {
   "cell_type": "code",
   "execution_count": null,
   "metadata": {},
   "outputs": [],
   "source": [
    "d_E=model.number_of_event_types\n",
    "d_S=model.number_of_states\n",
    "print(\"d_E={}; d_S={}\".format(d_E,d_S))"
   ]
  },
  {
   "cell_type": "code",
   "execution_count": null,
   "metadata": {},
   "outputs": [],
   "source": [
    "model.volume_enc.volimb_limits"
   ]
  },
  {
   "cell_type": "code",
   "execution_count": null,
   "metadata": {},
   "outputs": [],
   "source": [
    "model.state_enc.df_state_enc"
   ]
  },
  {
   "cell_type": "markdown",
   "metadata": {},
   "source": [
    "Assign arbitrary values to the Hawkes parameters $\\nu_{e}$, $\\alpha_{e',x',e}$ and $\\beta_{e',x',e}$"
   ]
  },
  {
   "cell_type": "code",
   "execution_count": null,
   "metadata": {},
   "outputs": [],
   "source": [
    "nus = np.array([0.0,0.0,1.0,1.0],dtype=np.float)\n",
    "alphas = np.maximum(\n",
    "    np.concatenate(\n",
    "        [0.2*np.ones((d_E,d_S,d_E//2),dtype=np.float),np.zeros((d_E,d_S,d_E-d_E//2),dtype=np.float)],\n",
    "        axis=2),\n",
    "    np.random.uniform(-0.5,0.5,size=(d_E, d_S, d_E))\n",
    ")\n",
    "betas = np.exp(np.minimum(2.0,np.random.uniform(0.0001,4.0,size=(d_E, d_S, d_E))))\n",
    "model.set_hawkes_parameters(nus,alphas,betas)"
   ]
  },
  {
   "cell_type": "markdown",
   "metadata": {},
   "source": [
    "Assign arbitrary values to the transition matrices $\\phi_{e}$, for $e=0,\\dots,d_E -1$"
   ]
  },
  {
   "cell_type": "code",
   "execution_count": null,
   "metadata": {},
   "outputs": [],
   "source": [
    "phis = model.state_enc.generate_random_transition_prob(n_events=d_E)\n",
    "model.set_transition_probabilities(phis)"
   ]
  },
  {
   "cell_type": "markdown",
   "metadata": {},
   "source": [
    "Assign arbitrary values to the Dirichlet parameters $\\gamma_{x}$ for $x = 0,\\dots,d_{S}-1$"
   ]
  },
  {
   "cell_type": "code",
   "execution_count": null,
   "metadata": {},
   "outputs": [],
   "source": [
    "gammas = np.random.uniform(low=1.5, high = 5.6,size=(d_S,2*n_levels))\n",
    "model.set_dirichlet_parameters(gammas)"
   ]
  },
  {
   "cell_type": "code",
   "execution_count": null,
   "metadata": {
    "scrolled": true
   },
   "outputs": [],
   "source": [
    "model.simulate(time_start, time_end,\n",
    "               max_number_of_events=10000,\n",
    "               add_initial_cond=True,store_results=True, report_full_volumes=False)"
   ]
  },
  {
   "cell_type": "code",
   "execution_count": null,
   "metadata": {},
   "outputs": [],
   "source": [
    "model.store_history_of_intensities(density_of_eval_points=5000)"
   ]
  },
  {
   "cell_type": "code",
   "execution_count": null,
   "metadata": {},
   "outputs": [],
   "source": [
    "model.plot_events_and_states(t_0=28.5,t_1=35.0)"
   ]
  },
  {
   "cell_type": "code",
   "execution_count": null,
   "metadata": {},
   "outputs": [],
   "source": [
    "model.plot_events_and_states()"
   ]
  },
  {
   "cell_type": "code",
   "execution_count": null,
   "metadata": {},
   "outputs": [],
   "source": [
    "model.plot_intensities()"
   ]
  },
  {
   "cell_type": "code",
   "execution_count": null,
   "metadata": {},
   "outputs": [],
   "source": []
  }
 ],
 "metadata": {
  "kernelspec": {
   "display_name": "Python 3",
   "language": "python",
   "name": "python3"
  },
  "language_info": {
   "codemirror_mode": {
    "name": "ipython",
    "version": 3
   },
   "file_extension": ".py",
   "mimetype": "text/x-python",
   "name": "python",
   "nbconvert_exporter": "python",
   "pygments_lexer": "ipython3",
   "version": "3.7.6"
  }
 },
 "nbformat": 4,
 "nbformat_minor": 4
}
